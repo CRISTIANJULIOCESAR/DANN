{
  "cells": [
    {
      "cell_type": "markdown",
      "metadata": {
        "id": "view-in-github",
        "colab_type": "text"
      },
      "source": [
        "<a href=\"https://colab.research.google.com/github/CRISTIANJULIOCESAR/DANN/blob/main/sin_el_dann_cv_shaps_global.ipynb\" target=\"_parent\"><img src=\"https://colab.research.google.com/assets/colab-badge.svg\" alt=\"Open In Colab\"/></a>"
      ]
    },
    {
      "cell_type": "code",
      "execution_count": 1,
      "metadata": {
        "colab": {
          "base_uri": "https://localhost:8080/"
        },
        "id": "OlJ6yuF0BjFD",
        "outputId": "02a31120-7579-4c68-8919-9861a8b08133"
      },
      "outputs": [
        {
          "output_type": "stream",
          "name": "stdout",
          "text": [
            "Mounted at /content/drive\n"
          ]
        }
      ],
      "source": [
        "from google.colab import drive\n",
        "drive.mount('/content/drive')"
      ]
    },
    {
      "cell_type": "code",
      "execution_count": 2,
      "metadata": {
        "id": "HJLu2ikTCNMG"
      },
      "outputs": [],
      "source": [
        "import os\n",
        "import glob\n",
        "\n",
        "def clear_previous_features(directory):\n",
        "    # Eliminar todos los archivos .pkl en el directorio especificado\n",
        "    files = glob.glob(os.path.join(directory, '*.pkl'))\n",
        "    for f in files:\n",
        "        try:\n",
        "            os.remove(f)\n",
        "            print(f'Eliminado: {f}')\n",
        "        except Exception as e:\n",
        "            print(f'No se pudo eliminar {f}. Error: {str(e)}')\n",
        "\n",
        "# Directorio donde guardas las características\n",
        "save_dir = \"/content/drive/MyDrive/PANCANCER FINAL\"\n",
        "\n",
        "# Llamada a la función para limpiar los archivos previos\n",
        "clear_previous_features(save_dir)\n"
      ]
    },
    {
      "cell_type": "code",
      "execution_count": 3,
      "metadata": {
        "colab": {
          "base_uri": "https://localhost:8080/"
        },
        "id": "iDp30KkrlbdE",
        "outputId": "ef776156-2b81-492b-bb3a-bc9f0697b68e"
      },
      "outputs": [
        {
          "output_type": "stream",
          "name": "stdout",
          "text": [
            "Número de núcleos de CPU: 12\n"
          ]
        }
      ],
      "source": [
        "import os\n",
        "\n",
        "# Obtener el número de núcleos\n",
        "num_cores = os.cpu_count()\n",
        "print(f\"Número de núcleos de CPU: {num_cores}\")\n"
      ]
    },
    {
      "cell_type": "code",
      "execution_count": 4,
      "metadata": {
        "colab": {
          "base_uri": "https://localhost:8080/"
        },
        "id": "m8iOpx6ykSp4",
        "outputId": "21af41eb-515d-4f5c-aeba-2397efa7abd0"
      },
      "outputs": [
        {
          "output_type": "stream",
          "name": "stdout",
          "text": [
            "GPU en uso: NVIDIA L4\n",
            "Memoria total de la GPU: 22.17 GB\n"
          ]
        }
      ],
      "source": [
        "import torch\n",
        "\n",
        "if torch.cuda.is_available():\n",
        "    gpu_name = torch.cuda.get_device_name(0)\n",
        "    print(f\"GPU en uso: {gpu_name}\")\n",
        "    print(f\"Memoria total de la GPU: {torch.cuda.get_device_properties(0).total_memory / (1024 ** 3):.2f} GB\")\n",
        "else:\n",
        "    print(\"No se encontró una GPU disponible.\")\n"
      ]
    },
    {
      "cell_type": "code",
      "execution_count": 5,
      "metadata": {
        "colab": {
          "base_uri": "https://localhost:8080/"
        },
        "id": "C0iwEniT3k32",
        "outputId": "859283e3-28d1-4004-b336-bf298e5d2d7e"
      },
      "outputs": [
        {
          "output_type": "stream",
          "name": "stdout",
          "text": [
            "Collecting umap-learn\n",
            "  Downloading umap_learn-0.5.6-py3-none-any.whl.metadata (21 kB)\n",
            "Collecting shap\n",
            "  Downloading shap-0.46.0-cp310-cp310-manylinux_2_12_x86_64.manylinux2010_x86_64.manylinux_2_17_x86_64.manylinux2014_x86_64.whl.metadata (24 kB)\n",
            "Requirement already satisfied: numpy>=1.17 in /usr/local/lib/python3.10/dist-packages (from umap-learn) (1.26.4)\n",
            "Requirement already satisfied: scipy>=1.3.1 in /usr/local/lib/python3.10/dist-packages (from umap-learn) (1.13.1)\n",
            "Requirement already satisfied: scikit-learn>=0.22 in /usr/local/lib/python3.10/dist-packages (from umap-learn) (1.3.2)\n",
            "Requirement already satisfied: numba>=0.51.2 in /usr/local/lib/python3.10/dist-packages (from umap-learn) (0.60.0)\n",
            "Collecting pynndescent>=0.5 (from umap-learn)\n",
            "  Downloading pynndescent-0.5.13-py3-none-any.whl.metadata (6.8 kB)\n",
            "Requirement already satisfied: tqdm in /usr/local/lib/python3.10/dist-packages (from umap-learn) (4.66.5)\n",
            "Requirement already satisfied: pandas in /usr/local/lib/python3.10/dist-packages (from shap) (2.1.4)\n",
            "Requirement already satisfied: packaging>20.9 in /usr/local/lib/python3.10/dist-packages (from shap) (24.1)\n",
            "Collecting slicer==0.0.8 (from shap)\n",
            "  Downloading slicer-0.0.8-py3-none-any.whl.metadata (4.0 kB)\n",
            "Requirement already satisfied: cloudpickle in /usr/local/lib/python3.10/dist-packages (from shap) (2.2.1)\n",
            "Requirement already satisfied: llvmlite<0.44,>=0.43.0dev0 in /usr/local/lib/python3.10/dist-packages (from numba>=0.51.2->umap-learn) (0.43.0)\n",
            "Requirement already satisfied: joblib>=0.11 in /usr/local/lib/python3.10/dist-packages (from pynndescent>=0.5->umap-learn) (1.4.2)\n",
            "Requirement already satisfied: threadpoolctl>=2.0.0 in /usr/local/lib/python3.10/dist-packages (from scikit-learn>=0.22->umap-learn) (3.5.0)\n",
            "Requirement already satisfied: python-dateutil>=2.8.2 in /usr/local/lib/python3.10/dist-packages (from pandas->shap) (2.8.2)\n",
            "Requirement already satisfied: pytz>=2020.1 in /usr/local/lib/python3.10/dist-packages (from pandas->shap) (2024.1)\n",
            "Requirement already satisfied: tzdata>=2022.1 in /usr/local/lib/python3.10/dist-packages (from pandas->shap) (2024.1)\n",
            "Requirement already satisfied: six>=1.5 in /usr/local/lib/python3.10/dist-packages (from python-dateutil>=2.8.2->pandas->shap) (1.16.0)\n",
            "Downloading umap_learn-0.5.6-py3-none-any.whl (85 kB)\n",
            "\u001b[2K   \u001b[90m━━━━━━━━━━━━━━━━━━━━━━━━━━━━━━━━━━━━━━━━\u001b[0m \u001b[32m85.7/85.7 kB\u001b[0m \u001b[31m6.3 MB/s\u001b[0m eta \u001b[36m0:00:00\u001b[0m\n",
            "\u001b[?25hDownloading shap-0.46.0-cp310-cp310-manylinux_2_12_x86_64.manylinux2010_x86_64.manylinux_2_17_x86_64.manylinux2014_x86_64.whl (540 kB)\n",
            "\u001b[2K   \u001b[90m━━━━━━━━━━━━━━━━━━━━━━━━━━━━━━━━━━━━━━━━\u001b[0m \u001b[32m540.1/540.1 kB\u001b[0m \u001b[31m22.3 MB/s\u001b[0m eta \u001b[36m0:00:00\u001b[0m\n",
            "\u001b[?25hDownloading slicer-0.0.8-py3-none-any.whl (15 kB)\n",
            "Downloading pynndescent-0.5.13-py3-none-any.whl (56 kB)\n",
            "\u001b[2K   \u001b[90m━━━━━━━━━━━━━━━━━━━━━━━━━━━━━━━━━━━━━━━━\u001b[0m \u001b[32m56.9/56.9 kB\u001b[0m \u001b[31m5.4 MB/s\u001b[0m eta \u001b[36m0:00:00\u001b[0m\n",
            "\u001b[?25hInstalling collected packages: slicer, shap, pynndescent, umap-learn\n",
            "Successfully installed pynndescent-0.5.13 shap-0.46.0 slicer-0.0.8 umap-learn-0.5.6\n",
            "/bin/bash: line 1: pytorch-lamb: command not found\n"
          ]
        }
      ],
      "source": [
        "!pip install umap-learn shap\n",
        "!pytorch-lamb"
      ]
    },
    {
      "cell_type": "code",
      "execution_count": 6,
      "metadata": {
        "colab": {
          "base_uri": "https://localhost:8080/",
          "height": 1000
        },
        "id": "Vj50wHuU5w-S",
        "outputId": "ae8e241f-3e74-4fdd-9a5e-8df5db56ba56"
      },
      "outputs": [
        {
          "output_type": "execute_result",
          "data": {
            "text/plain": [
              "                                      Unnamed: 0  \\\n",
              "file_id                                            \n",
              "9fe7d0f4-866d-490f-b2cb-d9be7da889de        7001   \n",
              "dd74434f-300f-4798-8342-aad31b192e12        8001   \n",
              "07db9e9d-059d-4e6c-b483-81517a492b96        1001   \n",
              "47ee860a-fd18-48f2-bfe7-4e19391950bd        2001   \n",
              "e322b0e5-458a-4cbf-a64f-9b348e413939        5001   \n",
              "...                                          ...   \n",
              "62cb41b1-8960-4fa2-8f74-38dd174af004        3999   \n",
              "673a85f3-ba5e-448a-acee-dfec77b5238e        8000   \n",
              "3d93b2ae-7730-4914-af23-ff3554752922        9000   \n",
              "85a0b88f-2b89-4117-9e04-b81fad7f2e1b        4000   \n",
              "a512642f-b720-4efb-a4e9-49b746980809       11000   \n",
              "\n",
              "                                                           data_type  \\\n",
              "file_id                                                                \n",
              "9fe7d0f4-866d-490f-b2cb-d9be7da889de  Gene Expression Quantification   \n",
              "dd74434f-300f-4798-8342-aad31b192e12  Gene Expression Quantification   \n",
              "07db9e9d-059d-4e6c-b483-81517a492b96  Gene Expression Quantification   \n",
              "47ee860a-fd18-48f2-bfe7-4e19391950bd  Gene Expression Quantification   \n",
              "e322b0e5-458a-4cbf-a64f-9b348e413939  Gene Expression Quantification   \n",
              "...                                                              ...   \n",
              "62cb41b1-8960-4fa2-8f74-38dd174af004  Gene Expression Quantification   \n",
              "673a85f3-ba5e-448a-acee-dfec77b5238e  Gene Expression Quantification   \n",
              "3d93b2ae-7730-4914-af23-ff3554752922  Gene Expression Quantification   \n",
              "85a0b88f-2b89-4117-9e04-b81fad7f2e1b  Gene Expression Quantification   \n",
              "a512642f-b720-4efb-a4e9-49b746980809  Gene Expression Quantification   \n",
              "\n",
              "                                                      updated_datetime  \\\n",
              "file_id                                                                  \n",
              "9fe7d0f4-866d-490f-b2cb-d9be7da889de  2016-05-26T20:51:28.753650-05:00   \n",
              "dd74434f-300f-4798-8342-aad31b192e12  2016-05-26T21:04:47.187859-05:00   \n",
              "07db9e9d-059d-4e6c-b483-81517a492b96  2016-05-26T21:04:48.015693-05:00   \n",
              "47ee860a-fd18-48f2-bfe7-4e19391950bd  2016-05-26T21:04:48.692729-05:00   \n",
              "e322b0e5-458a-4cbf-a64f-9b348e413939  2016-05-26T21:04:49.266949-05:00   \n",
              "...                                                                ...   \n",
              "62cb41b1-8960-4fa2-8f74-38dd174af004  2016-06-01T23:31:30.205560-05:00   \n",
              "673a85f3-ba5e-448a-acee-dfec77b5238e  2016-06-01T23:31:30.867514-05:00   \n",
              "3d93b2ae-7730-4914-af23-ff3554752922  2016-06-01T23:31:31.468195-05:00   \n",
              "85a0b88f-2b89-4117-9e04-b81fad7f2e1b  2016-06-01T23:31:32.108278-05:00   \n",
              "a512642f-b720-4efb-a4e9-49b746980809  2016-06-01T23:31:32.780942-05:00   \n",
              "\n",
              "                                                                              file_name  \\\n",
              "file_id                                                                                   \n",
              "9fe7d0f4-866d-490f-b2cb-d9be7da889de  1db2cfc5-346d-4398-9dd4-8b92435059fd.htseq.cou...   \n",
              "dd74434f-300f-4798-8342-aad31b192e12  5f4cf592-e135-43ff-9c11-bcba462626d3.htseq.cou...   \n",
              "07db9e9d-059d-4e6c-b483-81517a492b96  aa4a76e4-5348-479c-8beb-3e4e34e18ce9.htseq.cou...   \n",
              "47ee860a-fd18-48f2-bfe7-4e19391950bd  0c172934-64ff-44dc-bdba-4c738f5692ea.htseq.cou...   \n",
              "e322b0e5-458a-4cbf-a64f-9b348e413939  3025ad45-1d29-4c05-b90f-3d4a348c82c6.htseq.cou...   \n",
              "...                                                                                 ...   \n",
              "62cb41b1-8960-4fa2-8f74-38dd174af004  1ef78255-1b5c-42af-aa81-128c1b009114.htseq.cou...   \n",
              "673a85f3-ba5e-448a-acee-dfec77b5238e  d07c7238-807f-48b1-bf06-deaa6200f4aa.htseq.cou...   \n",
              "3d93b2ae-7730-4914-af23-ff3554752922  3c5b65ad-998a-4124-814f-760de89f05d0.htseq.cou...   \n",
              "85a0b88f-2b89-4117-9e04-b81fad7f2e1b  9146cb7b-e388-41b4-aa5f-a9a571abdc40.htseq.cou...   \n",
              "a512642f-b720-4efb-a4e9-49b746980809  4690efed-5d11-4191-addb-8d290ddc063a.htseq.cou...   \n",
              "\n",
              "                                                                md5sum  \\\n",
              "file_id                                                                  \n",
              "9fe7d0f4-866d-490f-b2cb-d9be7da889de  bff9318f04ad067bccc0fbd2d31b45f1   \n",
              "dd74434f-300f-4798-8342-aad31b192e12  92cf7b5b7f0a0f5dfa02919c586b72c7   \n",
              "07db9e9d-059d-4e6c-b483-81517a492b96  503fa39eb3a770b869ab0c4297fd0d43   \n",
              "47ee860a-fd18-48f2-bfe7-4e19391950bd  c61b88a22488a1a0d2fb3e7739db0b32   \n",
              "e322b0e5-458a-4cbf-a64f-9b348e413939  d279845ef0505630cf5a2ee4b1be5cac   \n",
              "...                                                                ...   \n",
              "62cb41b1-8960-4fa2-8f74-38dd174af004  4e139effd7c17a3b6f8c8a2dcf1ba2f5   \n",
              "673a85f3-ba5e-448a-acee-dfec77b5238e  b07dddd077d9db4f26b3e2ae066555c4   \n",
              "3d93b2ae-7730-4914-af23-ff3554752922  2046f591b06fa9eafb79d667f7942795   \n",
              "85a0b88f-2b89-4117-9e04-b81fad7f2e1b  3f9eb3df2d87fa3cb50dc7eec6766f2d   \n",
              "a512642f-b720-4efb-a4e9-49b746980809  d1a9a8b8095b01769048904ac8379037   \n",
              "\n",
              "                                                data_category  \\\n",
              "file_id                                                         \n",
              "9fe7d0f4-866d-490f-b2cb-d9be7da889de  Transcriptome Profiling   \n",
              "dd74434f-300f-4798-8342-aad31b192e12  Transcriptome Profiling   \n",
              "07db9e9d-059d-4e6c-b483-81517a492b96  Transcriptome Profiling   \n",
              "47ee860a-fd18-48f2-bfe7-4e19391950bd  Transcriptome Profiling   \n",
              "e322b0e5-458a-4cbf-a64f-9b348e413939  Transcriptome Profiling   \n",
              "...                                                       ...   \n",
              "62cb41b1-8960-4fa2-8f74-38dd174af004  Transcriptome Profiling   \n",
              "673a85f3-ba5e-448a-acee-dfec77b5238e  Transcriptome Profiling   \n",
              "3d93b2ae-7730-4914-af23-ff3554752922  Transcriptome Profiling   \n",
              "85a0b88f-2b89-4117-9e04-b81fad7f2e1b  Transcriptome Profiling   \n",
              "a512642f-b720-4efb-a4e9-49b746980809  Transcriptome Profiling   \n",
              "\n",
              "                                     experimental_strategy project  \\\n",
              "file_id                                                              \n",
              "9fe7d0f4-866d-490f-b2cb-d9be7da889de               RNA-Seq    TCGA   \n",
              "dd74434f-300f-4798-8342-aad31b192e12               RNA-Seq    TCGA   \n",
              "07db9e9d-059d-4e6c-b483-81517a492b96               RNA-Seq    TCGA   \n",
              "47ee860a-fd18-48f2-bfe7-4e19391950bd               RNA-Seq    TCGA   \n",
              "e322b0e5-458a-4cbf-a64f-9b348e413939               RNA-Seq    TCGA   \n",
              "...                                                    ...     ...   \n",
              "62cb41b1-8960-4fa2-8f74-38dd174af004               RNA-Seq    TCGA   \n",
              "673a85f3-ba5e-448a-acee-dfec77b5238e               RNA-Seq    TCGA   \n",
              "3d93b2ae-7730-4914-af23-ff3554752922               RNA-Seq    TCGA   \n",
              "85a0b88f-2b89-4117-9e04-b81fad7f2e1b               RNA-Seq    TCGA   \n",
              "a512642f-b720-4efb-a4e9-49b746980809               RNA-Seq    TCGA   \n",
              "\n",
              "                                                               sample_uuid  \\\n",
              "file_id                                                                      \n",
              "9fe7d0f4-866d-490f-b2cb-d9be7da889de  9259e9ee-7279-4b62-8512-509cb705029c   \n",
              "dd74434f-300f-4798-8342-aad31b192e12  bccb7f9d-8dde-45b7-a50d-6c7233239ceb   \n",
              "07db9e9d-059d-4e6c-b483-81517a492b96  03877fe0-b0d6-4800-be46-b45c70350e48   \n",
              "47ee860a-fd18-48f2-bfe7-4e19391950bd  8d3e521b-6df4-4633-bb44-7647ded94130   \n",
              "e322b0e5-458a-4cbf-a64f-9b348e413939  8fef5013-4e57-4043-8770-a56135aeac9b   \n",
              "...                                                                    ...   \n",
              "62cb41b1-8960-4fa2-8f74-38dd174af004  f03d9b83-a4d7-4e77-abaa-5c3dbee0bcf3   \n",
              "673a85f3-ba5e-448a-acee-dfec77b5238e  d90a2617-bf0b-453f-a483-ceac82781a6c   \n",
              "3d93b2ae-7730-4914-af23-ff3554752922  bf8e8426-dc44-40b0-8459-ad1dbaf9ba5a   \n",
              "85a0b88f-2b89-4117-9e04-b81fad7f2e1b  421c391a-33c7-4a6d-aecb-9a1cb4e8a2d9   \n",
              "a512642f-b720-4efb-a4e9-49b746980809  a418a2e8-6a8d-4e7d-8c43-f09b521e51d8   \n",
              "\n",
              "                                        sample_barcode  ...  panel  \\\n",
              "file_id                                                 ...          \n",
              "9fe7d0f4-866d-490f-b2cb-d9be7da889de  TCGA-DD-AAVP-01A  ...   LIHC   \n",
              "dd74434f-300f-4798-8342-aad31b192e12  TCGA-KK-A7B2-01A  ...   PRAD   \n",
              "07db9e9d-059d-4e6c-b483-81517a492b96  TCGA-DC-6158-01A  ...   READ   \n",
              "47ee860a-fd18-48f2-bfe7-4e19391950bd  TCGA-DD-A4NP-01A  ...   LIHC   \n",
              "e322b0e5-458a-4cbf-a64f-9b348e413939  TCGA-HQ-A5ND-01A  ...   BLCA   \n",
              "...                                                ...  ...    ...   \n",
              "62cb41b1-8960-4fa2-8f74-38dd174af004  TCGA-BP-4790-01A  ...   KIRC   \n",
              "673a85f3-ba5e-448a-acee-dfec77b5238e  TCGA-N9-A4Q4-01A  ...    UCS   \n",
              "3d93b2ae-7730-4914-af23-ff3554752922  TCGA-RY-A847-01A  ...    LGG   \n",
              "85a0b88f-2b89-4117-9e04-b81fad7f2e1b  TCGA-AB-2881-03A  ...   LAML   \n",
              "a512642f-b720-4efb-a4e9-49b746980809  TCGA-DJ-A4V0-01A  ...   THCA   \n",
              "\n",
              "                                                                              histology  \\\n",
              "file_id                                                                                   \n",
              "9fe7d0f4-866d-490f-b2cb-d9be7da889de                           Hepatocellular Carcinoma   \n",
              "dd74434f-300f-4798-8342-aad31b192e12                Prostate Adenocarcinoma Acinar Type   \n",
              "07db9e9d-059d-4e6c-b483-81517a492b96                              Rectal Adenocarcinoma   \n",
              "47ee860a-fd18-48f2-bfe7-4e19391950bd                           Hepatocellular Carcinoma   \n",
              "e322b0e5-458a-4cbf-a64f-9b348e413939  Muscle invasive urothelial carcinoma (pT2 or a...   \n",
              "...                                                                                 ...   \n",
              "62cb41b1-8960-4fa2-8f74-38dd174af004                  Kidney Clear Cell Renal Carcinoma   \n",
              "673a85f3-ba5e-448a-acee-dfec77b5238e  Uterine Carcinosarcoma/ Malignant Mixed Muller...   \n",
              "3d93b2ae-7730-4914-af23-ff3554752922                                  Oligodendroglioma   \n",
              "85a0b88f-2b89-4117-9e04-b81fad7f2e1b                                                NaN   \n",
              "a512642f-b720-4efb-a4e9-49b746980809      Thyroid Papillary Carcinoma - Classical/usual   \n",
              "\n",
              "                                                 tissue_site     stage    T  \\\n",
              "file_id                                                                       \n",
              "9fe7d0f4-866d-490f-b2cb-d9be7da889de                   Liver   Stage I   T1   \n",
              "dd74434f-300f-4798-8342-aad31b192e12                Prostate       NaN  T3a   \n",
              "07db9e9d-059d-4e6c-b483-81517a492b96                  Rectum   Stage I   T2   \n",
              "47ee860a-fd18-48f2-bfe7-4e19391950bd                   Liver   Stage I   T1   \n",
              "e322b0e5-458a-4cbf-a64f-9b348e413939                 Bladder  Stage IV  T3b   \n",
              "...                                                      ...       ...  ...   \n",
              "62cb41b1-8960-4fa2-8f74-38dd174af004                  Kidney   Stage I  T1a   \n",
              "673a85f3-ba5e-448a-acee-dfec77b5238e                  Uterus       NaN  NaN   \n",
              "3d93b2ae-7730-4914-af23-ff3554752922  Central nervous system       NaN  NaN   \n",
              "85a0b88f-2b89-4117-9e04-b81fad7f2e1b             Bone Marrow       NaN  NaN   \n",
              "a512642f-b720-4efb-a4e9-49b746980809                 Thyroid   Stage I   T2   \n",
              "\n",
              "                                        N    M residual_tumor  \\\n",
              "file_id                                                         \n",
              "9fe7d0f4-866d-490f-b2cb-d9be7da889de   N0   M0             R0   \n",
              "dd74434f-300f-4798-8342-aad31b192e12   N1  NaN             R0   \n",
              "07db9e9d-059d-4e6c-b483-81517a492b96   N0   M0             R0   \n",
              "47ee860a-fd18-48f2-bfe7-4e19391950bd   N0   M0             R0   \n",
              "e322b0e5-458a-4cbf-a64f-9b348e413939   N1   M0            NaN   \n",
              "...                                   ...  ...            ...   \n",
              "62cb41b1-8960-4fa2-8f74-38dd174af004   NX   M0            NaN   \n",
              "673a85f3-ba5e-448a-acee-dfec77b5238e  NaN  NaN             R0   \n",
              "3d93b2ae-7730-4914-af23-ff3554752922  NaN  NaN            NaN   \n",
              "85a0b88f-2b89-4117-9e04-b81fad7f2e1b  NaN  NaN            NaN   \n",
              "a512642f-b720-4efb-a4e9-49b746980809   N0   M0             R0   \n",
              "\n",
              "                                     new_tumor_events follow_ups  \n",
              "file_id                                                           \n",
              "9fe7d0f4-866d-490f-b2cb-d9be7da889de              2.0        1.0  \n",
              "dd74434f-300f-4798-8342-aad31b192e12              2.0        1.0  \n",
              "07db9e9d-059d-4e6c-b483-81517a492b96              3.0        2.0  \n",
              "47ee860a-fd18-48f2-bfe7-4e19391950bd              3.0        2.0  \n",
              "e322b0e5-458a-4cbf-a64f-9b348e413939              2.0        1.0  \n",
              "...                                               ...        ...  \n",
              "62cb41b1-8960-4fa2-8f74-38dd174af004              2.0        1.0  \n",
              "673a85f3-ba5e-448a-acee-dfec77b5238e              1.0        0.0  \n",
              "3d93b2ae-7730-4914-af23-ff3554752922              2.0        1.0  \n",
              "85a0b88f-2b89-4117-9e04-b81fad7f2e1b              0.0        0.0  \n",
              "a512642f-b720-4efb-a4e9-49b746980809              3.0        2.0  \n",
              "\n",
              "[11035 rows x 27 columns]"
            ],
            "text/html": [
              "\n",
              "  <div id=\"df-b826c2d8-7cbd-4a4c-9cf5-7c57ed782a21\" class=\"colab-df-container\">\n",
              "    <div>\n",
              "<style scoped>\n",
              "    .dataframe tbody tr th:only-of-type {\n",
              "        vertical-align: middle;\n",
              "    }\n",
              "\n",
              "    .dataframe tbody tr th {\n",
              "        vertical-align: top;\n",
              "    }\n",
              "\n",
              "    .dataframe thead th {\n",
              "        text-align: right;\n",
              "    }\n",
              "</style>\n",
              "<table border=\"1\" class=\"dataframe\">\n",
              "  <thead>\n",
              "    <tr style=\"text-align: right;\">\n",
              "      <th></th>\n",
              "      <th>Unnamed: 0</th>\n",
              "      <th>data_type</th>\n",
              "      <th>updated_datetime</th>\n",
              "      <th>file_name</th>\n",
              "      <th>md5sum</th>\n",
              "      <th>data_category</th>\n",
              "      <th>experimental_strategy</th>\n",
              "      <th>project</th>\n",
              "      <th>sample_uuid</th>\n",
              "      <th>sample_barcode</th>\n",
              "      <th>...</th>\n",
              "      <th>panel</th>\n",
              "      <th>histology</th>\n",
              "      <th>tissue_site</th>\n",
              "      <th>stage</th>\n",
              "      <th>T</th>\n",
              "      <th>N</th>\n",
              "      <th>M</th>\n",
              "      <th>residual_tumor</th>\n",
              "      <th>new_tumor_events</th>\n",
              "      <th>follow_ups</th>\n",
              "    </tr>\n",
              "    <tr>\n",
              "      <th>file_id</th>\n",
              "      <th></th>\n",
              "      <th></th>\n",
              "      <th></th>\n",
              "      <th></th>\n",
              "      <th></th>\n",
              "      <th></th>\n",
              "      <th></th>\n",
              "      <th></th>\n",
              "      <th></th>\n",
              "      <th></th>\n",
              "      <th></th>\n",
              "      <th></th>\n",
              "      <th></th>\n",
              "      <th></th>\n",
              "      <th></th>\n",
              "      <th></th>\n",
              "      <th></th>\n",
              "      <th></th>\n",
              "      <th></th>\n",
              "      <th></th>\n",
              "      <th></th>\n",
              "    </tr>\n",
              "  </thead>\n",
              "  <tbody>\n",
              "    <tr>\n",
              "      <th>9fe7d0f4-866d-490f-b2cb-d9be7da889de</th>\n",
              "      <td>7001</td>\n",
              "      <td>Gene Expression Quantification</td>\n",
              "      <td>2016-05-26T20:51:28.753650-05:00</td>\n",
              "      <td>1db2cfc5-346d-4398-9dd4-8b92435059fd.htseq.cou...</td>\n",
              "      <td>bff9318f04ad067bccc0fbd2d31b45f1</td>\n",
              "      <td>Transcriptome Profiling</td>\n",
              "      <td>RNA-Seq</td>\n",
              "      <td>TCGA</td>\n",
              "      <td>9259e9ee-7279-4b62-8512-509cb705029c</td>\n",
              "      <td>TCGA-DD-AAVP-01A</td>\n",
              "      <td>...</td>\n",
              "      <td>LIHC</td>\n",
              "      <td>Hepatocellular Carcinoma</td>\n",
              "      <td>Liver</td>\n",
              "      <td>Stage I</td>\n",
              "      <td>T1</td>\n",
              "      <td>N0</td>\n",
              "      <td>M0</td>\n",
              "      <td>R0</td>\n",
              "      <td>2.0</td>\n",
              "      <td>1.0</td>\n",
              "    </tr>\n",
              "    <tr>\n",
              "      <th>dd74434f-300f-4798-8342-aad31b192e12</th>\n",
              "      <td>8001</td>\n",
              "      <td>Gene Expression Quantification</td>\n",
              "      <td>2016-05-26T21:04:47.187859-05:00</td>\n",
              "      <td>5f4cf592-e135-43ff-9c11-bcba462626d3.htseq.cou...</td>\n",
              "      <td>92cf7b5b7f0a0f5dfa02919c586b72c7</td>\n",
              "      <td>Transcriptome Profiling</td>\n",
              "      <td>RNA-Seq</td>\n",
              "      <td>TCGA</td>\n",
              "      <td>bccb7f9d-8dde-45b7-a50d-6c7233239ceb</td>\n",
              "      <td>TCGA-KK-A7B2-01A</td>\n",
              "      <td>...</td>\n",
              "      <td>PRAD</td>\n",
              "      <td>Prostate Adenocarcinoma Acinar Type</td>\n",
              "      <td>Prostate</td>\n",
              "      <td>NaN</td>\n",
              "      <td>T3a</td>\n",
              "      <td>N1</td>\n",
              "      <td>NaN</td>\n",
              "      <td>R0</td>\n",
              "      <td>2.0</td>\n",
              "      <td>1.0</td>\n",
              "    </tr>\n",
              "    <tr>\n",
              "      <th>07db9e9d-059d-4e6c-b483-81517a492b96</th>\n",
              "      <td>1001</td>\n",
              "      <td>Gene Expression Quantification</td>\n",
              "      <td>2016-05-26T21:04:48.015693-05:00</td>\n",
              "      <td>aa4a76e4-5348-479c-8beb-3e4e34e18ce9.htseq.cou...</td>\n",
              "      <td>503fa39eb3a770b869ab0c4297fd0d43</td>\n",
              "      <td>Transcriptome Profiling</td>\n",
              "      <td>RNA-Seq</td>\n",
              "      <td>TCGA</td>\n",
              "      <td>03877fe0-b0d6-4800-be46-b45c70350e48</td>\n",
              "      <td>TCGA-DC-6158-01A</td>\n",
              "      <td>...</td>\n",
              "      <td>READ</td>\n",
              "      <td>Rectal Adenocarcinoma</td>\n",
              "      <td>Rectum</td>\n",
              "      <td>Stage I</td>\n",
              "      <td>T2</td>\n",
              "      <td>N0</td>\n",
              "      <td>M0</td>\n",
              "      <td>R0</td>\n",
              "      <td>3.0</td>\n",
              "      <td>2.0</td>\n",
              "    </tr>\n",
              "    <tr>\n",
              "      <th>47ee860a-fd18-48f2-bfe7-4e19391950bd</th>\n",
              "      <td>2001</td>\n",
              "      <td>Gene Expression Quantification</td>\n",
              "      <td>2016-05-26T21:04:48.692729-05:00</td>\n",
              "      <td>0c172934-64ff-44dc-bdba-4c738f5692ea.htseq.cou...</td>\n",
              "      <td>c61b88a22488a1a0d2fb3e7739db0b32</td>\n",
              "      <td>Transcriptome Profiling</td>\n",
              "      <td>RNA-Seq</td>\n",
              "      <td>TCGA</td>\n",
              "      <td>8d3e521b-6df4-4633-bb44-7647ded94130</td>\n",
              "      <td>TCGA-DD-A4NP-01A</td>\n",
              "      <td>...</td>\n",
              "      <td>LIHC</td>\n",
              "      <td>Hepatocellular Carcinoma</td>\n",
              "      <td>Liver</td>\n",
              "      <td>Stage I</td>\n",
              "      <td>T1</td>\n",
              "      <td>N0</td>\n",
              "      <td>M0</td>\n",
              "      <td>R0</td>\n",
              "      <td>3.0</td>\n",
              "      <td>2.0</td>\n",
              "    </tr>\n",
              "    <tr>\n",
              "      <th>e322b0e5-458a-4cbf-a64f-9b348e413939</th>\n",
              "      <td>5001</td>\n",
              "      <td>Gene Expression Quantification</td>\n",
              "      <td>2016-05-26T21:04:49.266949-05:00</td>\n",
              "      <td>3025ad45-1d29-4c05-b90f-3d4a348c82c6.htseq.cou...</td>\n",
              "      <td>d279845ef0505630cf5a2ee4b1be5cac</td>\n",
              "      <td>Transcriptome Profiling</td>\n",
              "      <td>RNA-Seq</td>\n",
              "      <td>TCGA</td>\n",
              "      <td>8fef5013-4e57-4043-8770-a56135aeac9b</td>\n",
              "      <td>TCGA-HQ-A5ND-01A</td>\n",
              "      <td>...</td>\n",
              "      <td>BLCA</td>\n",
              "      <td>Muscle invasive urothelial carcinoma (pT2 or a...</td>\n",
              "      <td>Bladder</td>\n",
              "      <td>Stage IV</td>\n",
              "      <td>T3b</td>\n",
              "      <td>N1</td>\n",
              "      <td>M0</td>\n",
              "      <td>NaN</td>\n",
              "      <td>2.0</td>\n",
              "      <td>1.0</td>\n",
              "    </tr>\n",
              "    <tr>\n",
              "      <th>...</th>\n",
              "      <td>...</td>\n",
              "      <td>...</td>\n",
              "      <td>...</td>\n",
              "      <td>...</td>\n",
              "      <td>...</td>\n",
              "      <td>...</td>\n",
              "      <td>...</td>\n",
              "      <td>...</td>\n",
              "      <td>...</td>\n",
              "      <td>...</td>\n",
              "      <td>...</td>\n",
              "      <td>...</td>\n",
              "      <td>...</td>\n",
              "      <td>...</td>\n",
              "      <td>...</td>\n",
              "      <td>...</td>\n",
              "      <td>...</td>\n",
              "      <td>...</td>\n",
              "      <td>...</td>\n",
              "      <td>...</td>\n",
              "      <td>...</td>\n",
              "    </tr>\n",
              "    <tr>\n",
              "      <th>62cb41b1-8960-4fa2-8f74-38dd174af004</th>\n",
              "      <td>3999</td>\n",
              "      <td>Gene Expression Quantification</td>\n",
              "      <td>2016-06-01T23:31:30.205560-05:00</td>\n",
              "      <td>1ef78255-1b5c-42af-aa81-128c1b009114.htseq.cou...</td>\n",
              "      <td>4e139effd7c17a3b6f8c8a2dcf1ba2f5</td>\n",
              "      <td>Transcriptome Profiling</td>\n",
              "      <td>RNA-Seq</td>\n",
              "      <td>TCGA</td>\n",
              "      <td>f03d9b83-a4d7-4e77-abaa-5c3dbee0bcf3</td>\n",
              "      <td>TCGA-BP-4790-01A</td>\n",
              "      <td>...</td>\n",
              "      <td>KIRC</td>\n",
              "      <td>Kidney Clear Cell Renal Carcinoma</td>\n",
              "      <td>Kidney</td>\n",
              "      <td>Stage I</td>\n",
              "      <td>T1a</td>\n",
              "      <td>NX</td>\n",
              "      <td>M0</td>\n",
              "      <td>NaN</td>\n",
              "      <td>2.0</td>\n",
              "      <td>1.0</td>\n",
              "    </tr>\n",
              "    <tr>\n",
              "      <th>673a85f3-ba5e-448a-acee-dfec77b5238e</th>\n",
              "      <td>8000</td>\n",
              "      <td>Gene Expression Quantification</td>\n",
              "      <td>2016-06-01T23:31:30.867514-05:00</td>\n",
              "      <td>d07c7238-807f-48b1-bf06-deaa6200f4aa.htseq.cou...</td>\n",
              "      <td>b07dddd077d9db4f26b3e2ae066555c4</td>\n",
              "      <td>Transcriptome Profiling</td>\n",
              "      <td>RNA-Seq</td>\n",
              "      <td>TCGA</td>\n",
              "      <td>d90a2617-bf0b-453f-a483-ceac82781a6c</td>\n",
              "      <td>TCGA-N9-A4Q4-01A</td>\n",
              "      <td>...</td>\n",
              "      <td>UCS</td>\n",
              "      <td>Uterine Carcinosarcoma/ Malignant Mixed Muller...</td>\n",
              "      <td>Uterus</td>\n",
              "      <td>NaN</td>\n",
              "      <td>NaN</td>\n",
              "      <td>NaN</td>\n",
              "      <td>NaN</td>\n",
              "      <td>R0</td>\n",
              "      <td>1.0</td>\n",
              "      <td>0.0</td>\n",
              "    </tr>\n",
              "    <tr>\n",
              "      <th>3d93b2ae-7730-4914-af23-ff3554752922</th>\n",
              "      <td>9000</td>\n",
              "      <td>Gene Expression Quantification</td>\n",
              "      <td>2016-06-01T23:31:31.468195-05:00</td>\n",
              "      <td>3c5b65ad-998a-4124-814f-760de89f05d0.htseq.cou...</td>\n",
              "      <td>2046f591b06fa9eafb79d667f7942795</td>\n",
              "      <td>Transcriptome Profiling</td>\n",
              "      <td>RNA-Seq</td>\n",
              "      <td>TCGA</td>\n",
              "      <td>bf8e8426-dc44-40b0-8459-ad1dbaf9ba5a</td>\n",
              "      <td>TCGA-RY-A847-01A</td>\n",
              "      <td>...</td>\n",
              "      <td>LGG</td>\n",
              "      <td>Oligodendroglioma</td>\n",
              "      <td>Central nervous system</td>\n",
              "      <td>NaN</td>\n",
              "      <td>NaN</td>\n",
              "      <td>NaN</td>\n",
              "      <td>NaN</td>\n",
              "      <td>NaN</td>\n",
              "      <td>2.0</td>\n",
              "      <td>1.0</td>\n",
              "    </tr>\n",
              "    <tr>\n",
              "      <th>85a0b88f-2b89-4117-9e04-b81fad7f2e1b</th>\n",
              "      <td>4000</td>\n",
              "      <td>Gene Expression Quantification</td>\n",
              "      <td>2016-06-01T23:31:32.108278-05:00</td>\n",
              "      <td>9146cb7b-e388-41b4-aa5f-a9a571abdc40.htseq.cou...</td>\n",
              "      <td>3f9eb3df2d87fa3cb50dc7eec6766f2d</td>\n",
              "      <td>Transcriptome Profiling</td>\n",
              "      <td>RNA-Seq</td>\n",
              "      <td>TCGA</td>\n",
              "      <td>421c391a-33c7-4a6d-aecb-9a1cb4e8a2d9</td>\n",
              "      <td>TCGA-AB-2881-03A</td>\n",
              "      <td>...</td>\n",
              "      <td>LAML</td>\n",
              "      <td>NaN</td>\n",
              "      <td>Bone Marrow</td>\n",
              "      <td>NaN</td>\n",
              "      <td>NaN</td>\n",
              "      <td>NaN</td>\n",
              "      <td>NaN</td>\n",
              "      <td>NaN</td>\n",
              "      <td>0.0</td>\n",
              "      <td>0.0</td>\n",
              "    </tr>\n",
              "    <tr>\n",
              "      <th>a512642f-b720-4efb-a4e9-49b746980809</th>\n",
              "      <td>11000</td>\n",
              "      <td>Gene Expression Quantification</td>\n",
              "      <td>2016-06-01T23:31:32.780942-05:00</td>\n",
              "      <td>4690efed-5d11-4191-addb-8d290ddc063a.htseq.cou...</td>\n",
              "      <td>d1a9a8b8095b01769048904ac8379037</td>\n",
              "      <td>Transcriptome Profiling</td>\n",
              "      <td>RNA-Seq</td>\n",
              "      <td>TCGA</td>\n",
              "      <td>a418a2e8-6a8d-4e7d-8c43-f09b521e51d8</td>\n",
              "      <td>TCGA-DJ-A4V0-01A</td>\n",
              "      <td>...</td>\n",
              "      <td>THCA</td>\n",
              "      <td>Thyroid Papillary Carcinoma - Classical/usual</td>\n",
              "      <td>Thyroid</td>\n",
              "      <td>Stage I</td>\n",
              "      <td>T2</td>\n",
              "      <td>N0</td>\n",
              "      <td>M0</td>\n",
              "      <td>R0</td>\n",
              "      <td>3.0</td>\n",
              "      <td>2.0</td>\n",
              "    </tr>\n",
              "  </tbody>\n",
              "</table>\n",
              "<p>11035 rows × 27 columns</p>\n",
              "</div>\n",
              "    <div class=\"colab-df-buttons\">\n",
              "\n",
              "  <div class=\"colab-df-container\">\n",
              "    <button class=\"colab-df-convert\" onclick=\"convertToInteractive('df-b826c2d8-7cbd-4a4c-9cf5-7c57ed782a21')\"\n",
              "            title=\"Convert this dataframe to an interactive table.\"\n",
              "            style=\"display:none;\">\n",
              "\n",
              "  <svg xmlns=\"http://www.w3.org/2000/svg\" height=\"24px\" viewBox=\"0 -960 960 960\">\n",
              "    <path d=\"M120-120v-720h720v720H120Zm60-500h600v-160H180v160Zm220 220h160v-160H400v160Zm0 220h160v-160H400v160ZM180-400h160v-160H180v160Zm440 0h160v-160H620v160ZM180-180h160v-160H180v160Zm440 0h160v-160H620v160Z\"/>\n",
              "  </svg>\n",
              "    </button>\n",
              "\n",
              "  <style>\n",
              "    .colab-df-container {\n",
              "      display:flex;\n",
              "      gap: 12px;\n",
              "    }\n",
              "\n",
              "    .colab-df-convert {\n",
              "      background-color: #E8F0FE;\n",
              "      border: none;\n",
              "      border-radius: 50%;\n",
              "      cursor: pointer;\n",
              "      display: none;\n",
              "      fill: #1967D2;\n",
              "      height: 32px;\n",
              "      padding: 0 0 0 0;\n",
              "      width: 32px;\n",
              "    }\n",
              "\n",
              "    .colab-df-convert:hover {\n",
              "      background-color: #E2EBFA;\n",
              "      box-shadow: 0px 1px 2px rgba(60, 64, 67, 0.3), 0px 1px 3px 1px rgba(60, 64, 67, 0.15);\n",
              "      fill: #174EA6;\n",
              "    }\n",
              "\n",
              "    .colab-df-buttons div {\n",
              "      margin-bottom: 4px;\n",
              "    }\n",
              "\n",
              "    [theme=dark] .colab-df-convert {\n",
              "      background-color: #3B4455;\n",
              "      fill: #D2E3FC;\n",
              "    }\n",
              "\n",
              "    [theme=dark] .colab-df-convert:hover {\n",
              "      background-color: #434B5C;\n",
              "      box-shadow: 0px 1px 3px 1px rgba(0, 0, 0, 0.15);\n",
              "      filter: drop-shadow(0px 1px 2px rgba(0, 0, 0, 0.3));\n",
              "      fill: #FFFFFF;\n",
              "    }\n",
              "  </style>\n",
              "\n",
              "    <script>\n",
              "      const buttonEl =\n",
              "        document.querySelector('#df-b826c2d8-7cbd-4a4c-9cf5-7c57ed782a21 button.colab-df-convert');\n",
              "      buttonEl.style.display =\n",
              "        google.colab.kernel.accessAllowed ? 'block' : 'none';\n",
              "\n",
              "      async function convertToInteractive(key) {\n",
              "        const element = document.querySelector('#df-b826c2d8-7cbd-4a4c-9cf5-7c57ed782a21');\n",
              "        const dataTable =\n",
              "          await google.colab.kernel.invokeFunction('convertToInteractive',\n",
              "                                                    [key], {});\n",
              "        if (!dataTable) return;\n",
              "\n",
              "        const docLinkHtml = 'Like what you see? Visit the ' +\n",
              "          '<a target=\"_blank\" href=https://colab.research.google.com/notebooks/data_table.ipynb>data table notebook</a>'\n",
              "          + ' to learn more about interactive tables.';\n",
              "        element.innerHTML = '';\n",
              "        dataTable['output_type'] = 'display_data';\n",
              "        await google.colab.output.renderOutput(dataTable, element);\n",
              "        const docLink = document.createElement('div');\n",
              "        docLink.innerHTML = docLinkHtml;\n",
              "        element.appendChild(docLink);\n",
              "      }\n",
              "    </script>\n",
              "  </div>\n",
              "\n",
              "\n",
              "<div id=\"df-c69f51fa-a4ad-4502-88f5-233862359fba\">\n",
              "  <button class=\"colab-df-quickchart\" onclick=\"quickchart('df-c69f51fa-a4ad-4502-88f5-233862359fba')\"\n",
              "            title=\"Suggest charts\"\n",
              "            style=\"display:none;\">\n",
              "\n",
              "<svg xmlns=\"http://www.w3.org/2000/svg\" height=\"24px\"viewBox=\"0 0 24 24\"\n",
              "     width=\"24px\">\n",
              "    <g>\n",
              "        <path d=\"M19 3H5c-1.1 0-2 .9-2 2v14c0 1.1.9 2 2 2h14c1.1 0 2-.9 2-2V5c0-1.1-.9-2-2-2zM9 17H7v-7h2v7zm4 0h-2V7h2v10zm4 0h-2v-4h2v4z\"/>\n",
              "    </g>\n",
              "</svg>\n",
              "  </button>\n",
              "\n",
              "<style>\n",
              "  .colab-df-quickchart {\n",
              "      --bg-color: #E8F0FE;\n",
              "      --fill-color: #1967D2;\n",
              "      --hover-bg-color: #E2EBFA;\n",
              "      --hover-fill-color: #174EA6;\n",
              "      --disabled-fill-color: #AAA;\n",
              "      --disabled-bg-color: #DDD;\n",
              "  }\n",
              "\n",
              "  [theme=dark] .colab-df-quickchart {\n",
              "      --bg-color: #3B4455;\n",
              "      --fill-color: #D2E3FC;\n",
              "      --hover-bg-color: #434B5C;\n",
              "      --hover-fill-color: #FFFFFF;\n",
              "      --disabled-bg-color: #3B4455;\n",
              "      --disabled-fill-color: #666;\n",
              "  }\n",
              "\n",
              "  .colab-df-quickchart {\n",
              "    background-color: var(--bg-color);\n",
              "    border: none;\n",
              "    border-radius: 50%;\n",
              "    cursor: pointer;\n",
              "    display: none;\n",
              "    fill: var(--fill-color);\n",
              "    height: 32px;\n",
              "    padding: 0;\n",
              "    width: 32px;\n",
              "  }\n",
              "\n",
              "  .colab-df-quickchart:hover {\n",
              "    background-color: var(--hover-bg-color);\n",
              "    box-shadow: 0 1px 2px rgba(60, 64, 67, 0.3), 0 1px 3px 1px rgba(60, 64, 67, 0.15);\n",
              "    fill: var(--button-hover-fill-color);\n",
              "  }\n",
              "\n",
              "  .colab-df-quickchart-complete:disabled,\n",
              "  .colab-df-quickchart-complete:disabled:hover {\n",
              "    background-color: var(--disabled-bg-color);\n",
              "    fill: var(--disabled-fill-color);\n",
              "    box-shadow: none;\n",
              "  }\n",
              "\n",
              "  .colab-df-spinner {\n",
              "    border: 2px solid var(--fill-color);\n",
              "    border-color: transparent;\n",
              "    border-bottom-color: var(--fill-color);\n",
              "    animation:\n",
              "      spin 1s steps(1) infinite;\n",
              "  }\n",
              "\n",
              "  @keyframes spin {\n",
              "    0% {\n",
              "      border-color: transparent;\n",
              "      border-bottom-color: var(--fill-color);\n",
              "      border-left-color: var(--fill-color);\n",
              "    }\n",
              "    20% {\n",
              "      border-color: transparent;\n",
              "      border-left-color: var(--fill-color);\n",
              "      border-top-color: var(--fill-color);\n",
              "    }\n",
              "    30% {\n",
              "      border-color: transparent;\n",
              "      border-left-color: var(--fill-color);\n",
              "      border-top-color: var(--fill-color);\n",
              "      border-right-color: var(--fill-color);\n",
              "    }\n",
              "    40% {\n",
              "      border-color: transparent;\n",
              "      border-right-color: var(--fill-color);\n",
              "      border-top-color: var(--fill-color);\n",
              "    }\n",
              "    60% {\n",
              "      border-color: transparent;\n",
              "      border-right-color: var(--fill-color);\n",
              "    }\n",
              "    80% {\n",
              "      border-color: transparent;\n",
              "      border-right-color: var(--fill-color);\n",
              "      border-bottom-color: var(--fill-color);\n",
              "    }\n",
              "    90% {\n",
              "      border-color: transparent;\n",
              "      border-bottom-color: var(--fill-color);\n",
              "    }\n",
              "  }\n",
              "</style>\n",
              "\n",
              "  <script>\n",
              "    async function quickchart(key) {\n",
              "      const quickchartButtonEl =\n",
              "        document.querySelector('#' + key + ' button');\n",
              "      quickchartButtonEl.disabled = true;  // To prevent multiple clicks.\n",
              "      quickchartButtonEl.classList.add('colab-df-spinner');\n",
              "      try {\n",
              "        const charts = await google.colab.kernel.invokeFunction(\n",
              "            'suggestCharts', [key], {});\n",
              "      } catch (error) {\n",
              "        console.error('Error during call to suggestCharts:', error);\n",
              "      }\n",
              "      quickchartButtonEl.classList.remove('colab-df-spinner');\n",
              "      quickchartButtonEl.classList.add('colab-df-quickchart-complete');\n",
              "    }\n",
              "    (() => {\n",
              "      let quickchartButtonEl =\n",
              "        document.querySelector('#df-c69f51fa-a4ad-4502-88f5-233862359fba button');\n",
              "      quickchartButtonEl.style.display =\n",
              "        google.colab.kernel.accessAllowed ? 'block' : 'none';\n",
              "    })();\n",
              "  </script>\n",
              "</div>\n",
              "\n",
              "  <div id=\"id_6f53bf09-7545-41b4-bd70-56802df0f16a\">\n",
              "    <style>\n",
              "      .colab-df-generate {\n",
              "        background-color: #E8F0FE;\n",
              "        border: none;\n",
              "        border-radius: 50%;\n",
              "        cursor: pointer;\n",
              "        display: none;\n",
              "        fill: #1967D2;\n",
              "        height: 32px;\n",
              "        padding: 0 0 0 0;\n",
              "        width: 32px;\n",
              "      }\n",
              "\n",
              "      .colab-df-generate:hover {\n",
              "        background-color: #E2EBFA;\n",
              "        box-shadow: 0px 1px 2px rgba(60, 64, 67, 0.3), 0px 1px 3px 1px rgba(60, 64, 67, 0.15);\n",
              "        fill: #174EA6;\n",
              "      }\n",
              "\n",
              "      [theme=dark] .colab-df-generate {\n",
              "        background-color: #3B4455;\n",
              "        fill: #D2E3FC;\n",
              "      }\n",
              "\n",
              "      [theme=dark] .colab-df-generate:hover {\n",
              "        background-color: #434B5C;\n",
              "        box-shadow: 0px 1px 3px 1px rgba(0, 0, 0, 0.15);\n",
              "        filter: drop-shadow(0px 1px 2px rgba(0, 0, 0, 0.3));\n",
              "        fill: #FFFFFF;\n",
              "      }\n",
              "    </style>\n",
              "    <button class=\"colab-df-generate\" onclick=\"generateWithVariable('clinicos')\"\n",
              "            title=\"Generate code using this dataframe.\"\n",
              "            style=\"display:none;\">\n",
              "\n",
              "  <svg xmlns=\"http://www.w3.org/2000/svg\" height=\"24px\"viewBox=\"0 0 24 24\"\n",
              "       width=\"24px\">\n",
              "    <path d=\"M7,19H8.4L18.45,9,17,7.55,7,17.6ZM5,21V16.75L18.45,3.32a2,2,0,0,1,2.83,0l1.4,1.43a1.91,1.91,0,0,1,.58,1.4,1.91,1.91,0,0,1-.58,1.4L9.25,21ZM18.45,9,17,7.55Zm-12,3A5.31,5.31,0,0,0,4.9,8.1,5.31,5.31,0,0,0,1,6.5,5.31,5.31,0,0,0,4.9,4.9,5.31,5.31,0,0,0,6.5,1,5.31,5.31,0,0,0,8.1,4.9,5.31,5.31,0,0,0,12,6.5,5.46,5.46,0,0,0,6.5,12Z\"/>\n",
              "  </svg>\n",
              "    </button>\n",
              "    <script>\n",
              "      (() => {\n",
              "      const buttonEl =\n",
              "        document.querySelector('#id_6f53bf09-7545-41b4-bd70-56802df0f16a button.colab-df-generate');\n",
              "      buttonEl.style.display =\n",
              "        google.colab.kernel.accessAllowed ? 'block' : 'none';\n",
              "\n",
              "      buttonEl.onclick = () => {\n",
              "        google.colab.notebook.generateWithVariable('clinicos');\n",
              "      }\n",
              "      })();\n",
              "    </script>\n",
              "  </div>\n",
              "\n",
              "    </div>\n",
              "  </div>\n"
            ],
            "application/vnd.google.colaboratory.intrinsic+json": {
              "type": "dataframe",
              "variable_name": "clinicos"
            }
          },
          "metadata": {},
          "execution_count": 6
        }
      ],
      "source": [
        "import pandas as pd\n",
        "clinicos = pd.read_pickle('/content/drive/MyDrive/pan_cancer_diner/final/Pan Cancer/Validados/picklesnuevos/meta_sinFPPP.pkl')\n",
        "clinicos"
      ]
    },
    {
      "cell_type": "code",
      "execution_count": 7,
      "metadata": {
        "colab": {
          "base_uri": "https://localhost:8080/",
          "height": 999
        },
        "id": "LuSIpxJA61CD",
        "outputId": "2468eb15-1b36-4caa-c264-b05267f78ad8"
      },
      "outputs": [
        {
          "output_type": "execute_result",
          "data": {
            "text/plain": [
              "0                                     5S_rRNA  5_8S_rRNA   7SK   A1BG  \\\n",
              "9fe7d0f4-866d-490f-b2cb-d9be7da889de        0          0    79   1055   \n",
              "dd74434f-300f-4798-8342-aad31b192e12        1          0  1250      8   \n",
              "07db9e9d-059d-4e6c-b483-81517a492b96        0          0    41      2   \n",
              "47ee860a-fd18-48f2-bfe7-4e19391950bd        0          0   111  16482   \n",
              "e322b0e5-458a-4cbf-a64f-9b348e413939        2          0    22      2   \n",
              "...                                       ...        ...   ...    ...   \n",
              "62cb41b1-8960-4fa2-8f74-38dd174af004        3          0    52     14   \n",
              "673a85f3-ba5e-448a-acee-dfec77b5238e        3          0   169     40   \n",
              "3d93b2ae-7730-4914-af23-ff3554752922        0          1  3961     10   \n",
              "85a0b88f-2b89-4117-9e04-b81fad7f2e1b        9          1  1003     90   \n",
              "a512642f-b720-4efb-a4e9-49b746980809        2          0    98     41   \n",
              "\n",
              "0                                     A1BG-AS1   A1CF     A2M  A2M-AS1  A2ML1  \\\n",
              "9fe7d0f4-866d-490f-b2cb-d9be7da889de        12   3291    6614       11      0   \n",
              "dd74434f-300f-4798-8342-aad31b192e12        51      3   24510       55    120   \n",
              "07db9e9d-059d-4e6c-b483-81517a492b96        35   1618   21227       29      1   \n",
              "47ee860a-fd18-48f2-bfe7-4e19391950bd       328  10632  159168      124      1   \n",
              "e322b0e5-458a-4cbf-a64f-9b348e413939         0      2    7488       18   1714   \n",
              "...                                        ...    ...     ...      ...    ...   \n",
              "62cb41b1-8960-4fa2-8f74-38dd174af004        76   2971  111008       92      6   \n",
              "673a85f3-ba5e-448a-acee-dfec77b5238e       142      4   25243       27    277   \n",
              "3d93b2ae-7730-4914-af23-ff3554752922        54      3   32550       26    289   \n",
              "85a0b88f-2b89-4117-9e04-b81fad7f2e1b       272      0     331       96     55   \n",
              "a512642f-b720-4efb-a4e9-49b746980809       154      1   36537      107     18   \n",
              "\n",
              "0                                     A2ML1-AS1  ...  ZYG11A  ZYG11AP1  \\\n",
              "9fe7d0f4-866d-490f-b2cb-d9be7da889de          0  ...       5         0   \n",
              "dd74434f-300f-4798-8342-aad31b192e12          0  ...      73         0   \n",
              "07db9e9d-059d-4e6c-b483-81517a492b96          0  ...       5         0   \n",
              "47ee860a-fd18-48f2-bfe7-4e19391950bd          0  ...      66         0   \n",
              "e322b0e5-458a-4cbf-a64f-9b348e413939          0  ...      52         0   \n",
              "...                                         ...  ...     ...       ...   \n",
              "62cb41b1-8960-4fa2-8f74-38dd174af004          0  ...      28         0   \n",
              "673a85f3-ba5e-448a-acee-dfec77b5238e          0  ...     172         0   \n",
              "3d93b2ae-7730-4914-af23-ff3554752922          1  ...       2         0   \n",
              "85a0b88f-2b89-4117-9e04-b81fad7f2e1b          0  ...      10         0   \n",
              "a512642f-b720-4efb-a4e9-49b746980809          0  ...     210         0   \n",
              "\n",
              "0                                     ZYG11B    ZYX  ZYXP1  ZZEF1  ZZZ3  \\\n",
              "9fe7d0f4-866d-490f-b2cb-d9be7da889de     557   3130      0    314   469   \n",
              "dd74434f-300f-4798-8342-aad31b192e12     963  10619      0   1656  1146   \n",
              "07db9e9d-059d-4e6c-b483-81517a492b96    2136  13793      0   3667  2641   \n",
              "47ee860a-fd18-48f2-bfe7-4e19391950bd    3417    887      0   1822  1891   \n",
              "e322b0e5-458a-4cbf-a64f-9b348e413939    2155  13427      0   1404  2215   \n",
              "...                                      ...    ...    ...    ...   ...   \n",
              "62cb41b1-8960-4fa2-8f74-38dd174af004    3969  11102      0   4381  2584   \n",
              "673a85f3-ba5e-448a-acee-dfec77b5238e    2717  14657      0   1090  2165   \n",
              "3d93b2ae-7730-4914-af23-ff3554752922    2568   4216      0   3239   908   \n",
              "85a0b88f-2b89-4117-9e04-b81fad7f2e1b    1611  19604      0   7247  3970   \n",
              "a512642f-b720-4efb-a4e9-49b746980809    4057   8229      0   5007  3273   \n",
              "\n",
              "0                                     hsa-mir-1253  hsa-mir-423  snoZ196  \n",
              "9fe7d0f4-866d-490f-b2cb-d9be7da889de             0            0        3  \n",
              "dd74434f-300f-4798-8342-aad31b192e12             0            0        3  \n",
              "07db9e9d-059d-4e6c-b483-81517a492b96             0            0        3  \n",
              "47ee860a-fd18-48f2-bfe7-4e19391950bd             0            0        1  \n",
              "e322b0e5-458a-4cbf-a64f-9b348e413939             0            0        4  \n",
              "...                                            ...          ...      ...  \n",
              "62cb41b1-8960-4fa2-8f74-38dd174af004             0            0        1  \n",
              "673a85f3-ba5e-448a-acee-dfec77b5238e             0            0        3  \n",
              "3d93b2ae-7730-4914-af23-ff3554752922             0            0        1  \n",
              "85a0b88f-2b89-4117-9e04-b81fad7f2e1b             0            0       13  \n",
              "a512642f-b720-4efb-a4e9-49b746980809             0            0        7  \n",
              "\n",
              "[10310 rows x 39979 columns]"
            ],
            "text/html": [
              "\n",
              "  <div id=\"df-b736383d-4317-4906-b46e-be1a3aa49d15\" class=\"colab-df-container\">\n",
              "    <div>\n",
              "<style scoped>\n",
              "    .dataframe tbody tr th:only-of-type {\n",
              "        vertical-align: middle;\n",
              "    }\n",
              "\n",
              "    .dataframe tbody tr th {\n",
              "        vertical-align: top;\n",
              "    }\n",
              "\n",
              "    .dataframe thead th {\n",
              "        text-align: right;\n",
              "    }\n",
              "</style>\n",
              "<table border=\"1\" class=\"dataframe\">\n",
              "  <thead>\n",
              "    <tr style=\"text-align: right;\">\n",
              "      <th></th>\n",
              "      <th>5S_rRNA</th>\n",
              "      <th>5_8S_rRNA</th>\n",
              "      <th>7SK</th>\n",
              "      <th>A1BG</th>\n",
              "      <th>A1BG-AS1</th>\n",
              "      <th>A1CF</th>\n",
              "      <th>A2M</th>\n",
              "      <th>A2M-AS1</th>\n",
              "      <th>A2ML1</th>\n",
              "      <th>A2ML1-AS1</th>\n",
              "      <th>...</th>\n",
              "      <th>ZYG11A</th>\n",
              "      <th>ZYG11AP1</th>\n",
              "      <th>ZYG11B</th>\n",
              "      <th>ZYX</th>\n",
              "      <th>ZYXP1</th>\n",
              "      <th>ZZEF1</th>\n",
              "      <th>ZZZ3</th>\n",
              "      <th>hsa-mir-1253</th>\n",
              "      <th>hsa-mir-423</th>\n",
              "      <th>snoZ196</th>\n",
              "    </tr>\n",
              "  </thead>\n",
              "  <tbody>\n",
              "    <tr>\n",
              "      <th>9fe7d0f4-866d-490f-b2cb-d9be7da889de</th>\n",
              "      <td>0</td>\n",
              "      <td>0</td>\n",
              "      <td>79</td>\n",
              "      <td>1055</td>\n",
              "      <td>12</td>\n",
              "      <td>3291</td>\n",
              "      <td>6614</td>\n",
              "      <td>11</td>\n",
              "      <td>0</td>\n",
              "      <td>0</td>\n",
              "      <td>...</td>\n",
              "      <td>5</td>\n",
              "      <td>0</td>\n",
              "      <td>557</td>\n",
              "      <td>3130</td>\n",
              "      <td>0</td>\n",
              "      <td>314</td>\n",
              "      <td>469</td>\n",
              "      <td>0</td>\n",
              "      <td>0</td>\n",
              "      <td>3</td>\n",
              "    </tr>\n",
              "    <tr>\n",
              "      <th>dd74434f-300f-4798-8342-aad31b192e12</th>\n",
              "      <td>1</td>\n",
              "      <td>0</td>\n",
              "      <td>1250</td>\n",
              "      <td>8</td>\n",
              "      <td>51</td>\n",
              "      <td>3</td>\n",
              "      <td>24510</td>\n",
              "      <td>55</td>\n",
              "      <td>120</td>\n",
              "      <td>0</td>\n",
              "      <td>...</td>\n",
              "      <td>73</td>\n",
              "      <td>0</td>\n",
              "      <td>963</td>\n",
              "      <td>10619</td>\n",
              "      <td>0</td>\n",
              "      <td>1656</td>\n",
              "      <td>1146</td>\n",
              "      <td>0</td>\n",
              "      <td>0</td>\n",
              "      <td>3</td>\n",
              "    </tr>\n",
              "    <tr>\n",
              "      <th>07db9e9d-059d-4e6c-b483-81517a492b96</th>\n",
              "      <td>0</td>\n",
              "      <td>0</td>\n",
              "      <td>41</td>\n",
              "      <td>2</td>\n",
              "      <td>35</td>\n",
              "      <td>1618</td>\n",
              "      <td>21227</td>\n",
              "      <td>29</td>\n",
              "      <td>1</td>\n",
              "      <td>0</td>\n",
              "      <td>...</td>\n",
              "      <td>5</td>\n",
              "      <td>0</td>\n",
              "      <td>2136</td>\n",
              "      <td>13793</td>\n",
              "      <td>0</td>\n",
              "      <td>3667</td>\n",
              "      <td>2641</td>\n",
              "      <td>0</td>\n",
              "      <td>0</td>\n",
              "      <td>3</td>\n",
              "    </tr>\n",
              "    <tr>\n",
              "      <th>47ee860a-fd18-48f2-bfe7-4e19391950bd</th>\n",
              "      <td>0</td>\n",
              "      <td>0</td>\n",
              "      <td>111</td>\n",
              "      <td>16482</td>\n",
              "      <td>328</td>\n",
              "      <td>10632</td>\n",
              "      <td>159168</td>\n",
              "      <td>124</td>\n",
              "      <td>1</td>\n",
              "      <td>0</td>\n",
              "      <td>...</td>\n",
              "      <td>66</td>\n",
              "      <td>0</td>\n",
              "      <td>3417</td>\n",
              "      <td>887</td>\n",
              "      <td>0</td>\n",
              "      <td>1822</td>\n",
              "      <td>1891</td>\n",
              "      <td>0</td>\n",
              "      <td>0</td>\n",
              "      <td>1</td>\n",
              "    </tr>\n",
              "    <tr>\n",
              "      <th>e322b0e5-458a-4cbf-a64f-9b348e413939</th>\n",
              "      <td>2</td>\n",
              "      <td>0</td>\n",
              "      <td>22</td>\n",
              "      <td>2</td>\n",
              "      <td>0</td>\n",
              "      <td>2</td>\n",
              "      <td>7488</td>\n",
              "      <td>18</td>\n",
              "      <td>1714</td>\n",
              "      <td>0</td>\n",
              "      <td>...</td>\n",
              "      <td>52</td>\n",
              "      <td>0</td>\n",
              "      <td>2155</td>\n",
              "      <td>13427</td>\n",
              "      <td>0</td>\n",
              "      <td>1404</td>\n",
              "      <td>2215</td>\n",
              "      <td>0</td>\n",
              "      <td>0</td>\n",
              "      <td>4</td>\n",
              "    </tr>\n",
              "    <tr>\n",
              "      <th>...</th>\n",
              "      <td>...</td>\n",
              "      <td>...</td>\n",
              "      <td>...</td>\n",
              "      <td>...</td>\n",
              "      <td>...</td>\n",
              "      <td>...</td>\n",
              "      <td>...</td>\n",
              "      <td>...</td>\n",
              "      <td>...</td>\n",
              "      <td>...</td>\n",
              "      <td>...</td>\n",
              "      <td>...</td>\n",
              "      <td>...</td>\n",
              "      <td>...</td>\n",
              "      <td>...</td>\n",
              "      <td>...</td>\n",
              "      <td>...</td>\n",
              "      <td>...</td>\n",
              "      <td>...</td>\n",
              "      <td>...</td>\n",
              "      <td>...</td>\n",
              "    </tr>\n",
              "    <tr>\n",
              "      <th>62cb41b1-8960-4fa2-8f74-38dd174af004</th>\n",
              "      <td>3</td>\n",
              "      <td>0</td>\n",
              "      <td>52</td>\n",
              "      <td>14</td>\n",
              "      <td>76</td>\n",
              "      <td>2971</td>\n",
              "      <td>111008</td>\n",
              "      <td>92</td>\n",
              "      <td>6</td>\n",
              "      <td>0</td>\n",
              "      <td>...</td>\n",
              "      <td>28</td>\n",
              "      <td>0</td>\n",
              "      <td>3969</td>\n",
              "      <td>11102</td>\n",
              "      <td>0</td>\n",
              "      <td>4381</td>\n",
              "      <td>2584</td>\n",
              "      <td>0</td>\n",
              "      <td>0</td>\n",
              "      <td>1</td>\n",
              "    </tr>\n",
              "    <tr>\n",
              "      <th>673a85f3-ba5e-448a-acee-dfec77b5238e</th>\n",
              "      <td>3</td>\n",
              "      <td>0</td>\n",
              "      <td>169</td>\n",
              "      <td>40</td>\n",
              "      <td>142</td>\n",
              "      <td>4</td>\n",
              "      <td>25243</td>\n",
              "      <td>27</td>\n",
              "      <td>277</td>\n",
              "      <td>0</td>\n",
              "      <td>...</td>\n",
              "      <td>172</td>\n",
              "      <td>0</td>\n",
              "      <td>2717</td>\n",
              "      <td>14657</td>\n",
              "      <td>0</td>\n",
              "      <td>1090</td>\n",
              "      <td>2165</td>\n",
              "      <td>0</td>\n",
              "      <td>0</td>\n",
              "      <td>3</td>\n",
              "    </tr>\n",
              "    <tr>\n",
              "      <th>3d93b2ae-7730-4914-af23-ff3554752922</th>\n",
              "      <td>0</td>\n",
              "      <td>1</td>\n",
              "      <td>3961</td>\n",
              "      <td>10</td>\n",
              "      <td>54</td>\n",
              "      <td>3</td>\n",
              "      <td>32550</td>\n",
              "      <td>26</td>\n",
              "      <td>289</td>\n",
              "      <td>1</td>\n",
              "      <td>...</td>\n",
              "      <td>2</td>\n",
              "      <td>0</td>\n",
              "      <td>2568</td>\n",
              "      <td>4216</td>\n",
              "      <td>0</td>\n",
              "      <td>3239</td>\n",
              "      <td>908</td>\n",
              "      <td>0</td>\n",
              "      <td>0</td>\n",
              "      <td>1</td>\n",
              "    </tr>\n",
              "    <tr>\n",
              "      <th>85a0b88f-2b89-4117-9e04-b81fad7f2e1b</th>\n",
              "      <td>9</td>\n",
              "      <td>1</td>\n",
              "      <td>1003</td>\n",
              "      <td>90</td>\n",
              "      <td>272</td>\n",
              "      <td>0</td>\n",
              "      <td>331</td>\n",
              "      <td>96</td>\n",
              "      <td>55</td>\n",
              "      <td>0</td>\n",
              "      <td>...</td>\n",
              "      <td>10</td>\n",
              "      <td>0</td>\n",
              "      <td>1611</td>\n",
              "      <td>19604</td>\n",
              "      <td>0</td>\n",
              "      <td>7247</td>\n",
              "      <td>3970</td>\n",
              "      <td>0</td>\n",
              "      <td>0</td>\n",
              "      <td>13</td>\n",
              "    </tr>\n",
              "    <tr>\n",
              "      <th>a512642f-b720-4efb-a4e9-49b746980809</th>\n",
              "      <td>2</td>\n",
              "      <td>0</td>\n",
              "      <td>98</td>\n",
              "      <td>41</td>\n",
              "      <td>154</td>\n",
              "      <td>1</td>\n",
              "      <td>36537</td>\n",
              "      <td>107</td>\n",
              "      <td>18</td>\n",
              "      <td>0</td>\n",
              "      <td>...</td>\n",
              "      <td>210</td>\n",
              "      <td>0</td>\n",
              "      <td>4057</td>\n",
              "      <td>8229</td>\n",
              "      <td>0</td>\n",
              "      <td>5007</td>\n",
              "      <td>3273</td>\n",
              "      <td>0</td>\n",
              "      <td>0</td>\n",
              "      <td>7</td>\n",
              "    </tr>\n",
              "  </tbody>\n",
              "</table>\n",
              "<p>10310 rows × 39979 columns</p>\n",
              "</div>\n",
              "    <div class=\"colab-df-buttons\">\n",
              "\n",
              "  <div class=\"colab-df-container\">\n",
              "    <button class=\"colab-df-convert\" onclick=\"convertToInteractive('df-b736383d-4317-4906-b46e-be1a3aa49d15')\"\n",
              "            title=\"Convert this dataframe to an interactive table.\"\n",
              "            style=\"display:none;\">\n",
              "\n",
              "  <svg xmlns=\"http://www.w3.org/2000/svg\" height=\"24px\" viewBox=\"0 -960 960 960\">\n",
              "    <path d=\"M120-120v-720h720v720H120Zm60-500h600v-160H180v160Zm220 220h160v-160H400v160Zm0 220h160v-160H400v160ZM180-400h160v-160H180v160Zm440 0h160v-160H620v160ZM180-180h160v-160H180v160Zm440 0h160v-160H620v160Z\"/>\n",
              "  </svg>\n",
              "    </button>\n",
              "\n",
              "  <style>\n",
              "    .colab-df-container {\n",
              "      display:flex;\n",
              "      gap: 12px;\n",
              "    }\n",
              "\n",
              "    .colab-df-convert {\n",
              "      background-color: #E8F0FE;\n",
              "      border: none;\n",
              "      border-radius: 50%;\n",
              "      cursor: pointer;\n",
              "      display: none;\n",
              "      fill: #1967D2;\n",
              "      height: 32px;\n",
              "      padding: 0 0 0 0;\n",
              "      width: 32px;\n",
              "    }\n",
              "\n",
              "    .colab-df-convert:hover {\n",
              "      background-color: #E2EBFA;\n",
              "      box-shadow: 0px 1px 2px rgba(60, 64, 67, 0.3), 0px 1px 3px 1px rgba(60, 64, 67, 0.15);\n",
              "      fill: #174EA6;\n",
              "    }\n",
              "\n",
              "    .colab-df-buttons div {\n",
              "      margin-bottom: 4px;\n",
              "    }\n",
              "\n",
              "    [theme=dark] .colab-df-convert {\n",
              "      background-color: #3B4455;\n",
              "      fill: #D2E3FC;\n",
              "    }\n",
              "\n",
              "    [theme=dark] .colab-df-convert:hover {\n",
              "      background-color: #434B5C;\n",
              "      box-shadow: 0px 1px 3px 1px rgba(0, 0, 0, 0.15);\n",
              "      filter: drop-shadow(0px 1px 2px rgba(0, 0, 0, 0.3));\n",
              "      fill: #FFFFFF;\n",
              "    }\n",
              "  </style>\n",
              "\n",
              "    <script>\n",
              "      const buttonEl =\n",
              "        document.querySelector('#df-b736383d-4317-4906-b46e-be1a3aa49d15 button.colab-df-convert');\n",
              "      buttonEl.style.display =\n",
              "        google.colab.kernel.accessAllowed ? 'block' : 'none';\n",
              "\n",
              "      async function convertToInteractive(key) {\n",
              "        const element = document.querySelector('#df-b736383d-4317-4906-b46e-be1a3aa49d15');\n",
              "        const dataTable =\n",
              "          await google.colab.kernel.invokeFunction('convertToInteractive',\n",
              "                                                    [key], {});\n",
              "        if (!dataTable) return;\n",
              "\n",
              "        const docLinkHtml = 'Like what you see? Visit the ' +\n",
              "          '<a target=\"_blank\" href=https://colab.research.google.com/notebooks/data_table.ipynb>data table notebook</a>'\n",
              "          + ' to learn more about interactive tables.';\n",
              "        element.innerHTML = '';\n",
              "        dataTable['output_type'] = 'display_data';\n",
              "        await google.colab.output.renderOutput(dataTable, element);\n",
              "        const docLink = document.createElement('div');\n",
              "        docLink.innerHTML = docLinkHtml;\n",
              "        element.appendChild(docLink);\n",
              "      }\n",
              "    </script>\n",
              "  </div>\n",
              "\n",
              "\n",
              "<div id=\"df-dd3e7231-9fc5-4176-853e-fed766fa1126\">\n",
              "  <button class=\"colab-df-quickchart\" onclick=\"quickchart('df-dd3e7231-9fc5-4176-853e-fed766fa1126')\"\n",
              "            title=\"Suggest charts\"\n",
              "            style=\"display:none;\">\n",
              "\n",
              "<svg xmlns=\"http://www.w3.org/2000/svg\" height=\"24px\"viewBox=\"0 0 24 24\"\n",
              "     width=\"24px\">\n",
              "    <g>\n",
              "        <path d=\"M19 3H5c-1.1 0-2 .9-2 2v14c0 1.1.9 2 2 2h14c1.1 0 2-.9 2-2V5c0-1.1-.9-2-2-2zM9 17H7v-7h2v7zm4 0h-2V7h2v10zm4 0h-2v-4h2v4z\"/>\n",
              "    </g>\n",
              "</svg>\n",
              "  </button>\n",
              "\n",
              "<style>\n",
              "  .colab-df-quickchart {\n",
              "      --bg-color: #E8F0FE;\n",
              "      --fill-color: #1967D2;\n",
              "      --hover-bg-color: #E2EBFA;\n",
              "      --hover-fill-color: #174EA6;\n",
              "      --disabled-fill-color: #AAA;\n",
              "      --disabled-bg-color: #DDD;\n",
              "  }\n",
              "\n",
              "  [theme=dark] .colab-df-quickchart {\n",
              "      --bg-color: #3B4455;\n",
              "      --fill-color: #D2E3FC;\n",
              "      --hover-bg-color: #434B5C;\n",
              "      --hover-fill-color: #FFFFFF;\n",
              "      --disabled-bg-color: #3B4455;\n",
              "      --disabled-fill-color: #666;\n",
              "  }\n",
              "\n",
              "  .colab-df-quickchart {\n",
              "    background-color: var(--bg-color);\n",
              "    border: none;\n",
              "    border-radius: 50%;\n",
              "    cursor: pointer;\n",
              "    display: none;\n",
              "    fill: var(--fill-color);\n",
              "    height: 32px;\n",
              "    padding: 0;\n",
              "    width: 32px;\n",
              "  }\n",
              "\n",
              "  .colab-df-quickchart:hover {\n",
              "    background-color: var(--hover-bg-color);\n",
              "    box-shadow: 0 1px 2px rgba(60, 64, 67, 0.3), 0 1px 3px 1px rgba(60, 64, 67, 0.15);\n",
              "    fill: var(--button-hover-fill-color);\n",
              "  }\n",
              "\n",
              "  .colab-df-quickchart-complete:disabled,\n",
              "  .colab-df-quickchart-complete:disabled:hover {\n",
              "    background-color: var(--disabled-bg-color);\n",
              "    fill: var(--disabled-fill-color);\n",
              "    box-shadow: none;\n",
              "  }\n",
              "\n",
              "  .colab-df-spinner {\n",
              "    border: 2px solid var(--fill-color);\n",
              "    border-color: transparent;\n",
              "    border-bottom-color: var(--fill-color);\n",
              "    animation:\n",
              "      spin 1s steps(1) infinite;\n",
              "  }\n",
              "\n",
              "  @keyframes spin {\n",
              "    0% {\n",
              "      border-color: transparent;\n",
              "      border-bottom-color: var(--fill-color);\n",
              "      border-left-color: var(--fill-color);\n",
              "    }\n",
              "    20% {\n",
              "      border-color: transparent;\n",
              "      border-left-color: var(--fill-color);\n",
              "      border-top-color: var(--fill-color);\n",
              "    }\n",
              "    30% {\n",
              "      border-color: transparent;\n",
              "      border-left-color: var(--fill-color);\n",
              "      border-top-color: var(--fill-color);\n",
              "      border-right-color: var(--fill-color);\n",
              "    }\n",
              "    40% {\n",
              "      border-color: transparent;\n",
              "      border-right-color: var(--fill-color);\n",
              "      border-top-color: var(--fill-color);\n",
              "    }\n",
              "    60% {\n",
              "      border-color: transparent;\n",
              "      border-right-color: var(--fill-color);\n",
              "    }\n",
              "    80% {\n",
              "      border-color: transparent;\n",
              "      border-right-color: var(--fill-color);\n",
              "      border-bottom-color: var(--fill-color);\n",
              "    }\n",
              "    90% {\n",
              "      border-color: transparent;\n",
              "      border-bottom-color: var(--fill-color);\n",
              "    }\n",
              "  }\n",
              "</style>\n",
              "\n",
              "  <script>\n",
              "    async function quickchart(key) {\n",
              "      const quickchartButtonEl =\n",
              "        document.querySelector('#' + key + ' button');\n",
              "      quickchartButtonEl.disabled = true;  // To prevent multiple clicks.\n",
              "      quickchartButtonEl.classList.add('colab-df-spinner');\n",
              "      try {\n",
              "        const charts = await google.colab.kernel.invokeFunction(\n",
              "            'suggestCharts', [key], {});\n",
              "      } catch (error) {\n",
              "        console.error('Error during call to suggestCharts:', error);\n",
              "      }\n",
              "      quickchartButtonEl.classList.remove('colab-df-spinner');\n",
              "      quickchartButtonEl.classList.add('colab-df-quickchart-complete');\n",
              "    }\n",
              "    (() => {\n",
              "      let quickchartButtonEl =\n",
              "        document.querySelector('#df-dd3e7231-9fc5-4176-853e-fed766fa1126 button');\n",
              "      quickchartButtonEl.style.display =\n",
              "        google.colab.kernel.accessAllowed ? 'block' : 'none';\n",
              "    })();\n",
              "  </script>\n",
              "</div>\n",
              "\n",
              "  <div id=\"id_45301f7e-f9f9-4f03-9f60-83f56788ada7\">\n",
              "    <style>\n",
              "      .colab-df-generate {\n",
              "        background-color: #E8F0FE;\n",
              "        border: none;\n",
              "        border-radius: 50%;\n",
              "        cursor: pointer;\n",
              "        display: none;\n",
              "        fill: #1967D2;\n",
              "        height: 32px;\n",
              "        padding: 0 0 0 0;\n",
              "        width: 32px;\n",
              "      }\n",
              "\n",
              "      .colab-df-generate:hover {\n",
              "        background-color: #E2EBFA;\n",
              "        box-shadow: 0px 1px 2px rgba(60, 64, 67, 0.3), 0px 1px 3px 1px rgba(60, 64, 67, 0.15);\n",
              "        fill: #174EA6;\n",
              "      }\n",
              "\n",
              "      [theme=dark] .colab-df-generate {\n",
              "        background-color: #3B4455;\n",
              "        fill: #D2E3FC;\n",
              "      }\n",
              "\n",
              "      [theme=dark] .colab-df-generate:hover {\n",
              "        background-color: #434B5C;\n",
              "        box-shadow: 0px 1px 3px 1px rgba(0, 0, 0, 0.15);\n",
              "        filter: drop-shadow(0px 1px 2px rgba(0, 0, 0, 0.3));\n",
              "        fill: #FFFFFF;\n",
              "      }\n",
              "    </style>\n",
              "    <button class=\"colab-df-generate\" onclick=\"generateWithVariable('df')\"\n",
              "            title=\"Generate code using this dataframe.\"\n",
              "            style=\"display:none;\">\n",
              "\n",
              "  <svg xmlns=\"http://www.w3.org/2000/svg\" height=\"24px\"viewBox=\"0 0 24 24\"\n",
              "       width=\"24px\">\n",
              "    <path d=\"M7,19H8.4L18.45,9,17,7.55,7,17.6ZM5,21V16.75L18.45,3.32a2,2,0,0,1,2.83,0l1.4,1.43a1.91,1.91,0,0,1,.58,1.4,1.91,1.91,0,0,1-.58,1.4L9.25,21ZM18.45,9,17,7.55Zm-12,3A5.31,5.31,0,0,0,4.9,8.1,5.31,5.31,0,0,0,1,6.5,5.31,5.31,0,0,0,4.9,4.9,5.31,5.31,0,0,0,6.5,1,5.31,5.31,0,0,0,8.1,4.9,5.31,5.31,0,0,0,12,6.5,5.46,5.46,0,0,0,6.5,12Z\"/>\n",
              "  </svg>\n",
              "    </button>\n",
              "    <script>\n",
              "      (() => {\n",
              "      const buttonEl =\n",
              "        document.querySelector('#id_45301f7e-f9f9-4f03-9f60-83f56788ada7 button.colab-df-generate');\n",
              "      buttonEl.style.display =\n",
              "        google.colab.kernel.accessAllowed ? 'block' : 'none';\n",
              "\n",
              "      buttonEl.onclick = () => {\n",
              "        google.colab.notebook.generateWithVariable('df');\n",
              "      }\n",
              "      })();\n",
              "    </script>\n",
              "  </div>\n",
              "\n",
              "    </div>\n",
              "  </div>\n"
            ],
            "application/vnd.google.colaboratory.intrinsic+json": {
              "type": "dataframe",
              "variable_name": "df"
            }
          },
          "metadata": {},
          "execution_count": 7
        }
      ],
      "source": [
        "df = pd.read_pickle('/content/drive/MyDrive/pan_cancer_diner/final/Pan Cancer/Validados/picklesnuevos/df_sinFPPP_2.pkl')\n",
        "df"
      ]
    },
    {
      "cell_type": "code",
      "execution_count": 8,
      "metadata": {
        "id": "x5oyeu0mRe8F"
      },
      "outputs": [],
      "source": [
        "clinicos = clinicos.dropna(subset=['vital'])\n",
        "clinicos = clinicos.dropna(subset=['panel'])"
      ]
    },
    {
      "cell_type": "code",
      "execution_count": 9,
      "metadata": {
        "id": "zhrpWaDJIkOa"
      },
      "outputs": [],
      "source": [
        "df['vital'] = clinicos['vital']\n",
        "df['panel'] = clinicos['panel']"
      ]
    },
    {
      "cell_type": "code",
      "execution_count": 10,
      "metadata": {
        "id": "tPMx64NFRjsK"
      },
      "outputs": [],
      "source": [
        "df = df.dropna(subset=['vital'])\n",
        "df = df.dropna(subset=['panel'])"
      ]
    },
    {
      "cell_type": "code",
      "execution_count": 11,
      "metadata": {
        "colab": {
          "base_uri": "https://localhost:8080/"
        },
        "id": "W3ji0diK96NW",
        "outputId": "53761e67-ae49-46bd-d6a8-f49dd9f1dc48"
      },
      "outputs": [
        {
          "output_type": "execute_result",
          "data": {
            "text/plain": [
              "array(['LIHC', 'PRAD', 'READ', 'BLCA', 'LGG', 'BRCA', 'UCEC', 'SARC',\n",
              "       'KIRC', 'PCPG', 'DLBC', 'MESO', 'THYM', 'LUSC', 'LUAD', 'STAD',\n",
              "       'GBM', 'LAML', 'THCA', 'CESC', 'COAD', 'HNSC', 'UVM', 'SKCM',\n",
              "       'PAAD', 'OV', 'TGCT', 'KICH', 'ESCA', 'KIRP', 'ACC', 'CHOL', 'UCS'],\n",
              "      dtype=object)"
            ]
          },
          "metadata": {},
          "execution_count": 11
        }
      ],
      "source": [
        "clinicos['panel'].unique()"
      ]
    },
    {
      "cell_type": "code",
      "execution_count": 12,
      "metadata": {
        "colab": {
          "base_uri": "https://localhost:8080/",
          "height": 999
        },
        "id": "_uh4cS8CHE5K",
        "outputId": "2c5e3d8c-60a4-4be0-d97e-f5ab129fa3ca"
      },
      "outputs": [
        {
          "output_type": "execute_result",
          "data": {
            "text/plain": [
              "0                                     5S_rRNA  5_8S_rRNA   7SK   A1BG  \\\n",
              "9fe7d0f4-866d-490f-b2cb-d9be7da889de        0          0    79   1055   \n",
              "dd74434f-300f-4798-8342-aad31b192e12        1          0  1250      8   \n",
              "07db9e9d-059d-4e6c-b483-81517a492b96        0          0    41      2   \n",
              "47ee860a-fd18-48f2-bfe7-4e19391950bd        0          0   111  16482   \n",
              "e322b0e5-458a-4cbf-a64f-9b348e413939        2          0    22      2   \n",
              "...                                       ...        ...   ...    ...   \n",
              "62cb41b1-8960-4fa2-8f74-38dd174af004        3          0    52     14   \n",
              "673a85f3-ba5e-448a-acee-dfec77b5238e        3          0   169     40   \n",
              "3d93b2ae-7730-4914-af23-ff3554752922        0          1  3961     10   \n",
              "85a0b88f-2b89-4117-9e04-b81fad7f2e1b        9          1  1003     90   \n",
              "a512642f-b720-4efb-a4e9-49b746980809        2          0    98     41   \n",
              "\n",
              "0                                     A1BG-AS1   A1CF     A2M  A2M-AS1  A2ML1  \\\n",
              "9fe7d0f4-866d-490f-b2cb-d9be7da889de        12   3291    6614       11      0   \n",
              "dd74434f-300f-4798-8342-aad31b192e12        51      3   24510       55    120   \n",
              "07db9e9d-059d-4e6c-b483-81517a492b96        35   1618   21227       29      1   \n",
              "47ee860a-fd18-48f2-bfe7-4e19391950bd       328  10632  159168      124      1   \n",
              "e322b0e5-458a-4cbf-a64f-9b348e413939         0      2    7488       18   1714   \n",
              "...                                        ...    ...     ...      ...    ...   \n",
              "62cb41b1-8960-4fa2-8f74-38dd174af004        76   2971  111008       92      6   \n",
              "673a85f3-ba5e-448a-acee-dfec77b5238e       142      4   25243       27    277   \n",
              "3d93b2ae-7730-4914-af23-ff3554752922        54      3   32550       26    289   \n",
              "85a0b88f-2b89-4117-9e04-b81fad7f2e1b       272      0     331       96     55   \n",
              "a512642f-b720-4efb-a4e9-49b746980809       154      1   36537      107     18   \n",
              "\n",
              "0                                     A2ML1-AS1  ...  ZYG11B    ZYX  ZYXP1  \\\n",
              "9fe7d0f4-866d-490f-b2cb-d9be7da889de          0  ...     557   3130      0   \n",
              "dd74434f-300f-4798-8342-aad31b192e12          0  ...     963  10619      0   \n",
              "07db9e9d-059d-4e6c-b483-81517a492b96          0  ...    2136  13793      0   \n",
              "47ee860a-fd18-48f2-bfe7-4e19391950bd          0  ...    3417    887      0   \n",
              "e322b0e5-458a-4cbf-a64f-9b348e413939          0  ...    2155  13427      0   \n",
              "...                                         ...  ...     ...    ...    ...   \n",
              "62cb41b1-8960-4fa2-8f74-38dd174af004          0  ...    3969  11102      0   \n",
              "673a85f3-ba5e-448a-acee-dfec77b5238e          0  ...    2717  14657      0   \n",
              "3d93b2ae-7730-4914-af23-ff3554752922          1  ...    2568   4216      0   \n",
              "85a0b88f-2b89-4117-9e04-b81fad7f2e1b          0  ...    1611  19604      0   \n",
              "a512642f-b720-4efb-a4e9-49b746980809          0  ...    4057   8229      0   \n",
              "\n",
              "0                                     ZZEF1  ZZZ3  hsa-mir-1253  hsa-mir-423  \\\n",
              "9fe7d0f4-866d-490f-b2cb-d9be7da889de    314   469             0            0   \n",
              "dd74434f-300f-4798-8342-aad31b192e12   1656  1146             0            0   \n",
              "07db9e9d-059d-4e6c-b483-81517a492b96   3667  2641             0            0   \n",
              "47ee860a-fd18-48f2-bfe7-4e19391950bd   1822  1891             0            0   \n",
              "e322b0e5-458a-4cbf-a64f-9b348e413939   1404  2215             0            0   \n",
              "...                                     ...   ...           ...          ...   \n",
              "62cb41b1-8960-4fa2-8f74-38dd174af004   4381  2584             0            0   \n",
              "673a85f3-ba5e-448a-acee-dfec77b5238e   1090  2165             0            0   \n",
              "3d93b2ae-7730-4914-af23-ff3554752922   3239   908             0            0   \n",
              "85a0b88f-2b89-4117-9e04-b81fad7f2e1b   7247  3970             0            0   \n",
              "a512642f-b720-4efb-a4e9-49b746980809   5007  3273             0            0   \n",
              "\n",
              "0                                     snoZ196  vital  panel  \n",
              "9fe7d0f4-866d-490f-b2cb-d9be7da889de        3  Alive   LIHC  \n",
              "dd74434f-300f-4798-8342-aad31b192e12        3  Alive   PRAD  \n",
              "07db9e9d-059d-4e6c-b483-81517a492b96        3   Dead   READ  \n",
              "47ee860a-fd18-48f2-bfe7-4e19391950bd        1  Alive   LIHC  \n",
              "e322b0e5-458a-4cbf-a64f-9b348e413939        4   Dead   BLCA  \n",
              "...                                       ...    ...    ...  \n",
              "62cb41b1-8960-4fa2-8f74-38dd174af004        1   Dead   KIRC  \n",
              "673a85f3-ba5e-448a-acee-dfec77b5238e        3  Alive    UCS  \n",
              "3d93b2ae-7730-4914-af23-ff3554752922        1  Alive    LGG  \n",
              "85a0b88f-2b89-4117-9e04-b81fad7f2e1b       13  Alive   LAML  \n",
              "a512642f-b720-4efb-a4e9-49b746980809        7  Alive   THCA  \n",
              "\n",
              "[10286 rows x 39981 columns]"
            ],
            "text/html": [
              "\n",
              "  <div id=\"df-3f0e680c-5fe6-4d9a-8b99-29af5279f62c\" class=\"colab-df-container\">\n",
              "    <div>\n",
              "<style scoped>\n",
              "    .dataframe tbody tr th:only-of-type {\n",
              "        vertical-align: middle;\n",
              "    }\n",
              "\n",
              "    .dataframe tbody tr th {\n",
              "        vertical-align: top;\n",
              "    }\n",
              "\n",
              "    .dataframe thead th {\n",
              "        text-align: right;\n",
              "    }\n",
              "</style>\n",
              "<table border=\"1\" class=\"dataframe\">\n",
              "  <thead>\n",
              "    <tr style=\"text-align: right;\">\n",
              "      <th></th>\n",
              "      <th>5S_rRNA</th>\n",
              "      <th>5_8S_rRNA</th>\n",
              "      <th>7SK</th>\n",
              "      <th>A1BG</th>\n",
              "      <th>A1BG-AS1</th>\n",
              "      <th>A1CF</th>\n",
              "      <th>A2M</th>\n",
              "      <th>A2M-AS1</th>\n",
              "      <th>A2ML1</th>\n",
              "      <th>A2ML1-AS1</th>\n",
              "      <th>...</th>\n",
              "      <th>ZYG11B</th>\n",
              "      <th>ZYX</th>\n",
              "      <th>ZYXP1</th>\n",
              "      <th>ZZEF1</th>\n",
              "      <th>ZZZ3</th>\n",
              "      <th>hsa-mir-1253</th>\n",
              "      <th>hsa-mir-423</th>\n",
              "      <th>snoZ196</th>\n",
              "      <th>vital</th>\n",
              "      <th>panel</th>\n",
              "    </tr>\n",
              "  </thead>\n",
              "  <tbody>\n",
              "    <tr>\n",
              "      <th>9fe7d0f4-866d-490f-b2cb-d9be7da889de</th>\n",
              "      <td>0</td>\n",
              "      <td>0</td>\n",
              "      <td>79</td>\n",
              "      <td>1055</td>\n",
              "      <td>12</td>\n",
              "      <td>3291</td>\n",
              "      <td>6614</td>\n",
              "      <td>11</td>\n",
              "      <td>0</td>\n",
              "      <td>0</td>\n",
              "      <td>...</td>\n",
              "      <td>557</td>\n",
              "      <td>3130</td>\n",
              "      <td>0</td>\n",
              "      <td>314</td>\n",
              "      <td>469</td>\n",
              "      <td>0</td>\n",
              "      <td>0</td>\n",
              "      <td>3</td>\n",
              "      <td>Alive</td>\n",
              "      <td>LIHC</td>\n",
              "    </tr>\n",
              "    <tr>\n",
              "      <th>dd74434f-300f-4798-8342-aad31b192e12</th>\n",
              "      <td>1</td>\n",
              "      <td>0</td>\n",
              "      <td>1250</td>\n",
              "      <td>8</td>\n",
              "      <td>51</td>\n",
              "      <td>3</td>\n",
              "      <td>24510</td>\n",
              "      <td>55</td>\n",
              "      <td>120</td>\n",
              "      <td>0</td>\n",
              "      <td>...</td>\n",
              "      <td>963</td>\n",
              "      <td>10619</td>\n",
              "      <td>0</td>\n",
              "      <td>1656</td>\n",
              "      <td>1146</td>\n",
              "      <td>0</td>\n",
              "      <td>0</td>\n",
              "      <td>3</td>\n",
              "      <td>Alive</td>\n",
              "      <td>PRAD</td>\n",
              "    </tr>\n",
              "    <tr>\n",
              "      <th>07db9e9d-059d-4e6c-b483-81517a492b96</th>\n",
              "      <td>0</td>\n",
              "      <td>0</td>\n",
              "      <td>41</td>\n",
              "      <td>2</td>\n",
              "      <td>35</td>\n",
              "      <td>1618</td>\n",
              "      <td>21227</td>\n",
              "      <td>29</td>\n",
              "      <td>1</td>\n",
              "      <td>0</td>\n",
              "      <td>...</td>\n",
              "      <td>2136</td>\n",
              "      <td>13793</td>\n",
              "      <td>0</td>\n",
              "      <td>3667</td>\n",
              "      <td>2641</td>\n",
              "      <td>0</td>\n",
              "      <td>0</td>\n",
              "      <td>3</td>\n",
              "      <td>Dead</td>\n",
              "      <td>READ</td>\n",
              "    </tr>\n",
              "    <tr>\n",
              "      <th>47ee860a-fd18-48f2-bfe7-4e19391950bd</th>\n",
              "      <td>0</td>\n",
              "      <td>0</td>\n",
              "      <td>111</td>\n",
              "      <td>16482</td>\n",
              "      <td>328</td>\n",
              "      <td>10632</td>\n",
              "      <td>159168</td>\n",
              "      <td>124</td>\n",
              "      <td>1</td>\n",
              "      <td>0</td>\n",
              "      <td>...</td>\n",
              "      <td>3417</td>\n",
              "      <td>887</td>\n",
              "      <td>0</td>\n",
              "      <td>1822</td>\n",
              "      <td>1891</td>\n",
              "      <td>0</td>\n",
              "      <td>0</td>\n",
              "      <td>1</td>\n",
              "      <td>Alive</td>\n",
              "      <td>LIHC</td>\n",
              "    </tr>\n",
              "    <tr>\n",
              "      <th>e322b0e5-458a-4cbf-a64f-9b348e413939</th>\n",
              "      <td>2</td>\n",
              "      <td>0</td>\n",
              "      <td>22</td>\n",
              "      <td>2</td>\n",
              "      <td>0</td>\n",
              "      <td>2</td>\n",
              "      <td>7488</td>\n",
              "      <td>18</td>\n",
              "      <td>1714</td>\n",
              "      <td>0</td>\n",
              "      <td>...</td>\n",
              "      <td>2155</td>\n",
              "      <td>13427</td>\n",
              "      <td>0</td>\n",
              "      <td>1404</td>\n",
              "      <td>2215</td>\n",
              "      <td>0</td>\n",
              "      <td>0</td>\n",
              "      <td>4</td>\n",
              "      <td>Dead</td>\n",
              "      <td>BLCA</td>\n",
              "    </tr>\n",
              "    <tr>\n",
              "      <th>...</th>\n",
              "      <td>...</td>\n",
              "      <td>...</td>\n",
              "      <td>...</td>\n",
              "      <td>...</td>\n",
              "      <td>...</td>\n",
              "      <td>...</td>\n",
              "      <td>...</td>\n",
              "      <td>...</td>\n",
              "      <td>...</td>\n",
              "      <td>...</td>\n",
              "      <td>...</td>\n",
              "      <td>...</td>\n",
              "      <td>...</td>\n",
              "      <td>...</td>\n",
              "      <td>...</td>\n",
              "      <td>...</td>\n",
              "      <td>...</td>\n",
              "      <td>...</td>\n",
              "      <td>...</td>\n",
              "      <td>...</td>\n",
              "      <td>...</td>\n",
              "    </tr>\n",
              "    <tr>\n",
              "      <th>62cb41b1-8960-4fa2-8f74-38dd174af004</th>\n",
              "      <td>3</td>\n",
              "      <td>0</td>\n",
              "      <td>52</td>\n",
              "      <td>14</td>\n",
              "      <td>76</td>\n",
              "      <td>2971</td>\n",
              "      <td>111008</td>\n",
              "      <td>92</td>\n",
              "      <td>6</td>\n",
              "      <td>0</td>\n",
              "      <td>...</td>\n",
              "      <td>3969</td>\n",
              "      <td>11102</td>\n",
              "      <td>0</td>\n",
              "      <td>4381</td>\n",
              "      <td>2584</td>\n",
              "      <td>0</td>\n",
              "      <td>0</td>\n",
              "      <td>1</td>\n",
              "      <td>Dead</td>\n",
              "      <td>KIRC</td>\n",
              "    </tr>\n",
              "    <tr>\n",
              "      <th>673a85f3-ba5e-448a-acee-dfec77b5238e</th>\n",
              "      <td>3</td>\n",
              "      <td>0</td>\n",
              "      <td>169</td>\n",
              "      <td>40</td>\n",
              "      <td>142</td>\n",
              "      <td>4</td>\n",
              "      <td>25243</td>\n",
              "      <td>27</td>\n",
              "      <td>277</td>\n",
              "      <td>0</td>\n",
              "      <td>...</td>\n",
              "      <td>2717</td>\n",
              "      <td>14657</td>\n",
              "      <td>0</td>\n",
              "      <td>1090</td>\n",
              "      <td>2165</td>\n",
              "      <td>0</td>\n",
              "      <td>0</td>\n",
              "      <td>3</td>\n",
              "      <td>Alive</td>\n",
              "      <td>UCS</td>\n",
              "    </tr>\n",
              "    <tr>\n",
              "      <th>3d93b2ae-7730-4914-af23-ff3554752922</th>\n",
              "      <td>0</td>\n",
              "      <td>1</td>\n",
              "      <td>3961</td>\n",
              "      <td>10</td>\n",
              "      <td>54</td>\n",
              "      <td>3</td>\n",
              "      <td>32550</td>\n",
              "      <td>26</td>\n",
              "      <td>289</td>\n",
              "      <td>1</td>\n",
              "      <td>...</td>\n",
              "      <td>2568</td>\n",
              "      <td>4216</td>\n",
              "      <td>0</td>\n",
              "      <td>3239</td>\n",
              "      <td>908</td>\n",
              "      <td>0</td>\n",
              "      <td>0</td>\n",
              "      <td>1</td>\n",
              "      <td>Alive</td>\n",
              "      <td>LGG</td>\n",
              "    </tr>\n",
              "    <tr>\n",
              "      <th>85a0b88f-2b89-4117-9e04-b81fad7f2e1b</th>\n",
              "      <td>9</td>\n",
              "      <td>1</td>\n",
              "      <td>1003</td>\n",
              "      <td>90</td>\n",
              "      <td>272</td>\n",
              "      <td>0</td>\n",
              "      <td>331</td>\n",
              "      <td>96</td>\n",
              "      <td>55</td>\n",
              "      <td>0</td>\n",
              "      <td>...</td>\n",
              "      <td>1611</td>\n",
              "      <td>19604</td>\n",
              "      <td>0</td>\n",
              "      <td>7247</td>\n",
              "      <td>3970</td>\n",
              "      <td>0</td>\n",
              "      <td>0</td>\n",
              "      <td>13</td>\n",
              "      <td>Alive</td>\n",
              "      <td>LAML</td>\n",
              "    </tr>\n",
              "    <tr>\n",
              "      <th>a512642f-b720-4efb-a4e9-49b746980809</th>\n",
              "      <td>2</td>\n",
              "      <td>0</td>\n",
              "      <td>98</td>\n",
              "      <td>41</td>\n",
              "      <td>154</td>\n",
              "      <td>1</td>\n",
              "      <td>36537</td>\n",
              "      <td>107</td>\n",
              "      <td>18</td>\n",
              "      <td>0</td>\n",
              "      <td>...</td>\n",
              "      <td>4057</td>\n",
              "      <td>8229</td>\n",
              "      <td>0</td>\n",
              "      <td>5007</td>\n",
              "      <td>3273</td>\n",
              "      <td>0</td>\n",
              "      <td>0</td>\n",
              "      <td>7</td>\n",
              "      <td>Alive</td>\n",
              "      <td>THCA</td>\n",
              "    </tr>\n",
              "  </tbody>\n",
              "</table>\n",
              "<p>10286 rows × 39981 columns</p>\n",
              "</div>\n",
              "    <div class=\"colab-df-buttons\">\n",
              "\n",
              "  <div class=\"colab-df-container\">\n",
              "    <button class=\"colab-df-convert\" onclick=\"convertToInteractive('df-3f0e680c-5fe6-4d9a-8b99-29af5279f62c')\"\n",
              "            title=\"Convert this dataframe to an interactive table.\"\n",
              "            style=\"display:none;\">\n",
              "\n",
              "  <svg xmlns=\"http://www.w3.org/2000/svg\" height=\"24px\" viewBox=\"0 -960 960 960\">\n",
              "    <path d=\"M120-120v-720h720v720H120Zm60-500h600v-160H180v160Zm220 220h160v-160H400v160Zm0 220h160v-160H400v160ZM180-400h160v-160H180v160Zm440 0h160v-160H620v160ZM180-180h160v-160H180v160Zm440 0h160v-160H620v160Z\"/>\n",
              "  </svg>\n",
              "    </button>\n",
              "\n",
              "  <style>\n",
              "    .colab-df-container {\n",
              "      display:flex;\n",
              "      gap: 12px;\n",
              "    }\n",
              "\n",
              "    .colab-df-convert {\n",
              "      background-color: #E8F0FE;\n",
              "      border: none;\n",
              "      border-radius: 50%;\n",
              "      cursor: pointer;\n",
              "      display: none;\n",
              "      fill: #1967D2;\n",
              "      height: 32px;\n",
              "      padding: 0 0 0 0;\n",
              "      width: 32px;\n",
              "    }\n",
              "\n",
              "    .colab-df-convert:hover {\n",
              "      background-color: #E2EBFA;\n",
              "      box-shadow: 0px 1px 2px rgba(60, 64, 67, 0.3), 0px 1px 3px 1px rgba(60, 64, 67, 0.15);\n",
              "      fill: #174EA6;\n",
              "    }\n",
              "\n",
              "    .colab-df-buttons div {\n",
              "      margin-bottom: 4px;\n",
              "    }\n",
              "\n",
              "    [theme=dark] .colab-df-convert {\n",
              "      background-color: #3B4455;\n",
              "      fill: #D2E3FC;\n",
              "    }\n",
              "\n",
              "    [theme=dark] .colab-df-convert:hover {\n",
              "      background-color: #434B5C;\n",
              "      box-shadow: 0px 1px 3px 1px rgba(0, 0, 0, 0.15);\n",
              "      filter: drop-shadow(0px 1px 2px rgba(0, 0, 0, 0.3));\n",
              "      fill: #FFFFFF;\n",
              "    }\n",
              "  </style>\n",
              "\n",
              "    <script>\n",
              "      const buttonEl =\n",
              "        document.querySelector('#df-3f0e680c-5fe6-4d9a-8b99-29af5279f62c button.colab-df-convert');\n",
              "      buttonEl.style.display =\n",
              "        google.colab.kernel.accessAllowed ? 'block' : 'none';\n",
              "\n",
              "      async function convertToInteractive(key) {\n",
              "        const element = document.querySelector('#df-3f0e680c-5fe6-4d9a-8b99-29af5279f62c');\n",
              "        const dataTable =\n",
              "          await google.colab.kernel.invokeFunction('convertToInteractive',\n",
              "                                                    [key], {});\n",
              "        if (!dataTable) return;\n",
              "\n",
              "        const docLinkHtml = 'Like what you see? Visit the ' +\n",
              "          '<a target=\"_blank\" href=https://colab.research.google.com/notebooks/data_table.ipynb>data table notebook</a>'\n",
              "          + ' to learn more about interactive tables.';\n",
              "        element.innerHTML = '';\n",
              "        dataTable['output_type'] = 'display_data';\n",
              "        await google.colab.output.renderOutput(dataTable, element);\n",
              "        const docLink = document.createElement('div');\n",
              "        docLink.innerHTML = docLinkHtml;\n",
              "        element.appendChild(docLink);\n",
              "      }\n",
              "    </script>\n",
              "  </div>\n",
              "\n",
              "\n",
              "<div id=\"df-99cbd113-9f7f-4918-812d-72b3dd5678cf\">\n",
              "  <button class=\"colab-df-quickchart\" onclick=\"quickchart('df-99cbd113-9f7f-4918-812d-72b3dd5678cf')\"\n",
              "            title=\"Suggest charts\"\n",
              "            style=\"display:none;\">\n",
              "\n",
              "<svg xmlns=\"http://www.w3.org/2000/svg\" height=\"24px\"viewBox=\"0 0 24 24\"\n",
              "     width=\"24px\">\n",
              "    <g>\n",
              "        <path d=\"M19 3H5c-1.1 0-2 .9-2 2v14c0 1.1.9 2 2 2h14c1.1 0 2-.9 2-2V5c0-1.1-.9-2-2-2zM9 17H7v-7h2v7zm4 0h-2V7h2v10zm4 0h-2v-4h2v4z\"/>\n",
              "    </g>\n",
              "</svg>\n",
              "  </button>\n",
              "\n",
              "<style>\n",
              "  .colab-df-quickchart {\n",
              "      --bg-color: #E8F0FE;\n",
              "      --fill-color: #1967D2;\n",
              "      --hover-bg-color: #E2EBFA;\n",
              "      --hover-fill-color: #174EA6;\n",
              "      --disabled-fill-color: #AAA;\n",
              "      --disabled-bg-color: #DDD;\n",
              "  }\n",
              "\n",
              "  [theme=dark] .colab-df-quickchart {\n",
              "      --bg-color: #3B4455;\n",
              "      --fill-color: #D2E3FC;\n",
              "      --hover-bg-color: #434B5C;\n",
              "      --hover-fill-color: #FFFFFF;\n",
              "      --disabled-bg-color: #3B4455;\n",
              "      --disabled-fill-color: #666;\n",
              "  }\n",
              "\n",
              "  .colab-df-quickchart {\n",
              "    background-color: var(--bg-color);\n",
              "    border: none;\n",
              "    border-radius: 50%;\n",
              "    cursor: pointer;\n",
              "    display: none;\n",
              "    fill: var(--fill-color);\n",
              "    height: 32px;\n",
              "    padding: 0;\n",
              "    width: 32px;\n",
              "  }\n",
              "\n",
              "  .colab-df-quickchart:hover {\n",
              "    background-color: var(--hover-bg-color);\n",
              "    box-shadow: 0 1px 2px rgba(60, 64, 67, 0.3), 0 1px 3px 1px rgba(60, 64, 67, 0.15);\n",
              "    fill: var(--button-hover-fill-color);\n",
              "  }\n",
              "\n",
              "  .colab-df-quickchart-complete:disabled,\n",
              "  .colab-df-quickchart-complete:disabled:hover {\n",
              "    background-color: var(--disabled-bg-color);\n",
              "    fill: var(--disabled-fill-color);\n",
              "    box-shadow: none;\n",
              "  }\n",
              "\n",
              "  .colab-df-spinner {\n",
              "    border: 2px solid var(--fill-color);\n",
              "    border-color: transparent;\n",
              "    border-bottom-color: var(--fill-color);\n",
              "    animation:\n",
              "      spin 1s steps(1) infinite;\n",
              "  }\n",
              "\n",
              "  @keyframes spin {\n",
              "    0% {\n",
              "      border-color: transparent;\n",
              "      border-bottom-color: var(--fill-color);\n",
              "      border-left-color: var(--fill-color);\n",
              "    }\n",
              "    20% {\n",
              "      border-color: transparent;\n",
              "      border-left-color: var(--fill-color);\n",
              "      border-top-color: var(--fill-color);\n",
              "    }\n",
              "    30% {\n",
              "      border-color: transparent;\n",
              "      border-left-color: var(--fill-color);\n",
              "      border-top-color: var(--fill-color);\n",
              "      border-right-color: var(--fill-color);\n",
              "    }\n",
              "    40% {\n",
              "      border-color: transparent;\n",
              "      border-right-color: var(--fill-color);\n",
              "      border-top-color: var(--fill-color);\n",
              "    }\n",
              "    60% {\n",
              "      border-color: transparent;\n",
              "      border-right-color: var(--fill-color);\n",
              "    }\n",
              "    80% {\n",
              "      border-color: transparent;\n",
              "      border-right-color: var(--fill-color);\n",
              "      border-bottom-color: var(--fill-color);\n",
              "    }\n",
              "    90% {\n",
              "      border-color: transparent;\n",
              "      border-bottom-color: var(--fill-color);\n",
              "    }\n",
              "  }\n",
              "</style>\n",
              "\n",
              "  <script>\n",
              "    async function quickchart(key) {\n",
              "      const quickchartButtonEl =\n",
              "        document.querySelector('#' + key + ' button');\n",
              "      quickchartButtonEl.disabled = true;  // To prevent multiple clicks.\n",
              "      quickchartButtonEl.classList.add('colab-df-spinner');\n",
              "      try {\n",
              "        const charts = await google.colab.kernel.invokeFunction(\n",
              "            'suggestCharts', [key], {});\n",
              "      } catch (error) {\n",
              "        console.error('Error during call to suggestCharts:', error);\n",
              "      }\n",
              "      quickchartButtonEl.classList.remove('colab-df-spinner');\n",
              "      quickchartButtonEl.classList.add('colab-df-quickchart-complete');\n",
              "    }\n",
              "    (() => {\n",
              "      let quickchartButtonEl =\n",
              "        document.querySelector('#df-99cbd113-9f7f-4918-812d-72b3dd5678cf button');\n",
              "      quickchartButtonEl.style.display =\n",
              "        google.colab.kernel.accessAllowed ? 'block' : 'none';\n",
              "    })();\n",
              "  </script>\n",
              "</div>\n",
              "\n",
              "  <div id=\"id_7015264a-6360-49c9-abba-f65dc6696276\">\n",
              "    <style>\n",
              "      .colab-df-generate {\n",
              "        background-color: #E8F0FE;\n",
              "        border: none;\n",
              "        border-radius: 50%;\n",
              "        cursor: pointer;\n",
              "        display: none;\n",
              "        fill: #1967D2;\n",
              "        height: 32px;\n",
              "        padding: 0 0 0 0;\n",
              "        width: 32px;\n",
              "      }\n",
              "\n",
              "      .colab-df-generate:hover {\n",
              "        background-color: #E2EBFA;\n",
              "        box-shadow: 0px 1px 2px rgba(60, 64, 67, 0.3), 0px 1px 3px 1px rgba(60, 64, 67, 0.15);\n",
              "        fill: #174EA6;\n",
              "      }\n",
              "\n",
              "      [theme=dark] .colab-df-generate {\n",
              "        background-color: #3B4455;\n",
              "        fill: #D2E3FC;\n",
              "      }\n",
              "\n",
              "      [theme=dark] .colab-df-generate:hover {\n",
              "        background-color: #434B5C;\n",
              "        box-shadow: 0px 1px 3px 1px rgba(0, 0, 0, 0.15);\n",
              "        filter: drop-shadow(0px 1px 2px rgba(0, 0, 0, 0.3));\n",
              "        fill: #FFFFFF;\n",
              "      }\n",
              "    </style>\n",
              "    <button class=\"colab-df-generate\" onclick=\"generateWithVariable('df')\"\n",
              "            title=\"Generate code using this dataframe.\"\n",
              "            style=\"display:none;\">\n",
              "\n",
              "  <svg xmlns=\"http://www.w3.org/2000/svg\" height=\"24px\"viewBox=\"0 0 24 24\"\n",
              "       width=\"24px\">\n",
              "    <path d=\"M7,19H8.4L18.45,9,17,7.55,7,17.6ZM5,21V16.75L18.45,3.32a2,2,0,0,1,2.83,0l1.4,1.43a1.91,1.91,0,0,1,.58,1.4,1.91,1.91,0,0,1-.58,1.4L9.25,21ZM18.45,9,17,7.55Zm-12,3A5.31,5.31,0,0,0,4.9,8.1,5.31,5.31,0,0,0,1,6.5,5.31,5.31,0,0,0,4.9,4.9,5.31,5.31,0,0,0,6.5,1,5.31,5.31,0,0,0,8.1,4.9,5.31,5.31,0,0,0,12,6.5,5.46,5.46,0,0,0,6.5,12Z\"/>\n",
              "  </svg>\n",
              "    </button>\n",
              "    <script>\n",
              "      (() => {\n",
              "      const buttonEl =\n",
              "        document.querySelector('#id_7015264a-6360-49c9-abba-f65dc6696276 button.colab-df-generate');\n",
              "      buttonEl.style.display =\n",
              "        google.colab.kernel.accessAllowed ? 'block' : 'none';\n",
              "\n",
              "      buttonEl.onclick = () => {\n",
              "        google.colab.notebook.generateWithVariable('df');\n",
              "      }\n",
              "      })();\n",
              "    </script>\n",
              "  </div>\n",
              "\n",
              "    </div>\n",
              "  </div>\n"
            ],
            "application/vnd.google.colaboratory.intrinsic+json": {
              "type": "dataframe",
              "variable_name": "df"
            }
          },
          "metadata": {},
          "execution_count": 12
        }
      ],
      "source": [
        "df"
      ]
    },
    {
      "cell_type": "code",
      "execution_count": 12,
      "metadata": {
        "id": "Wj4jf1143PJW"
      },
      "outputs": [],
      "source": []
    },
    {
      "cell_type": "code",
      "execution_count": 13,
      "metadata": {
        "id": "dIaB7MIEm3zL",
        "colab": {
          "base_uri": "https://localhost:8080/"
        },
        "outputId": "9e4ce984-21f2-4ac9-c431-d289fed2202a"
      },
      "outputs": [
        {
          "output_type": "stream",
          "name": "stdout",
          "text": [
            "Usando dispositivo: cuda\n",
            "----------------------------------------------------------------\n",
            "        Layer (type)               Output Shape         Param #\n",
            "================================================================\n",
            "            Linear-1                 [-1, 5000]     199,900,000\n",
            "       BatchNorm1d-2                 [-1, 5000]          10,000\n",
            "           Dropout-3                 [-1, 5000]               0\n",
            "            Linear-4                 [-1, 5000]      25,005,000\n",
            "       BatchNorm1d-5                 [-1, 5000]          10,000\n",
            "           Dropout-6                 [-1, 5000]               0\n",
            "            Linear-7                    [-1, 1]           5,001\n",
            "================================================================\n",
            "Total params: 224,930,001\n",
            "Trainable params: 224,930,001\n",
            "Non-trainable params: 0\n",
            "----------------------------------------------------------------\n",
            "Input size (MB): 0.15\n",
            "Forward/backward pass size (MB): 0.23\n",
            "Params size (MB): 858.04\n",
            "Estimated Total Size (MB): 858.42\n",
            "----------------------------------------------------------------\n",
            "Epoch [1/10], Accuracy: 0.6520\n",
            "Modelo guardado en: /ruta/a/guardar/modelos/model_epoch_1.pth\n",
            "Epoch [2/10], Accuracy: 0.6880\n",
            "Modelo guardado en: /ruta/a/guardar/modelos/model_epoch_2.pth\n",
            "Epoch [3/10], Accuracy: 0.7427\n",
            "Modelo guardado en: /ruta/a/guardar/modelos/model_epoch_3.pth\n",
            "Epoch [4/10], Accuracy: 0.7656\n",
            "Modelo guardado en: /ruta/a/guardar/modelos/model_epoch_4.pth\n",
            "Epoch [5/10], Accuracy: 0.7889\n",
            "Modelo guardado en: /ruta/a/guardar/modelos/model_epoch_5.pth\n",
            "Epoch [6/10], Accuracy: 0.8153\n",
            "Modelo guardado en: /ruta/a/guardar/modelos/model_epoch_6.pth\n",
            "Epoch [7/10], Accuracy: 0.8351\n",
            "Modelo guardado en: /ruta/a/guardar/modelos/model_epoch_7.pth\n",
            "Epoch [8/10], Accuracy: 0.8516\n",
            "Modelo guardado en: /ruta/a/guardar/modelos/model_epoch_8.pth\n",
            "Epoch [9/10], Accuracy: 0.8734\n",
            "Modelo guardado en: /ruta/a/guardar/modelos/model_epoch_9.pth\n",
            "Epoch [10/10], Accuracy: 0.8864\n",
            "Modelo guardado en: /ruta/a/guardar/modelos/model_epoch_10.pth\n"
          ]
        }
      ],
      "source": [
        "import os\n",
        "import torch\n",
        "import torch.nn as nn\n",
        "import torch.optim as optim\n",
        "import torch.nn.functional as F\n",
        "from sklearn.preprocessing import LabelEncoder\n",
        "from torch.utils.data import DataLoader, TensorDataset\n",
        "import numpy as np\n",
        "from torchsummary import summary\n",
        "\n",
        "# Configurar el dispositivo para GPU si está disponible, de lo contrario, usar CPU\n",
        "device = torch.device(\"cuda\" if torch.cuda.is_available() else \"cpu\")\n",
        "print(f\"Usando dispositivo: {device}\")\n",
        "\n",
        "# Preparar los datos\n",
        "X = df.iloc[:, :-2].values  # Datos de miRNAs\n",
        "Y = df['vital'].values  # Estado vital\n",
        "\n",
        "from sklearn.model_selection import train_test_split\n",
        "\n",
        "# Dividir los datos en conjuntos de entrenamiento (80%) y prueba (20%) de forma estratificada\n",
        "X_train, X_test, Y_train, Y_test = train_test_split(\n",
        "    X, Y, test_size=0.2, stratify=Y, random_state=42\n",
        ")\n",
        "\n",
        "# Sobrescribir X y Y con los datos de entrenamiento\n",
        "X = X_train\n",
        "Y = Y_train\n",
        "\n",
        "# Convertir el estado vital a valores numéricos\n",
        "label_encoder_vital = LabelEncoder()\n",
        "Y = label_encoder_vital.fit_transform(Y)\n",
        "\n",
        "# Convertir los datos a tensores y moverlos al dispositivo\n",
        "X_tensor = torch.tensor(X, dtype=torch.float32).to(device)\n",
        "Y_tensor = torch.tensor(Y, dtype=torch.float32).unsqueeze(1).to(device)\n",
        "\n",
        "# Crear datasets y dataloaders\n",
        "batch_size = 128\n",
        "dataset = TensorDataset(X_tensor, Y_tensor)\n",
        "loader = DataLoader(dataset, batch_size=batch_size, shuffle=True)\n",
        "\n",
        "# Definición del modelo de clasificación\n",
        "class VitalStatusClassifier(nn.Module):\n",
        "    def __init__(self, input_dim):\n",
        "        super(VitalStatusClassifier, self).__init__()\n",
        "        self.fc1 = nn.Linear(input_dim, 5000)\n",
        "        self.bn1 = nn.BatchNorm1d(5000)\n",
        "        self.dropout1 = nn.Dropout(0.3)\n",
        "        self.fc2 = nn.Linear(5000, 5000)\n",
        "        self.bn2 = nn.BatchNorm1d(5000)\n",
        "        self.dropout2 = nn.Dropout(0.3)\n",
        "        self.fc3 = nn.Linear(5000, 1)\n",
        "        nn.init.kaiming_normal_(self.fc1.weight, nonlinearity='leaky_relu')\n",
        "        nn.init.kaiming_normal_(self.fc2.weight, nonlinearity='leaky_relu')\n",
        "        nn.init.kaiming_normal_(self.fc3.weight, nonlinearity='leaky_relu')\n",
        "\n",
        "    def forward(self, x):\n",
        "        x = F.leaky_relu(self.bn1(self.fc1(x)))\n",
        "        x = self.dropout1(x)\n",
        "        x = F.leaky_relu(self.bn2(self.fc2(x)))\n",
        "        x = self.dropout2(x)\n",
        "        x = torch.sigmoid(self.fc3(x))\n",
        "        return x\n",
        "\n",
        "# Crear el modelo\n",
        "input_dim = X.shape[1]\n",
        "model = VitalStatusClassifier(input_dim).to(device)\n",
        "\n",
        "# Imprimir el resumen de la arquitectura del modelo usando torchsummary\n",
        "summary(model, input_size=(input_dim,))\n",
        "\n",
        "# Definir el optimizador AdamW\n",
        "optimizer = optim.AdamW(\n",
        "    model.parameters(),\n",
        "    lr=0.01,\n",
        "    betas=(0.9, 0.99),\n",
        "    eps=1e-8,\n",
        "    weight_decay=0.01,\n",
        "    amsgrad=False\n",
        ")\n",
        "\n",
        "# Definir la función de pérdida\n",
        "criterion = nn.BCELoss().to(device)\n",
        "\n",
        "# Ruta para guardar los modelos\n",
        "save_dir = \"/ruta/a/guardar/modelos\"\n",
        "os.makedirs(save_dir, exist_ok=True)\n",
        "\n",
        "# Entrenamiento\n",
        "num_epochs = 10\n",
        "for epoch in range(num_epochs):\n",
        "    model.train()\n",
        "    correct = 0\n",
        "    total = 0\n",
        "\n",
        "    for inputs, labels in loader:\n",
        "        inputs, labels = inputs.to(device), labels.to(device)\n",
        "\n",
        "        # Forward pass: obtiene las predicciones para etiquetas\n",
        "        label_preds = model(inputs)\n",
        "\n",
        "        # Cálculo de la pérdida\n",
        "        loss = criterion(label_preds, labels)\n",
        "\n",
        "        # Reseteo de gradientes acumulados\n",
        "        optimizer.zero_grad()\n",
        "\n",
        "        # Retropropagación de gradientes\n",
        "        loss.backward()\n",
        "\n",
        "        # Clip gradients to prevent explosion\n",
        "        torch.nn.utils.clip_grad_norm_(model.parameters(), max_norm=1.0)\n",
        "\n",
        "        # Actualización de los parámetros del modelo\n",
        "        optimizer.step()\n",
        "\n",
        "        predicted_label = (label_preds > 0.5).float()\n",
        "        correct += (predicted_label == labels).sum().item()\n",
        "        total += labels.size(0)\n",
        "\n",
        "    accuracy = correct / total\n",
        "    print(f'Epoch [{epoch+1}/{num_epochs}], Accuracy: {accuracy:.4f}')\n",
        "\n",
        "    # Guardar el modelo al final de cada época\n",
        "    model_save_path = os.path.join(save_dir, f'model_epoch_{epoch+1}.pth')\n",
        "    torch.save(model.state_dict(), model_save_path)\n",
        "    print(f'Modelo guardado en: {model_save_path}')\n"
      ]
    },
    {
      "cell_type": "code",
      "source": [
        "import torch\n",
        "import shap\n",
        "from tqdm import tqdm\n",
        "import numpy as np\n",
        "\n",
        "# Supongamos que la época 10 es la que te interesa (indexada como 9 en Python)\n",
        "epoch_of_interest = 9  # Indexada desde 0, por lo que la época 10 es epoch 9\n",
        "\n",
        "# Definir la ruta del modelo guardado para la época 10\n",
        "model_path = os.path.join(save_dir, 'model_epoch_10.pth')\n",
        "\n",
        "# Crear una nueva instancia del modelo y cargar el estado guardado\n",
        "model = VitalStatusClassifier(input_dim).to(device)\n",
        "model.load_state_dict(torch.load(model_path))\n",
        "model.eval()  # Poner el modelo en modo evaluación\n",
        "\n",
        "# Convertir los datos de miRNAs a un tensor, pero solo las primeras 100 muestras\n",
        "X = df.iloc[:100, :-2].values  # Usando las primeras 100 filas y todas las columnas excepto las dos últimas\n",
        "X_tensor = torch.tensor(X, dtype=torch.float32).to(device)\n",
        "\n",
        "# Crear un objeto SHAP explainer utilizando GradientExplainer con el modelo\n",
        "explainer = shap.GradientExplainer(model, X_tensor)\n",
        "\n",
        "# Calcular los valores SHAP para la salida del modelo directamente sobre X_tensor\n",
        "shap_values = []\n",
        "try:\n",
        "    for i in tqdm(range(X_tensor.shape[0]), desc=\"Calculando valores SHAP\"):\n",
        "        shap_value = explainer.shap_values(X_tensor[i:i+1])\n",
        "        shap_values.append(shap_value)\n",
        "        print(f\"SHAP values for instance {i}: {shap_value}\")\n",
        "\n",
        "    # Convertir la lista de valores SHAP a un numpy array\n",
        "    shap_values_np = np.vstack(shap_values).squeeze()  # Eliminar la tercera dimensión\n",
        "    print(\"Final SHAP values numpy array (shape):\", shap_values_np.shape)\n",
        "\n",
        "    # Usar los nombres de características originales\n",
        "    feature_names_original = df.iloc[:, :-2].columns\n",
        "\n",
        "    # Visualización de los valores SHAP para las características originales\n",
        "    print(\"Generating SHAP summary plot...\")\n",
        "    shap.summary_plot(shap_values_np, X, feature_names=feature_names_original)\n",
        "    print(\"SHAP summary plot generated successfully.\")\n",
        "\n",
        "except Exception as e:\n",
        "    print(f\"An error occurred: {e}\")\n",
        "    print(f\"SHAP values calculated so far: {shap_values}\")\n"
      ],
      "metadata": {
        "colab": {
          "base_uri": "https://localhost:8080/",
          "height": 1000
        },
        "id": "ccUpmzgpCnlE",
        "outputId": "083b65fc-ba87-497c-a7b9-ab4ea0cb5aa1"
      },
      "execution_count": 15,
      "outputs": [
        {
          "output_type": "stream",
          "name": "stderr",
          "text": [
            "<ipython-input-15-289e2918c2e3>:14: FutureWarning: You are using `torch.load` with `weights_only=False` (the current default value), which uses the default pickle module implicitly. It is possible to construct malicious pickle data which will execute arbitrary code during unpickling (See https://github.com/pytorch/pytorch/blob/main/SECURITY.md#untrusted-models for more details). In a future release, the default value for `weights_only` will be flipped to `True`. This limits the functions that could be executed during unpickling. Arbitrary objects will no longer be allowed to be loaded via this mode unless they are explicitly allowlisted by the user via `torch.serialization.add_safe_globals`. We recommend you start setting `weights_only=True` for any use case where you don't have full control of the loaded file. Please open an issue on GitHub for any issues related to this experimental feature.\n",
            "  model.load_state_dict(torch.load(model_path))\n",
            "Calculando valores SHAP:   1%|          | 1/100 [00:00<00:25,  3.84it/s]"
          ]
        },
        {
          "output_type": "stream",
          "name": "stdout",
          "text": [
            "SHAP values for instance 0: [[[-1.47997817e-08]\n",
            "  [-1.77438107e-07]\n",
            "  [ 3.37882647e-05]\n",
            "  ...\n",
            "  [ 0.00000000e+00]\n",
            "  [ 0.00000000e+00]\n",
            "  [-9.21477799e-08]]]\n"
          ]
        },
        {
          "output_type": "stream",
          "name": "stderr",
          "text": [
            "\rCalculando valores SHAP:   2%|▏         | 2/100 [00:00<00:23,  4.09it/s]"
          ]
        },
        {
          "output_type": "stream",
          "name": "stdout",
          "text": [
            "SHAP values for instance 1: [[[-4.64736905e-09]\n",
            "  [-1.16393263e-07]\n",
            "  [-4.33339246e-05]\n",
            "  ...\n",
            "  [ 0.00000000e+00]\n",
            "  [ 0.00000000e+00]\n",
            "  [-4.90379590e-08]]]\n"
          ]
        },
        {
          "output_type": "stream",
          "name": "stderr",
          "text": [
            "\rCalculando valores SHAP:   3%|▎         | 3/100 [00:00<00:22,  4.26it/s]"
          ]
        },
        {
          "output_type": "stream",
          "name": "stdout",
          "text": [
            "SHAP values for instance 2: [[[-3.99944302e-08]\n",
            "  [-5.27537706e-07]\n",
            "  [ 6.98257810e-05]\n",
            "  ...\n",
            "  [ 0.00000000e+00]\n",
            "  [ 0.00000000e+00]\n",
            "  [-1.05888555e-07]]]\n"
          ]
        },
        {
          "output_type": "stream",
          "name": "stderr",
          "text": [
            "\rCalculando valores SHAP:   4%|▍         | 4/100 [00:00<00:22,  4.32it/s]"
          ]
        },
        {
          "output_type": "stream",
          "name": "stdout",
          "text": [
            "SHAP values for instance 3: [[[-1.02344861e-08]\n",
            "  [-4.39592598e-08]\n",
            "  [ 9.27106631e-06]\n",
            "  ...\n",
            "  [ 0.00000000e+00]\n",
            "  [ 0.00000000e+00]\n",
            "  [-8.23247754e-08]]]\n"
          ]
        },
        {
          "output_type": "stream",
          "name": "stderr",
          "text": [
            "\rCalculando valores SHAP:   5%|▌         | 5/100 [00:01<00:21,  4.37it/s]"
          ]
        },
        {
          "output_type": "stream",
          "name": "stdout",
          "text": [
            "SHAP values for instance 4: [[[ 1.10394243e-08]\n",
            "  [-2.44454017e-07]\n",
            "  [ 1.26680562e-05]\n",
            "  ...\n",
            "  [ 0.00000000e+00]\n",
            "  [ 0.00000000e+00]\n",
            "  [ 1.06476576e-07]]]\n"
          ]
        },
        {
          "output_type": "stream",
          "name": "stderr",
          "text": [
            "\rCalculando valores SHAP:   6%|▌         | 6/100 [00:01<00:21,  4.41it/s]"
          ]
        },
        {
          "output_type": "stream",
          "name": "stdout",
          "text": [
            "SHAP values for instance 5: [[[ 2.17390300e-09]\n",
            "  [-1.25218415e-07]\n",
            "  [ 1.81649677e-05]\n",
            "  ...\n",
            "  [ 0.00000000e+00]\n",
            "  [ 0.00000000e+00]\n",
            "  [-2.82402572e-07]]]\n"
          ]
        },
        {
          "output_type": "stream",
          "name": "stderr",
          "text": [
            "\rCalculando valores SHAP:   7%|▋         | 7/100 [00:01<00:20,  4.44it/s]"
          ]
        },
        {
          "output_type": "stream",
          "name": "stdout",
          "text": [
            "SHAP values for instance 6: [[[-3.22097146e-08]\n",
            "  [-6.15749225e-07]\n",
            "  [ 6.74258652e-05]\n",
            "  ...\n",
            "  [ 0.00000000e+00]\n",
            "  [ 0.00000000e+00]\n",
            "  [-1.74912214e-07]]]\n"
          ]
        },
        {
          "output_type": "stream",
          "name": "stderr",
          "text": [
            "\rCalculando valores SHAP:   8%|▊         | 8/100 [00:01<00:20,  4.43it/s]"
          ]
        },
        {
          "output_type": "stream",
          "name": "stdout",
          "text": [
            "SHAP values for instance 7: [[[-1.78336323e-08]\n",
            "  [-2.31269707e-07]\n",
            "  [ 5.72978073e-05]\n",
            "  ...\n",
            "  [ 0.00000000e+00]\n",
            "  [ 0.00000000e+00]\n",
            "  [-3.60146521e-07]]]\n"
          ]
        },
        {
          "output_type": "stream",
          "name": "stderr",
          "text": [
            "\rCalculando valores SHAP:   9%|▉         | 9/100 [00:02<00:20,  4.39it/s]"
          ]
        },
        {
          "output_type": "stream",
          "name": "stdout",
          "text": [
            "SHAP values for instance 8: [[[-1.36919315e-08]\n",
            "  [-7.64375302e-08]\n",
            "  [ 6.90075705e-06]\n",
            "  ...\n",
            "  [ 0.00000000e+00]\n",
            "  [ 0.00000000e+00]\n",
            "  [-2.21816350e-07]]]\n"
          ]
        },
        {
          "output_type": "stream",
          "name": "stderr",
          "text": [
            "\rCalculando valores SHAP:  10%|█         | 10/100 [00:02<00:20,  4.40it/s]"
          ]
        },
        {
          "output_type": "stream",
          "name": "stdout",
          "text": [
            "SHAP values for instance 9: [[[-2.75605069e-08]\n",
            "  [-1.55718419e-07]\n",
            "  [ 8.68942300e-06]\n",
            "  ...\n",
            "  [ 0.00000000e+00]\n",
            "  [ 0.00000000e+00]\n",
            "  [ 5.28658528e-07]]]\n"
          ]
        },
        {
          "output_type": "stream",
          "name": "stderr",
          "text": [
            "\rCalculando valores SHAP:  11%|█         | 11/100 [00:02<00:20,  4.42it/s]"
          ]
        },
        {
          "output_type": "stream",
          "name": "stdout",
          "text": [
            "SHAP values for instance 10: [[[-1.04195076e-08]\n",
            "  [-4.27988118e-07]\n",
            "  [ 6.53972496e-05]\n",
            "  ...\n",
            "  [ 0.00000000e+00]\n",
            "  [ 0.00000000e+00]\n",
            "  [ 2.55668354e-08]]]\n"
          ]
        },
        {
          "output_type": "stream",
          "name": "stderr",
          "text": [
            "\rCalculando valores SHAP:  12%|█▏        | 12/100 [00:02<00:19,  4.45it/s]"
          ]
        },
        {
          "output_type": "stream",
          "name": "stdout",
          "text": [
            "SHAP values for instance 11: [[[-2.53116373e-08]\n",
            "  [-9.00003096e-08]\n",
            "  [ 3.02842399e-05]\n",
            "  ...\n",
            "  [ 0.00000000e+00]\n",
            "  [ 0.00000000e+00]\n",
            "  [-4.79262846e-07]]]\n"
          ]
        },
        {
          "output_type": "stream",
          "name": "stderr",
          "text": [
            "\rCalculando valores SHAP:  13%|█▎        | 13/100 [00:02<00:19,  4.46it/s]"
          ]
        },
        {
          "output_type": "stream",
          "name": "stdout",
          "text": [
            "SHAP values for instance 12: [[[ 3.67881397e-08]\n",
            "  [-8.07354844e-08]\n",
            "  [ 1.07421773e-05]\n",
            "  ...\n",
            "  [ 0.00000000e+00]\n",
            "  [ 0.00000000e+00]\n",
            "  [ 1.17963322e-06]]]\n"
          ]
        },
        {
          "output_type": "stream",
          "name": "stderr",
          "text": [
            "\rCalculando valores SHAP:  14%|█▍        | 14/100 [00:03<00:19,  4.45it/s]"
          ]
        },
        {
          "output_type": "stream",
          "name": "stdout",
          "text": [
            "SHAP values for instance 13: [[[-3.40803850e-08]\n",
            "  [-2.93377592e-07]\n",
            "  [ 2.03555661e-05]\n",
            "  ...\n",
            "  [ 0.00000000e+00]\n",
            "  [ 0.00000000e+00]\n",
            "  [-2.53159561e-07]]]\n"
          ]
        },
        {
          "output_type": "stream",
          "name": "stderr",
          "text": [
            "\rCalculando valores SHAP:  15%|█▌        | 15/100 [00:03<00:19,  4.47it/s]"
          ]
        },
        {
          "output_type": "stream",
          "name": "stdout",
          "text": [
            "SHAP values for instance 14: [[[-3.21674463e-08]\n",
            "  [-5.47602075e-07]\n",
            "  [ 4.04302586e-05]\n",
            "  ...\n",
            "  [ 0.00000000e+00]\n",
            "  [ 0.00000000e+00]\n",
            "  [-2.07690097e-07]]]\n"
          ]
        },
        {
          "output_type": "stream",
          "name": "stderr",
          "text": [
            "\rCalculando valores SHAP:  16%|█▌        | 16/100 [00:03<00:18,  4.48it/s]"
          ]
        },
        {
          "output_type": "stream",
          "name": "stdout",
          "text": [
            "SHAP values for instance 15: [[[ 8.71556050e-09]\n",
            "  [ 5.31107609e-08]\n",
            "  [ 7.92387209e-06]\n",
            "  ...\n",
            "  [ 0.00000000e+00]\n",
            "  [ 0.00000000e+00]\n",
            "  [-5.29076500e-08]]]\n"
          ]
        },
        {
          "output_type": "stream",
          "name": "stderr",
          "text": [
            "\rCalculando valores SHAP:  17%|█▋        | 17/100 [00:03<00:18,  4.49it/s]"
          ]
        },
        {
          "output_type": "stream",
          "name": "stdout",
          "text": [
            "SHAP values for instance 16: [[[-2.64725263e-08]\n",
            "  [-2.10725925e-07]\n",
            "  [ 3.60685691e-05]\n",
            "  ...\n",
            "  [ 0.00000000e+00]\n",
            "  [ 0.00000000e+00]\n",
            "  [-6.47757914e-08]]]\n"
          ]
        },
        {
          "output_type": "stream",
          "name": "stderr",
          "text": [
            "\rCalculando valores SHAP:  18%|█▊        | 18/100 [00:04<00:18,  4.47it/s]"
          ]
        },
        {
          "output_type": "stream",
          "name": "stdout",
          "text": [
            "SHAP values for instance 17: [[[ 6.33634586e-09]\n",
            "  [-2.21976915e-07]\n",
            "  [ 1.63154490e-05]\n",
            "  ...\n",
            "  [ 0.00000000e+00]\n",
            "  [ 0.00000000e+00]\n",
            "  [-2.96422427e-07]]]\n"
          ]
        },
        {
          "output_type": "stream",
          "name": "stderr",
          "text": [
            "\rCalculando valores SHAP:  19%|█▉        | 19/100 [00:04<00:18,  4.47it/s]"
          ]
        },
        {
          "output_type": "stream",
          "name": "stdout",
          "text": [
            "SHAP values for instance 18: [[[ 2.15020840e-08]\n",
            "  [-2.27812422e-07]\n",
            "  [-2.50162367e-05]\n",
            "  ...\n",
            "  [ 0.00000000e+00]\n",
            "  [ 0.00000000e+00]\n",
            "  [-2.32950659e-07]]]\n"
          ]
        },
        {
          "output_type": "stream",
          "name": "stderr",
          "text": [
            "\rCalculando valores SHAP:  20%|██        | 20/100 [00:04<00:17,  4.47it/s]"
          ]
        },
        {
          "output_type": "stream",
          "name": "stdout",
          "text": [
            "SHAP values for instance 19: [[[-2.31941540e-08]\n",
            "  [-2.22228877e-07]\n",
            "  [ 1.76465502e-05]\n",
            "  ...\n",
            "  [ 0.00000000e+00]\n",
            "  [ 0.00000000e+00]\n",
            "  [ 6.91121297e-07]]]\n"
          ]
        },
        {
          "output_type": "stream",
          "name": "stderr",
          "text": [
            "\rCalculando valores SHAP:  21%|██        | 21/100 [00:04<00:17,  4.48it/s]"
          ]
        },
        {
          "output_type": "stream",
          "name": "stdout",
          "text": [
            "SHAP values for instance 20: [[[ 2.28986413e-08]\n",
            "  [ 1.62985789e-06]\n",
            "  [-7.26833984e-05]\n",
            "  ...\n",
            "  [ 0.00000000e+00]\n",
            "  [ 0.00000000e+00]\n",
            "  [-2.50301158e-07]]]\n"
          ]
        },
        {
          "output_type": "stream",
          "name": "stderr",
          "text": [
            "\rCalculando valores SHAP:  22%|██▏       | 22/100 [00:04<00:17,  4.48it/s]"
          ]
        },
        {
          "output_type": "stream",
          "name": "stdout",
          "text": [
            "SHAP values for instance 21: [[[ 1.40228418e-08]\n",
            "  [-2.40019835e-07]\n",
            "  [ 1.26119435e-05]\n",
            "  ...\n",
            "  [ 0.00000000e+00]\n",
            "  [ 0.00000000e+00]\n",
            "  [-3.49227194e-08]]]\n"
          ]
        },
        {
          "output_type": "stream",
          "name": "stderr",
          "text": [
            "\rCalculando valores SHAP:  23%|██▎       | 23/100 [00:05<00:17,  4.47it/s]"
          ]
        },
        {
          "output_type": "stream",
          "name": "stdout",
          "text": [
            "SHAP values for instance 22: [[[-3.97895094e-08]\n",
            "  [-1.01845221e-07]\n",
            "  [-7.15522404e-06]\n",
            "  ...\n",
            "  [ 0.00000000e+00]\n",
            "  [ 0.00000000e+00]\n",
            "  [-3.50212519e-07]]]\n"
          ]
        },
        {
          "output_type": "stream",
          "name": "stderr",
          "text": [
            "\rCalculando valores SHAP:  24%|██▍       | 24/100 [00:05<00:16,  4.47it/s]"
          ]
        },
        {
          "output_type": "stream",
          "name": "stdout",
          "text": [
            "SHAP values for instance 23: [[[-7.36621255e-09]\n",
            "  [-3.38369419e-08]\n",
            "  [ 1.09655139e-05]\n",
            "  ...\n",
            "  [ 0.00000000e+00]\n",
            "  [ 0.00000000e+00]\n",
            "  [-1.09404034e-07]]]\n"
          ]
        },
        {
          "output_type": "stream",
          "name": "stderr",
          "text": [
            "\rCalculando valores SHAP:  25%|██▌       | 25/100 [00:05<00:16,  4.47it/s]"
          ]
        },
        {
          "output_type": "stream",
          "name": "stdout",
          "text": [
            "SHAP values for instance 24: [[[-4.64530299e-09]\n",
            "  [-6.45813210e-07]\n",
            "  [ 6.31588591e-05]\n",
            "  ...\n",
            "  [ 0.00000000e+00]\n",
            "  [ 0.00000000e+00]\n",
            "  [-1.99995980e-07]]]\n"
          ]
        },
        {
          "output_type": "stream",
          "name": "stderr",
          "text": [
            "\rCalculando valores SHAP:  26%|██▌       | 26/100 [00:05<00:16,  4.47it/s]"
          ]
        },
        {
          "output_type": "stream",
          "name": "stdout",
          "text": [
            "SHAP values for instance 25: [[[ 1.95214209e-07]\n",
            "  [-1.11997486e-07]\n",
            "  [-4.07162721e-05]\n",
            "  ...\n",
            "  [ 0.00000000e+00]\n",
            "  [ 0.00000000e+00]\n",
            "  [ 5.21439616e-07]]]\n"
          ]
        },
        {
          "output_type": "stream",
          "name": "stderr",
          "text": [
            "\rCalculando valores SHAP:  27%|██▋       | 27/100 [00:06<00:16,  4.45it/s]"
          ]
        },
        {
          "output_type": "stream",
          "name": "stdout",
          "text": [
            "SHAP values for instance 26: [[[-1.11650882e-08]\n",
            "  [-1.02934214e-07]\n",
            "  [ 2.85404805e-05]\n",
            "  ...\n",
            "  [ 0.00000000e+00]\n",
            "  [ 0.00000000e+00]\n",
            "  [-1.04066286e-07]]]\n"
          ]
        },
        {
          "output_type": "stream",
          "name": "stderr",
          "text": [
            "\rCalculando valores SHAP:  28%|██▊       | 28/100 [00:06<00:16,  4.33it/s]"
          ]
        },
        {
          "output_type": "stream",
          "name": "stdout",
          "text": [
            "SHAP values for instance 27: [[[-7.80215438e-10]\n",
            "  [-8.24742751e-08]\n",
            "  [ 3.19984268e-05]\n",
            "  ...\n",
            "  [ 0.00000000e+00]\n",
            "  [ 0.00000000e+00]\n",
            "  [-2.65014056e-07]]]\n"
          ]
        },
        {
          "output_type": "stream",
          "name": "stderr",
          "text": [
            "\rCalculando valores SHAP:  29%|██▉       | 29/100 [00:06<00:16,  4.26it/s]"
          ]
        },
        {
          "output_type": "stream",
          "name": "stdout",
          "text": [
            "SHAP values for instance 28: [[[ 1.42247401e-08]\n",
            "  [-5.14030801e-07]\n",
            "  [ 2.36345789e-05]\n",
            "  ...\n",
            "  [ 0.00000000e+00]\n",
            "  [ 0.00000000e+00]\n",
            "  [ 1.78730443e-07]]]\n"
          ]
        },
        {
          "output_type": "stream",
          "name": "stderr",
          "text": [
            "\rCalculando valores SHAP:  30%|███       | 30/100 [00:06<00:17,  3.95it/s]"
          ]
        },
        {
          "output_type": "stream",
          "name": "stdout",
          "text": [
            "SHAP values for instance 29: [[[ 2.01263981e-08]\n",
            "  [-9.88731446e-07]\n",
            "  [ 5.10050601e-06]\n",
            "  ...\n",
            "  [ 0.00000000e+00]\n",
            "  [ 0.00000000e+00]\n",
            "  [ 1.06373856e-06]]]\n"
          ]
        },
        {
          "output_type": "stream",
          "name": "stderr",
          "text": [
            "\rCalculando valores SHAP:  31%|███       | 31/100 [00:07<00:16,  4.07it/s]"
          ]
        },
        {
          "output_type": "stream",
          "name": "stdout",
          "text": [
            "SHAP values for instance 30: [[[ 7.63554244e-08]\n",
            "  [-4.27247797e-07]\n",
            "  [ 8.26171490e-05]\n",
            "  ...\n",
            "  [ 0.00000000e+00]\n",
            "  [ 0.00000000e+00]\n",
            "  [ 4.10008415e-07]]]\n"
          ]
        },
        {
          "output_type": "stream",
          "name": "stderr",
          "text": [
            "\rCalculando valores SHAP:  32%|███▏      | 32/100 [00:07<00:16,  4.19it/s]"
          ]
        },
        {
          "output_type": "stream",
          "name": "stdout",
          "text": [
            "SHAP values for instance 31: [[[-6.03161702e-09]\n",
            "  [-1.15071472e-07]\n",
            "  [ 2.74936018e-05]\n",
            "  ...\n",
            "  [ 0.00000000e+00]\n",
            "  [ 0.00000000e+00]\n",
            "  [-9.67166378e-08]]]\n"
          ]
        },
        {
          "output_type": "stream",
          "name": "stderr",
          "text": [
            "\rCalculando valores SHAP:  33%|███▎      | 33/100 [00:07<00:15,  4.26it/s]"
          ]
        },
        {
          "output_type": "stream",
          "name": "stdout",
          "text": [
            "SHAP values for instance 32: [[[-1.06104799e-08]\n",
            "  [-2.97611737e-08]\n",
            "  [ 3.24401045e-06]\n",
            "  ...\n",
            "  [ 0.00000000e+00]\n",
            "  [ 0.00000000e+00]\n",
            "  [-7.22604047e-08]]]\n"
          ]
        },
        {
          "output_type": "stream",
          "name": "stderr",
          "text": [
            "\rCalculando valores SHAP:  34%|███▍      | 34/100 [00:07<00:15,  4.31it/s]"
          ]
        },
        {
          "output_type": "stream",
          "name": "stdout",
          "text": [
            "SHAP values for instance 33: [[[-1.30871520e-08]\n",
            "  [-7.13127687e-08]\n",
            "  [ 1.55383464e-05]\n",
            "  ...\n",
            "  [ 0.00000000e+00]\n",
            "  [ 0.00000000e+00]\n",
            "  [ 3.14081521e-07]]]\n"
          ]
        },
        {
          "output_type": "stream",
          "name": "stderr",
          "text": [
            "\rCalculando valores SHAP:  35%|███▌      | 35/100 [00:08<00:15,  4.33it/s]"
          ]
        },
        {
          "output_type": "stream",
          "name": "stdout",
          "text": [
            "SHAP values for instance 34: [[[ 2.31758263e-08]\n",
            "  [-4.44840449e-07]\n",
            "  [ 2.35906123e-05]\n",
            "  ...\n",
            "  [ 0.00000000e+00]\n",
            "  [ 0.00000000e+00]\n",
            "  [ 1.26367572e-07]]]\n"
          ]
        },
        {
          "output_type": "stream",
          "name": "stderr",
          "text": [
            "\rCalculando valores SHAP:  36%|███▌      | 36/100 [00:08<00:14,  4.36it/s]"
          ]
        },
        {
          "output_type": "stream",
          "name": "stdout",
          "text": [
            "SHAP values for instance 35: [[[ 2.77676542e-08]\n",
            "  [-1.60811495e-07]\n",
            "  [ 3.25014530e-05]\n",
            "  ...\n",
            "  [ 0.00000000e+00]\n",
            "  [ 0.00000000e+00]\n",
            "  [-4.58209532e-08]]]\n"
          ]
        },
        {
          "output_type": "stream",
          "name": "stderr",
          "text": [
            "\rCalculando valores SHAP:  37%|███▋      | 37/100 [00:08<00:14,  4.41it/s]"
          ]
        },
        {
          "output_type": "stream",
          "name": "stdout",
          "text": [
            "SHAP values for instance 36: [[[-2.58520129e-08]\n",
            "  [-5.81376975e-07]\n",
            "  [-1.85003224e-05]\n",
            "  ...\n",
            "  [ 0.00000000e+00]\n",
            "  [ 0.00000000e+00]\n",
            "  [ 3.93605002e-07]]]\n"
          ]
        },
        {
          "output_type": "stream",
          "name": "stderr",
          "text": [
            "\rCalculando valores SHAP:  38%|███▊      | 38/100 [00:08<00:13,  4.44it/s]"
          ]
        },
        {
          "output_type": "stream",
          "name": "stdout",
          "text": [
            "SHAP values for instance 37: [[[-5.22466226e-09]\n",
            "  [-7.70773705e-08]\n",
            "  [ 1.79000169e-05]\n",
            "  ...\n",
            "  [ 0.00000000e+00]\n",
            "  [ 0.00000000e+00]\n",
            "  [-1.16838730e-07]]]\n"
          ]
        },
        {
          "output_type": "stream",
          "name": "stderr",
          "text": [
            "\rCalculando valores SHAP:  39%|███▉      | 39/100 [00:08<00:13,  4.47it/s]"
          ]
        },
        {
          "output_type": "stream",
          "name": "stdout",
          "text": [
            "SHAP values for instance 38: [[[ 5.05581442e-09]\n",
            "  [-1.91385100e-08]\n",
            "  [ 1.67374814e-05]\n",
            "  ...\n",
            "  [ 0.00000000e+00]\n",
            "  [ 0.00000000e+00]\n",
            "  [-3.91040753e-08]]]\n"
          ]
        },
        {
          "output_type": "stream",
          "name": "stderr",
          "text": [
            "\rCalculando valores SHAP:  40%|████      | 40/100 [00:09<00:13,  4.44it/s]"
          ]
        },
        {
          "output_type": "stream",
          "name": "stdout",
          "text": [
            "SHAP values for instance 39: [[[-1.37561621e-08]\n",
            "  [-5.94318897e-08]\n",
            "  [ 4.38464673e-06]\n",
            "  ...\n",
            "  [ 0.00000000e+00]\n",
            "  [ 0.00000000e+00]\n",
            "  [-5.06058176e-08]]]\n"
          ]
        },
        {
          "output_type": "stream",
          "name": "stderr",
          "text": [
            "\rCalculando valores SHAP:  41%|████      | 41/100 [00:09<00:13,  4.45it/s]"
          ]
        },
        {
          "output_type": "stream",
          "name": "stdout",
          "text": [
            "SHAP values for instance 40: [[[ 1.37729085e-07]\n",
            "  [-1.34473725e-07]\n",
            "  [-2.35942458e-04]\n",
            "  ...\n",
            "  [ 0.00000000e+00]\n",
            "  [ 0.00000000e+00]\n",
            "  [ 1.78279661e-08]]]\n"
          ]
        },
        {
          "output_type": "stream",
          "name": "stderr",
          "text": [
            "\rCalculando valores SHAP:  42%|████▏     | 42/100 [00:09<00:13,  4.45it/s]"
          ]
        },
        {
          "output_type": "stream",
          "name": "stdout",
          "text": [
            "SHAP values for instance 41: [[[-9.36055904e-09]\n",
            "  [-2.81091658e-08]\n",
            "  [ 1.04711853e-05]\n",
            "  ...\n",
            "  [ 0.00000000e+00]\n",
            "  [ 0.00000000e+00]\n",
            "  [-6.94330473e-08]]]\n"
          ]
        },
        {
          "output_type": "stream",
          "name": "stderr",
          "text": [
            "\rCalculando valores SHAP:  43%|████▎     | 43/100 [00:09<00:12,  4.48it/s]"
          ]
        },
        {
          "output_type": "stream",
          "name": "stdout",
          "text": [
            "SHAP values for instance 42: [[[-1.67169221e-08]\n",
            "  [-1.76765829e-07]\n",
            "  [-1.12380147e-04]\n",
            "  ...\n",
            "  [ 0.00000000e+00]\n",
            "  [ 0.00000000e+00]\n",
            "  [-4.12026629e-08]]]\n"
          ]
        },
        {
          "output_type": "stream",
          "name": "stderr",
          "text": [
            "\rCalculando valores SHAP:  44%|████▍     | 44/100 [00:10<00:12,  4.41it/s]"
          ]
        },
        {
          "output_type": "stream",
          "name": "stdout",
          "text": [
            "SHAP values for instance 43: [[[ 6.29582263e-10]\n",
            "  [-1.93169092e-07]\n",
            "  [ 3.89744086e-05]\n",
            "  ...\n",
            "  [ 0.00000000e+00]\n",
            "  [ 0.00000000e+00]\n",
            "  [-4.59899005e-08]]]\n"
          ]
        },
        {
          "output_type": "stream",
          "name": "stderr",
          "text": [
            "\rCalculando valores SHAP:  45%|████▌     | 45/100 [00:10<00:12,  4.42it/s]"
          ]
        },
        {
          "output_type": "stream",
          "name": "stdout",
          "text": [
            "SHAP values for instance 44: [[[ 2.04869024e-08]\n",
            "  [-2.52352309e-07]\n",
            "  [ 3.20490827e-05]\n",
            "  ...\n",
            "  [ 0.00000000e+00]\n",
            "  [ 0.00000000e+00]\n",
            "  [ 5.70903869e-08]]]\n"
          ]
        },
        {
          "output_type": "stream",
          "name": "stderr",
          "text": [
            "\rCalculando valores SHAP:  46%|████▌     | 46/100 [00:10<00:12,  4.44it/s]"
          ]
        },
        {
          "output_type": "stream",
          "name": "stdout",
          "text": [
            "SHAP values for instance 45: [[[ 3.72702020e-08]\n",
            "  [ 8.49386310e-07]\n",
            "  [-2.06567858e-04]\n",
            "  ...\n",
            "  [ 0.00000000e+00]\n",
            "  [ 0.00000000e+00]\n",
            "  [ 8.30068344e-07]]]\n"
          ]
        },
        {
          "output_type": "stream",
          "name": "stderr",
          "text": [
            "\rCalculando valores SHAP:  47%|████▋     | 47/100 [00:10<00:11,  4.45it/s]"
          ]
        },
        {
          "output_type": "stream",
          "name": "stdout",
          "text": [
            "SHAP values for instance 46: [[[ 2.13933914e-08]\n",
            "  [-4.65709617e-07]\n",
            "  [ 6.02620583e-06]\n",
            "  ...\n",
            "  [ 0.00000000e+00]\n",
            "  [ 0.00000000e+00]\n",
            "  [ 6.33168753e-07]]]\n"
          ]
        },
        {
          "output_type": "stream",
          "name": "stderr",
          "text": [
            "\rCalculando valores SHAP:  48%|████▊     | 48/100 [00:10<00:11,  4.43it/s]"
          ]
        },
        {
          "output_type": "stream",
          "name": "stdout",
          "text": [
            "SHAP values for instance 47: [[[ 6.41604772e-09]\n",
            "  [-3.92826838e-08]\n",
            "  [ 1.41687075e-05]\n",
            "  ...\n",
            "  [ 0.00000000e+00]\n",
            "  [ 0.00000000e+00]\n",
            "  [-1.73695683e-07]]]\n"
          ]
        },
        {
          "output_type": "stream",
          "name": "stderr",
          "text": [
            "\rCalculando valores SHAP:  49%|████▉     | 49/100 [00:11<00:11,  4.44it/s]"
          ]
        },
        {
          "output_type": "stream",
          "name": "stdout",
          "text": [
            "SHAP values for instance 48: [[[-4.10964460e-09]\n",
            "  [-3.51881936e-08]\n",
            "  [ 7.77797256e-06]\n",
            "  ...\n",
            "  [ 0.00000000e+00]\n",
            "  [ 0.00000000e+00]\n",
            "  [-2.38818009e-07]]]\n"
          ]
        },
        {
          "output_type": "stream",
          "name": "stderr",
          "text": [
            "\rCalculando valores SHAP:  50%|█████     | 50/100 [00:11<00:11,  4.34it/s]"
          ]
        },
        {
          "output_type": "stream",
          "name": "stdout",
          "text": [
            "SHAP values for instance 49: [[[-1.49069240e-08]\n",
            "  [-2.19834785e-07]\n",
            "  [ 5.67617496e-05]\n",
            "  ...\n",
            "  [ 0.00000000e+00]\n",
            "  [ 0.00000000e+00]\n",
            "  [-3.04290852e-07]]]\n"
          ]
        },
        {
          "output_type": "stream",
          "name": "stderr",
          "text": [
            "\rCalculando valores SHAP:  51%|█████     | 51/100 [00:11<00:11,  4.38it/s]"
          ]
        },
        {
          "output_type": "stream",
          "name": "stdout",
          "text": [
            "SHAP values for instance 50: [[[-3.27908160e-08]\n",
            "  [-2.68160065e-07]\n",
            "  [ 7.32693362e-05]\n",
            "  ...\n",
            "  [ 0.00000000e+00]\n",
            "  [ 0.00000000e+00]\n",
            "  [-2.40458789e-07]]]\n"
          ]
        },
        {
          "output_type": "stream",
          "name": "stderr",
          "text": [
            "\rCalculando valores SHAP:  52%|█████▏    | 52/100 [00:11<00:10,  4.40it/s]"
          ]
        },
        {
          "output_type": "stream",
          "name": "stdout",
          "text": [
            "SHAP values for instance 51: [[[ 1.41430258e-08]\n",
            "  [ 7.49607457e-07]\n",
            "  [ 1.47499905e-05]\n",
            "  ...\n",
            "  [ 0.00000000e+00]\n",
            "  [ 0.00000000e+00]\n",
            "  [-3.72973727e-07]]]\n"
          ]
        },
        {
          "output_type": "stream",
          "name": "stderr",
          "text": [
            "\rCalculando valores SHAP:  53%|█████▎    | 53/100 [00:12<00:10,  4.42it/s]"
          ]
        },
        {
          "output_type": "stream",
          "name": "stdout",
          "text": [
            "SHAP values for instance 52: [[[-1.92430512e-08]\n",
            "  [-4.90799162e-07]\n",
            "  [ 1.28539590e-05]\n",
            "  ...\n",
            "  [ 0.00000000e+00]\n",
            "  [ 0.00000000e+00]\n",
            "  [-2.48626095e-07]]]\n"
          ]
        },
        {
          "output_type": "stream",
          "name": "stderr",
          "text": [
            "\rCalculando valores SHAP:  54%|█████▍    | 54/100 [00:12<00:10,  4.43it/s]"
          ]
        },
        {
          "output_type": "stream",
          "name": "stdout",
          "text": [
            "SHAP values for instance 53: [[[ 7.84156410e-09]\n",
            "  [-2.84522814e-07]\n",
            "  [ 3.93885487e-05]\n",
            "  ...\n",
            "  [ 0.00000000e+00]\n",
            "  [ 0.00000000e+00]\n",
            "  [-3.16394685e-07]]]\n"
          ]
        },
        {
          "output_type": "stream",
          "name": "stderr",
          "text": [
            "\rCalculando valores SHAP:  55%|█████▌    | 55/100 [00:12<00:10,  4.46it/s]"
          ]
        },
        {
          "output_type": "stream",
          "name": "stdout",
          "text": [
            "SHAP values for instance 54: [[[-4.54793732e-08]\n",
            "  [-4.88207173e-07]\n",
            "  [ 9.38637119e-05]\n",
            "  ...\n",
            "  [ 0.00000000e+00]\n",
            "  [ 0.00000000e+00]\n",
            "  [ 8.63631665e-08]]]\n"
          ]
        },
        {
          "output_type": "stream",
          "name": "stderr",
          "text": [
            "\rCalculando valores SHAP:  56%|█████▌    | 56/100 [00:12<00:09,  4.46it/s]"
          ]
        },
        {
          "output_type": "stream",
          "name": "stdout",
          "text": [
            "SHAP values for instance 55: [[[-3.56028795e-09]\n",
            "  [-1.81200332e-07]\n",
            "  [-1.83067165e-04]\n",
            "  ...\n",
            "  [ 0.00000000e+00]\n",
            "  [ 0.00000000e+00]\n",
            "  [ 5.66517825e-08]]]\n"
          ]
        },
        {
          "output_type": "stream",
          "name": "stderr",
          "text": [
            "\rCalculando valores SHAP:  57%|█████▋    | 57/100 [00:12<00:09,  4.42it/s]"
          ]
        },
        {
          "output_type": "stream",
          "name": "stdout",
          "text": [
            "SHAP values for instance 56: [[[-4.85785953e-09]\n",
            "  [ 3.45744324e-07]\n",
            "  [-9.38501853e-06]\n",
            "  ...\n",
            "  [ 0.00000000e+00]\n",
            "  [ 0.00000000e+00]\n",
            "  [-3.76288953e-08]]]\n"
          ]
        },
        {
          "output_type": "stream",
          "name": "stderr",
          "text": [
            "\rCalculando valores SHAP:  58%|█████▊    | 58/100 [00:13<00:09,  4.31it/s]"
          ]
        },
        {
          "output_type": "stream",
          "name": "stdout",
          "text": [
            "SHAP values for instance 57: [[[-5.21211943e-08]\n",
            "  [-4.25012749e-07]\n",
            "  [ 7.13144108e-05]\n",
            "  ...\n",
            "  [ 0.00000000e+00]\n",
            "  [ 0.00000000e+00]\n",
            "  [-3.92663304e-07]]]\n"
          ]
        },
        {
          "output_type": "stream",
          "name": "stderr",
          "text": [
            "\rCalculando valores SHAP:  59%|█████▉    | 59/100 [00:13<00:09,  4.35it/s]"
          ]
        },
        {
          "output_type": "stream",
          "name": "stdout",
          "text": [
            "SHAP values for instance 58: [[[ 2.14065078e-08]\n",
            "  [-1.15992715e-07]\n",
            "  [-2.38339970e-05]\n",
            "  ...\n",
            "  [ 0.00000000e+00]\n",
            "  [ 0.00000000e+00]\n",
            "  [ 1.35695665e-07]]]\n"
          ]
        },
        {
          "output_type": "stream",
          "name": "stderr",
          "text": [
            "\rCalculando valores SHAP:  60%|██████    | 60/100 [00:13<00:09,  4.32it/s]"
          ]
        },
        {
          "output_type": "stream",
          "name": "stdout",
          "text": [
            "SHAP values for instance 59: [[[-5.62676853e-09]\n",
            "  [ 9.81678050e-08]\n",
            "  [ 2.59714233e-05]\n",
            "  ...\n",
            "  [ 0.00000000e+00]\n",
            "  [ 0.00000000e+00]\n",
            "  [-3.39502331e-07]]]\n"
          ]
        },
        {
          "output_type": "stream",
          "name": "stderr",
          "text": [
            "\rCalculando valores SHAP:  61%|██████    | 61/100 [00:13<00:08,  4.35it/s]"
          ]
        },
        {
          "output_type": "stream",
          "name": "stdout",
          "text": [
            "SHAP values for instance 60: [[[-1.14706218e-08]\n",
            "  [-9.03820921e-08]\n",
            "  [ 3.14252749e-05]\n",
            "  ...\n",
            "  [ 0.00000000e+00]\n",
            "  [ 0.00000000e+00]\n",
            "  [ 3.11685723e-08]]]\n"
          ]
        },
        {
          "output_type": "stream",
          "name": "stderr",
          "text": [
            "\rCalculando valores SHAP:  62%|██████▏   | 62/100 [00:14<00:08,  4.29it/s]"
          ]
        },
        {
          "output_type": "stream",
          "name": "stdout",
          "text": [
            "SHAP values for instance 61: [[[-1.50605591e-08]\n",
            "  [-1.05808308e-07]\n",
            "  [ 1.46795412e-05]\n",
            "  ...\n",
            "  [ 0.00000000e+00]\n",
            "  [ 0.00000000e+00]\n",
            "  [-5.50045727e-08]]]\n"
          ]
        },
        {
          "output_type": "stream",
          "name": "stderr",
          "text": [
            "\rCalculando valores SHAP:  63%|██████▎   | 63/100 [00:14<00:08,  4.28it/s]"
          ]
        },
        {
          "output_type": "stream",
          "name": "stdout",
          "text": [
            "SHAP values for instance 62: [[[-4.36348528e-09]\n",
            "  [ 2.20129325e-07]\n",
            "  [-2.67876424e-05]\n",
            "  ...\n",
            "  [ 0.00000000e+00]\n",
            "  [ 0.00000000e+00]\n",
            "  [ 4.92038237e-07]]]\n"
          ]
        },
        {
          "output_type": "stream",
          "name": "stderr",
          "text": [
            "\rCalculando valores SHAP:  64%|██████▍   | 64/100 [00:14<00:08,  4.31it/s]"
          ]
        },
        {
          "output_type": "stream",
          "name": "stdout",
          "text": [
            "SHAP values for instance 63: [[[ 1.22078801e-08]\n",
            "  [-3.68001833e-07]\n",
            "  [ 2.30288240e-05]\n",
            "  ...\n",
            "  [ 0.00000000e+00]\n",
            "  [ 0.00000000e+00]\n",
            "  [-3.03901606e-07]]]\n"
          ]
        },
        {
          "output_type": "stream",
          "name": "stderr",
          "text": [
            "\rCalculando valores SHAP:  65%|██████▌   | 65/100 [00:14<00:08,  4.27it/s]"
          ]
        },
        {
          "output_type": "stream",
          "name": "stdout",
          "text": [
            "SHAP values for instance 64: [[[ 6.66630999e-08]\n",
            "  [-1.81171100e-07]\n",
            "  [ 1.83492608e-05]\n",
            "  ...\n",
            "  [ 0.00000000e+00]\n",
            "  [ 0.00000000e+00]\n",
            "  [-8.65140382e-08]]]\n"
          ]
        },
        {
          "output_type": "stream",
          "name": "stderr",
          "text": [
            "\rCalculando valores SHAP:  66%|██████▌   | 66/100 [00:15<00:08,  4.13it/s]"
          ]
        },
        {
          "output_type": "stream",
          "name": "stdout",
          "text": [
            "SHAP values for instance 65: [[[-5.35081682e-09]\n",
            "  [-1.31573526e-07]\n",
            "  [-6.17192912e-06]\n",
            "  ...\n",
            "  [ 0.00000000e+00]\n",
            "  [ 0.00000000e+00]\n",
            "  [-1.46304151e-07]]]\n"
          ]
        },
        {
          "output_type": "stream",
          "name": "stderr",
          "text": [
            "\rCalculando valores SHAP:  67%|██████▋   | 67/100 [00:15<00:07,  4.22it/s]"
          ]
        },
        {
          "output_type": "stream",
          "name": "stdout",
          "text": [
            "SHAP values for instance 66: [[[-2.73242223e-09]\n",
            "  [-1.91599303e-07]\n",
            "  [ 1.81176330e-05]\n",
            "  ...\n",
            "  [ 0.00000000e+00]\n",
            "  [ 0.00000000e+00]\n",
            "  [-5.31598685e-07]]]\n"
          ]
        },
        {
          "output_type": "stream",
          "name": "stderr",
          "text": [
            "\rCalculando valores SHAP:  68%|██████▊   | 68/100 [00:15<00:07,  4.30it/s]"
          ]
        },
        {
          "output_type": "stream",
          "name": "stdout",
          "text": [
            "SHAP values for instance 67: [[[ 1.63194243e-08]\n",
            "  [-9.56561227e-08]\n",
            "  [ 1.65344696e-05]\n",
            "  ...\n",
            "  [ 0.00000000e+00]\n",
            "  [ 0.00000000e+00]\n",
            "  [ 1.89093964e-07]]]\n"
          ]
        },
        {
          "output_type": "stream",
          "name": "stderr",
          "text": [
            "\rCalculando valores SHAP:  69%|██████▉   | 69/100 [00:15<00:07,  4.35it/s]"
          ]
        },
        {
          "output_type": "stream",
          "name": "stdout",
          "text": [
            "SHAP values for instance 68: [[[-1.72677492e-08]\n",
            "  [-4.81881655e-08]\n",
            "  [ 5.49152938e-05]\n",
            "  ...\n",
            "  [ 0.00000000e+00]\n",
            "  [ 0.00000000e+00]\n",
            "  [ 1.09920941e-07]]]\n"
          ]
        },
        {
          "output_type": "stream",
          "name": "stderr",
          "text": [
            "\rCalculando valores SHAP:  70%|███████   | 70/100 [00:16<00:06,  4.36it/s]"
          ]
        },
        {
          "output_type": "stream",
          "name": "stdout",
          "text": [
            "SHAP values for instance 69: [[[ 6.24845657e-08]\n",
            "  [-1.38777856e-07]\n",
            "  [-1.90117301e-05]\n",
            "  ...\n",
            "  [ 0.00000000e+00]\n",
            "  [ 0.00000000e+00]\n",
            "  [ 1.69910399e-07]]]\n"
          ]
        },
        {
          "output_type": "stream",
          "name": "stderr",
          "text": [
            "\rCalculando valores SHAP:  71%|███████   | 71/100 [00:16<00:06,  4.31it/s]"
          ]
        },
        {
          "output_type": "stream",
          "name": "stdout",
          "text": [
            "SHAP values for instance 70: [[[ 1.64266694e-08]\n",
            "  [ 7.17707828e-07]\n",
            "  [-1.55221163e-04]\n",
            "  ...\n",
            "  [ 0.00000000e+00]\n",
            "  [ 0.00000000e+00]\n",
            "  [ 2.29331080e-07]]]\n"
          ]
        },
        {
          "output_type": "stream",
          "name": "stderr",
          "text": [
            "\rCalculando valores SHAP:  72%|███████▏  | 72/100 [00:16<00:06,  4.37it/s]"
          ]
        },
        {
          "output_type": "stream",
          "name": "stdout",
          "text": [
            "SHAP values for instance 71: [[[-1.09778483e-08]\n",
            "  [-1.94392998e-07]\n",
            "  [ 5.72596052e-05]\n",
            "  ...\n",
            "  [ 0.00000000e+00]\n",
            "  [ 0.00000000e+00]\n",
            "  [-5.02758924e-07]]]\n"
          ]
        },
        {
          "output_type": "stream",
          "name": "stderr",
          "text": [
            "\rCalculando valores SHAP:  73%|███████▎  | 73/100 [00:16<00:06,  4.40it/s]"
          ]
        },
        {
          "output_type": "stream",
          "name": "stdout",
          "text": [
            "SHAP values for instance 72: [[[-2.21842355e-08]\n",
            "  [-6.12335129e-07]\n",
            "  [ 1.10525702e-05]\n",
            "  ...\n",
            "  [ 0.00000000e+00]\n",
            "  [ 0.00000000e+00]\n",
            "  [-7.95077715e-08]]]\n"
          ]
        },
        {
          "output_type": "stream",
          "name": "stderr",
          "text": [
            "\rCalculando valores SHAP:  74%|███████▍  | 74/100 [00:16<00:05,  4.42it/s]"
          ]
        },
        {
          "output_type": "stream",
          "name": "stdout",
          "text": [
            "SHAP values for instance 73: [[[-2.25661916e-08]\n",
            "  [-3.63622699e-07]\n",
            "  [ 2.09793786e-05]\n",
            "  ...\n",
            "  [ 0.00000000e+00]\n",
            "  [ 0.00000000e+00]\n",
            "  [-2.33942050e-08]]]\n"
          ]
        },
        {
          "output_type": "stream",
          "name": "stderr",
          "text": [
            "\rCalculando valores SHAP:  75%|███████▌  | 75/100 [00:17<00:05,  4.38it/s]"
          ]
        },
        {
          "output_type": "stream",
          "name": "stdout",
          "text": [
            "SHAP values for instance 74: [[[-1.77473395e-08]\n",
            "  [-5.25536322e-08]\n",
            "  [-5.12208884e-06]\n",
            "  ...\n",
            "  [ 0.00000000e+00]\n",
            "  [ 0.00000000e+00]\n",
            "  [-3.65509826e-08]]]\n"
          ]
        },
        {
          "output_type": "stream",
          "name": "stderr",
          "text": [
            "\rCalculando valores SHAP:  76%|███████▌  | 76/100 [00:17<00:05,  4.36it/s]"
          ]
        },
        {
          "output_type": "stream",
          "name": "stdout",
          "text": [
            "SHAP values for instance 75: [[[-2.19694259e-08]\n",
            "  [-6.62227576e-07]\n",
            "  [ 8.49203911e-05]\n",
            "  ...\n",
            "  [ 0.00000000e+00]\n",
            "  [ 0.00000000e+00]\n",
            "  [-2.12140297e-07]]]\n"
          ]
        },
        {
          "output_type": "stream",
          "name": "stderr",
          "text": [
            "\rCalculando valores SHAP:  77%|███████▋  | 77/100 [00:17<00:05,  4.38it/s]"
          ]
        },
        {
          "output_type": "stream",
          "name": "stdout",
          "text": [
            "SHAP values for instance 76: [[[ 1.12643207e-08]\n",
            "  [-3.08728445e-07]\n",
            "  [ 1.27062791e-05]\n",
            "  ...\n",
            "  [ 0.00000000e+00]\n",
            "  [ 0.00000000e+00]\n",
            "  [ 1.36228152e-07]]]\n"
          ]
        },
        {
          "output_type": "stream",
          "name": "stderr",
          "text": [
            "\rCalculando valores SHAP:  78%|███████▊  | 78/100 [00:17<00:04,  4.40it/s]"
          ]
        },
        {
          "output_type": "stream",
          "name": "stdout",
          "text": [
            "SHAP values for instance 77: [[[-5.02773275e-09]\n",
            "  [-6.93175547e-08]\n",
            "  [-6.91034451e-06]\n",
            "  ...\n",
            "  [ 0.00000000e+00]\n",
            "  [ 0.00000000e+00]\n",
            "  [ 2.12045001e-07]]]\n"
          ]
        },
        {
          "output_type": "stream",
          "name": "stderr",
          "text": [
            "\rCalculando valores SHAP:  79%|███████▉  | 79/100 [00:18<00:04,  4.42it/s]"
          ]
        },
        {
          "output_type": "stream",
          "name": "stdout",
          "text": [
            "SHAP values for instance 78: [[[ 2.42457539e-09]\n",
            "  [-7.95707199e-07]\n",
            "  [ 2.03052492e-05]\n",
            "  ...\n",
            "  [ 0.00000000e+00]\n",
            "  [ 0.00000000e+00]\n",
            "  [-6.66194609e-08]]]\n"
          ]
        },
        {
          "output_type": "stream",
          "name": "stderr",
          "text": [
            "\rCalculando valores SHAP:  80%|████████  | 80/100 [00:18<00:04,  4.44it/s]"
          ]
        },
        {
          "output_type": "stream",
          "name": "stdout",
          "text": [
            "SHAP values for instance 79: [[[-2.73769142e-08]\n",
            "  [-4.29038485e-07]\n",
            "  [ 2.91058412e-05]\n",
            "  ...\n",
            "  [ 0.00000000e+00]\n",
            "  [ 0.00000000e+00]\n",
            "  [-2.27412326e-09]]]\n"
          ]
        },
        {
          "output_type": "stream",
          "name": "stderr",
          "text": [
            "\rCalculando valores SHAP:  81%|████████  | 81/100 [00:18<00:04,  4.46it/s]"
          ]
        },
        {
          "output_type": "stream",
          "name": "stdout",
          "text": [
            "SHAP values for instance 80: [[[-1.44321356e-08]\n",
            "  [-1.91785068e-07]\n",
            "  [ 2.08647303e-05]\n",
            "  ...\n",
            "  [ 0.00000000e+00]\n",
            "  [ 0.00000000e+00]\n",
            "  [ 4.90333884e-08]]]\n"
          ]
        },
        {
          "output_type": "stream",
          "name": "stderr",
          "text": [
            "\rCalculando valores SHAP:  82%|████████▏ | 82/100 [00:18<00:04,  4.47it/s]"
          ]
        },
        {
          "output_type": "stream",
          "name": "stdout",
          "text": [
            "SHAP values for instance 81: [[[-4.13561209e-09]\n",
            "  [-3.29418037e-07]\n",
            "  [ 3.54278384e-05]\n",
            "  ...\n",
            "  [ 0.00000000e+00]\n",
            "  [ 0.00000000e+00]\n",
            "  [-4.22554796e-07]]]\n"
          ]
        },
        {
          "output_type": "stream",
          "name": "stderr",
          "text": [
            "\rCalculando valores SHAP:  83%|████████▎ | 83/100 [00:18<00:03,  4.48it/s]"
          ]
        },
        {
          "output_type": "stream",
          "name": "stdout",
          "text": [
            "SHAP values for instance 82: [[[-9.09787611e-09]\n",
            "  [-1.47302375e-07]\n",
            "  [ 3.53497282e-05]\n",
            "  ...\n",
            "  [ 0.00000000e+00]\n",
            "  [ 0.00000000e+00]\n",
            "  [-1.53970021e-07]]]\n"
          ]
        },
        {
          "output_type": "stream",
          "name": "stderr",
          "text": [
            "\rCalculando valores SHAP:  84%|████████▍ | 84/100 [00:19<00:03,  4.47it/s]"
          ]
        },
        {
          "output_type": "stream",
          "name": "stdout",
          "text": [
            "SHAP values for instance 83: [[[ 2.24291900e-08]\n",
            "  [-1.44349871e-07]\n",
            "  [ 2.40703834e-05]\n",
            "  ...\n",
            "  [ 0.00000000e+00]\n",
            "  [ 0.00000000e+00]\n",
            "  [-2.81143024e-07]]]\n"
          ]
        },
        {
          "output_type": "stream",
          "name": "stderr",
          "text": [
            "\rCalculando valores SHAP:  85%|████████▌ | 85/100 [00:19<00:03,  4.46it/s]"
          ]
        },
        {
          "output_type": "stream",
          "name": "stdout",
          "text": [
            "SHAP values for instance 84: [[[-2.29265386e-09]\n",
            "  [-3.29874021e-07]\n",
            "  [ 5.74385856e-05]\n",
            "  ...\n",
            "  [ 0.00000000e+00]\n",
            "  [ 0.00000000e+00]\n",
            "  [-1.65723868e-07]]]\n"
          ]
        },
        {
          "output_type": "stream",
          "name": "stderr",
          "text": [
            "\rCalculando valores SHAP:  86%|████████▌ | 86/100 [00:19<00:03,  4.45it/s]"
          ]
        },
        {
          "output_type": "stream",
          "name": "stdout",
          "text": [
            "SHAP values for instance 85: [[[ 4.91472252e-09]\n",
            "  [ 1.73261394e-05]\n",
            "  [-1.21151082e-03]\n",
            "  ...\n",
            "  [ 0.00000000e+00]\n",
            "  [ 0.00000000e+00]\n",
            "  [-3.16979178e-07]]]\n"
          ]
        },
        {
          "output_type": "stream",
          "name": "stderr",
          "text": [
            "\rCalculando valores SHAP:  87%|████████▋ | 87/100 [00:19<00:02,  4.45it/s]"
          ]
        },
        {
          "output_type": "stream",
          "name": "stdout",
          "text": [
            "SHAP values for instance 86: [[[-1.61379449e-08]\n",
            "  [-2.81592998e-07]\n",
            "  [ 3.47036970e-05]\n",
            "  ...\n",
            "  [ 0.00000000e+00]\n",
            "  [ 0.00000000e+00]\n",
            "  [-2.18040060e-07]]]\n"
          ]
        },
        {
          "output_type": "stream",
          "name": "stderr",
          "text": [
            "\rCalculando valores SHAP:  88%|████████▊ | 88/100 [00:20<00:02,  4.42it/s]"
          ]
        },
        {
          "output_type": "stream",
          "name": "stdout",
          "text": [
            "SHAP values for instance 87: [[[ 4.17903141e-08]\n",
            "  [-1.85436957e-07]\n",
            "  [-3.07333702e-06]\n",
            "  ...\n",
            "  [ 0.00000000e+00]\n",
            "  [ 0.00000000e+00]\n",
            "  [ 4.37491113e-07]]]\n"
          ]
        },
        {
          "output_type": "stream",
          "name": "stderr",
          "text": [
            "\rCalculando valores SHAP:  89%|████████▉ | 89/100 [00:20<00:02,  4.44it/s]"
          ]
        },
        {
          "output_type": "stream",
          "name": "stdout",
          "text": [
            "SHAP values for instance 88: [[[-2.03428245e-08]\n",
            "  [-4.66105433e-07]\n",
            "  [-4.68656331e-06]\n",
            "  ...\n",
            "  [ 0.00000000e+00]\n",
            "  [ 0.00000000e+00]\n",
            "  [ 9.93847499e-07]]]\n"
          ]
        },
        {
          "output_type": "stream",
          "name": "stderr",
          "text": [
            "\rCalculando valores SHAP:  90%|█████████ | 90/100 [00:20<00:02,  4.46it/s]"
          ]
        },
        {
          "output_type": "stream",
          "name": "stdout",
          "text": [
            "SHAP values for instance 89: [[[-2.58267789e-08]\n",
            "  [-2.09523740e-07]\n",
            "  [ 5.50998778e-05]\n",
            "  ...\n",
            "  [ 0.00000000e+00]\n",
            "  [ 0.00000000e+00]\n",
            "  [-3.58348263e-07]]]\n"
          ]
        },
        {
          "output_type": "stream",
          "name": "stderr",
          "text": [
            "\rCalculando valores SHAP:  91%|█████████ | 91/100 [00:20<00:02,  4.47it/s]"
          ]
        },
        {
          "output_type": "stream",
          "name": "stdout",
          "text": [
            "SHAP values for instance 90: [[[-4.89870482e-09]\n",
            "  [ 1.98895401e-08]\n",
            "  [ 5.84330670e-06]\n",
            "  ...\n",
            "  [ 0.00000000e+00]\n",
            "  [ 0.00000000e+00]\n",
            "  [-1.52881267e-07]]]\n"
          ]
        },
        {
          "output_type": "stream",
          "name": "stderr",
          "text": [
            "\rCalculando valores SHAP:  92%|█████████▏| 92/100 [00:20<00:01,  4.47it/s]"
          ]
        },
        {
          "output_type": "stream",
          "name": "stdout",
          "text": [
            "SHAP values for instance 91: [[[-1.49888083e-08]\n",
            "  [-1.17918814e-07]\n",
            "  [ 1.25883597e-05]\n",
            "  ...\n",
            "  [ 0.00000000e+00]\n",
            "  [ 0.00000000e+00]\n",
            "  [ 9.41570146e-08]]]\n"
          ]
        },
        {
          "output_type": "stream",
          "name": "stderr",
          "text": [
            "\rCalculando valores SHAP:  93%|█████████▎| 93/100 [00:21<00:01,  4.45it/s]"
          ]
        },
        {
          "output_type": "stream",
          "name": "stdout",
          "text": [
            "SHAP values for instance 92: [[[ 1.56740983e-08]\n",
            "  [-1.21195161e-07]\n",
            "  [ 1.09859718e-05]\n",
            "  ...\n",
            "  [ 0.00000000e+00]\n",
            "  [ 0.00000000e+00]\n",
            "  [-4.32483221e-08]]]\n"
          ]
        },
        {
          "output_type": "stream",
          "name": "stderr",
          "text": [
            "\rCalculando valores SHAP:  94%|█████████▍| 94/100 [00:21<00:01,  4.44it/s]"
          ]
        },
        {
          "output_type": "stream",
          "name": "stdout",
          "text": [
            "SHAP values for instance 93: [[[ 1.68142050e-09]\n",
            "  [-7.17512789e-08]\n",
            "  [ 6.37018209e-06]\n",
            "  ...\n",
            "  [ 0.00000000e+00]\n",
            "  [ 0.00000000e+00]\n",
            "  [-6.98508335e-08]]]\n"
          ]
        },
        {
          "output_type": "stream",
          "name": "stderr",
          "text": [
            "\rCalculando valores SHAP:  95%|█████████▌| 95/100 [00:21<00:01,  4.44it/s]"
          ]
        },
        {
          "output_type": "stream",
          "name": "stdout",
          "text": [
            "SHAP values for instance 94: [[[ 3.17177140e-09]\n",
            "  [-1.71846007e-07]\n",
            "  [ 7.23176747e-06]\n",
            "  ...\n",
            "  [ 0.00000000e+00]\n",
            "  [ 0.00000000e+00]\n",
            "  [ 6.61025286e-07]]]\n"
          ]
        },
        {
          "output_type": "stream",
          "name": "stderr",
          "text": [
            "\rCalculando valores SHAP:  96%|█████████▌| 96/100 [00:21<00:00,  4.44it/s]"
          ]
        },
        {
          "output_type": "stream",
          "name": "stdout",
          "text": [
            "SHAP values for instance 95: [[[-2.84430633e-08]\n",
            "  [-1.14547818e-07]\n",
            "  [ 2.20980617e-05]\n",
            "  ...\n",
            "  [ 0.00000000e+00]\n",
            "  [ 0.00000000e+00]\n",
            "  [-2.53306288e-07]]]\n"
          ]
        },
        {
          "output_type": "stream",
          "name": "stderr",
          "text": [
            "\rCalculando valores SHAP:  97%|█████████▋| 97/100 [00:22<00:00,  4.37it/s]"
          ]
        },
        {
          "output_type": "stream",
          "name": "stdout",
          "text": [
            "SHAP values for instance 96: [[[-1.26225628e-08]\n",
            "  [-6.61442855e-08]\n",
            "  [ 1.73597701e-05]\n",
            "  ...\n",
            "  [ 0.00000000e+00]\n",
            "  [ 0.00000000e+00]\n",
            "  [-5.40795714e-08]]]\n"
          ]
        },
        {
          "output_type": "stream",
          "name": "stderr",
          "text": [
            "\rCalculando valores SHAP:  98%|█████████▊| 98/100 [00:22<00:00,  4.27it/s]"
          ]
        },
        {
          "output_type": "stream",
          "name": "stdout",
          "text": [
            "SHAP values for instance 97: [[[ 1.07488254e-08]\n",
            "  [-2.53406592e-07]\n",
            "  [ 6.10435731e-05]\n",
            "  ...\n",
            "  [ 0.00000000e+00]\n",
            "  [ 0.00000000e+00]\n",
            "  [-9.00550678e-08]]]\n"
          ]
        },
        {
          "output_type": "stream",
          "name": "stderr",
          "text": [
            "\rCalculando valores SHAP:  99%|█████████▉| 99/100 [00:22<00:00,  4.22it/s]"
          ]
        },
        {
          "output_type": "stream",
          "name": "stdout",
          "text": [
            "SHAP values for instance 98: [[[-3.70926058e-08]\n",
            "  [-5.01792304e-07]\n",
            "  [ 2.48844049e-05]\n",
            "  ...\n",
            "  [ 0.00000000e+00]\n",
            "  [ 0.00000000e+00]\n",
            "  [ 1.31865103e-07]]]\n"
          ]
        },
        {
          "output_type": "stream",
          "name": "stderr",
          "text": [
            "Calculando valores SHAP: 100%|██████████| 100/100 [00:22<00:00,  4.38it/s]"
          ]
        },
        {
          "output_type": "stream",
          "name": "stdout",
          "text": [
            "SHAP values for instance 99: [[[ 2.77186604e-08]\n",
            "  [-1.88670902e-07]\n",
            "  [ 4.11217873e-05]\n",
            "  ...\n",
            "  [ 0.00000000e+00]\n",
            "  [ 0.00000000e+00]\n",
            "  [ 6.43670052e-07]]]\n",
            "Final SHAP values numpy array (shape): (100, 39979)\n"
          ]
        },
        {
          "output_type": "stream",
          "name": "stderr",
          "text": [
            "\n"
          ]
        },
        {
          "output_type": "stream",
          "name": "stdout",
          "text": [
            "Generating SHAP summary plot...\n"
          ]
        },
        {
          "output_type": "display_data",
          "data": {
            "text/plain": [
              "<Figure size 800x950 with 2 Axes>"
            ],
            "image/png": "[encoded data removed]"
          },
          "metadata": {}
        },
        {
          "output_type": "stream",
          "name": "stdout",
          "text": [
            "SHAP summary plot generated successfully.\n"
          ]
        }
      ]
    },
    {
      "cell_type": "markdown",
      "source": [
        "#detente"
      ],
      "metadata": {
        "id": "ncrYZ0-OOs5-"
      }
    },
    {
      "cell_type": "code",
      "source": [
        "from sklearn.model_selection import StratifiedKFold\n",
        "from sklearn.metrics import roc_auc_score, roc_curve\n",
        "import matplotlib.pyplot as plt\n",
        "\n",
        "# Preparar los datos\n",
        "X = df.iloc[:, :-2].values  # Datos de miRNAs\n",
        "Y = df['vital'].values  # Estado vital\n",
        "\n",
        "# Convertir el estado vital a valores numéricos\n",
        "label_encoder_vital = LabelEncoder()\n",
        "Y = label_encoder_vital.fit_transform(Y)\n",
        "\n",
        "# Definir el número de pliegues\n",
        "n_splits = 10  # Número de pliegues para la validación cruzada\n",
        "skf = StratifiedKFold(n_splits=n_splits)\n",
        "\n",
        "# Listas para almacenar resultados de AUC\n",
        "auc_scores = []\n",
        "fpr_list = []\n",
        "tpr_list = []\n",
        "\n",
        "# Validación cruzada estratificada\n",
        "for fold, (train_index, test_index) in enumerate(skf.split(X, Y)):\n",
        "    print(f\"Fold {fold + 1}/{n_splits}\")\n",
        "\n",
        "    # Dividir los datos en entrenamiento y prueba\n",
        "    X_train, X_test = X[train_index], X[test_index]\n",
        "    Y_train, Y_test = Y[train_index], Y[test_index]\n",
        "\n",
        "    # Convertir a tensores\n",
        "    X_train_tensor = torch.tensor(X_train, dtype=torch.float32).to(device)\n",
        "    Y_train_tensor = torch.tensor(Y_train, dtype=torch.float32).unsqueeze(1).to(device)\n",
        "    X_test_tensor = torch.tensor(X_test, dtype=torch.float32).to(device)\n",
        "    Y_test_tensor = torch.tensor(Y_test, dtype=torch.float32).unsqueeze(1).to(device)\n",
        "\n",
        "    # Crear el modelo para cada pliegue\n",
        "    model = VitalStatusClassifier(input_dim=X.shape[1]).to(device)\n",
        "\n",
        "    # Definir el optimizador AdamW para cada pliegue\n",
        "    optimizer = optim.AdamW(\n",
        "        model.parameters(),\n",
        "        lr=0.01,  # Tasa de aprendizaje\n",
        "        betas=(0.9, 0.99),  # Coeficientes beta\n",
        "        eps=1e-8,  # Valor pequeño para estabilidad numérica\n",
        "        weight_decay=0.01,  # Regularización L2\n",
        "        amsgrad=False  # Si deseas usar la variante AMSGrad\n",
        "    )\n",
        "\n",
        "    # Definir la función de pérdida\n",
        "    criterion = nn.BCELoss().to(device)\n",
        "\n",
        "    # Entrenar el modelo\n",
        "    num_epochs = 10\n",
        "    for epoch in range(num_epochs):\n",
        "        model.train()\n",
        "        optimizer.zero_grad()\n",
        "        label_preds = model(X_train_tensor)\n",
        "        loss = criterion(label_preds, Y_train_tensor)\n",
        "        loss.backward()\n",
        "        torch.nn.utils.clip_grad_norm_(model.parameters(), max_norm=1.0)\n",
        "        optimizer.step()\n",
        "\n",
        "    # Evaluar el modelo en el conjunto de prueba\n",
        "    model.eval()\n",
        "    with torch.no_grad():\n",
        "        label_preds = model(X_test_tensor)\n",
        "        label_preds = label_preds.cpu().numpy()\n",
        "        Y_test = Y_test_tensor.cpu().numpy()\n",
        "\n",
        "    # Calcular el AUC\n",
        "    auc_score = roc_auc_score(Y_test, label_preds)\n",
        "    auc_scores.append(auc_score)\n",
        "\n",
        "    # Calcular la curva ROC\n",
        "    fpr, tpr, _ = roc_curve(Y_test, label_preds)\n",
        "    fpr_list.append(fpr)\n",
        "    tpr_list.append(tpr)\n",
        "\n",
        "    print(f\"AUC for fold {fold + 1}: {auc_score:.4f}\")\n",
        "\n",
        "# Promediar y graficar las curvas ROC\n",
        "plt.figure(figsize=(10, 8))\n",
        "for i in range(n_splits):\n",
        "    plt.plot(fpr_list[i], tpr_list[i], label=f'Fold {i+1} (AUC = {auc_scores[i]:.4f})')\n",
        "\n",
        "plt.plot([0, 1], [0, 1], 'k--', lw=2)\n",
        "plt.xlim([0.0, 1.0])\n",
        "plt.ylim([0.0, 1.0])\n",
        "plt.xlabel('False Positive Rate')\n",
        "plt.ylabel('True Positive Rate')\n",
        "plt.title('ROC Curves for Vital Status Classifier across Folds')\n",
        "plt.legend(loc=\"lower right\")\n",
        "plt.show()\n"
      ],
      "metadata": {
        "id": "QbjQzKo-7bfA"
      },
      "execution_count": null,
      "outputs": []
    },
    {
      "cell_type": "code",
      "source": [],
      "metadata": {
        "id": "LdYoRUH-8BEz"
      },
      "execution_count": null,
      "outputs": []
    },
    {
      "cell_type": "code",
      "execution_count": null,
      "metadata": {
        "id": "lhrVLsxk6u_v"
      },
      "outputs": [],
      "source": [
        "# Visualización de UMAP de la última iteración de la segunda época (indexada como epoch 1)\n",
        "visualize_layer_umap(epoch=4, iteration=len(loader) - 1, module_name='feature_extractor', layer_name='fc1', title_suffix='for layer fc2 in FeatureExtractor at epoch 2, last iteration')\n",
        "visualize_layer_umap(epoch=4, iteration=len(loader) - 1, module_name='domain_classifier', layer_name='fc2', title_suffix='for layer fc2 in DomainClassifier at epoch 2, last iteration')\n",
        "visualize_layer_umap(epoch=4, iteration=len(loader) - 1, module_name='label_predictor', layer_name='fc2', title_suffix='for layer fc2 in LabelPredictor at epoch 2, last iteration')\n"
      ]
    },
    {
      "cell_type": "code",
      "execution_count": null,
      "metadata": {
        "id": "toDFc0wn6xQG"
      },
      "outputs": [],
      "source": [
        "# Visualización de UMAP de la última iteración de la segunda época (indexada como epoch 1)\n",
        "visualize_layer_umap(epoch=9, iteration=len(loader) - 1, module_name='feature_extractor', layer_name='fc1', title_suffix='for layer fc2 in FeatureExtractor at epoch 2, last iteration')\n",
        "visualize_layer_umap(epoch=9, iteration=len(loader) - 1, module_name='domain_classifier', layer_name='fc2', title_suffix='for layer fc2 in DomainClassifier at epoch 2, last iteration')\n",
        "visualize_layer_umap(epoch=9, iteration=len(loader) - 1, module_name='label_predictor', layer_name='fc2', title_suffix='for layer fc2 in LabelPredictor at epoch 2, last iteration')\n"
      ]
    },
    {
      "cell_type": "code",
      "execution_count": null,
      "metadata": {
        "id": "h_xkspDLzd3G"
      },
      "outputs": [],
      "source": [
        "# Supongamos que la época 5 es la que te interesa (indexada como 4 en Python)\n",
        "epoch_of_interest = 9  # Indexada desde 0, por lo que la época 5 es epoch 4\n",
        "\n",
        "# Obtener el modelo guardado al final de la época 5\n",
        "iteration_info, model_state_dict = model_saver.get_models()[epoch_of_interest]\n",
        "epoch, iteration = iteration_info\n",
        "\n",
        "print(f\"Modelo guardado al final de la época {epoch + 1}, iteración {iteration + 1}\")\n",
        "model.load_state_dict(model_state_dict)\n"
      ]
    },
    {
      "cell_type": "code",
      "source": [
        "import torch\n",
        "import shap\n",
        "from tqdm import tqdm\n",
        "import numpy as np\n",
        "\n",
        "# Supongamos que la época 10 es la que te interesa (indexada como 9 en Python)\n",
        "epoch_of_interest = 9  # Indexada desde 0, por lo que la época 10 es epoch 9\n",
        "\n",
        "# Obtener el modelo guardado al final de la época 10\n",
        "iteration_info, model_state_dict = model_saver.get_models()[epoch_of_interest]\n",
        "epoch, iteration = iteration_info\n",
        "\n",
        "print(f\"Modelo guardado al final de la época {epoch + 1}, iteración {iteration + 1}\")\n",
        "model.load_state_dict(model_state_dict)\n",
        "\n",
        "# Convertir los datos de miRNAs a un tensor, pero solo las primeras 100 muestras\n",
        "X = df.iloc[:, :-2].values  # Usando las primeras 100 filas y todas las columnas excepto las dos últimas\n",
        "X_tensor = torch.tensor(X, dtype=torch.float32).to(device)\n",
        "\n",
        "# Asegúrate de que el modelo esté en modo de evaluación\n",
        "model.eval()\n",
        "\n",
        "# Crear un modelo combinado que incluya tanto el FeatureExtractor como el LabelPredictor\n",
        "class CombinedModel(torch.nn.Module):\n",
        "    def __init__(self, feature_extractor, label_predictor):\n",
        "        super(CombinedModel, self).__init__()\n",
        "        self.feature_extractor = feature_extractor\n",
        "        self.label_predictor = label_predictor\n",
        "\n",
        "    def forward(self, x):\n",
        "        features = self.feature_extractor(x)\n",
        "        output = self.label_predictor(features)\n",
        "        return output\n",
        "\n",
        "combined_model = CombinedModel(model.feature_extractor, model.label_predictor)\n",
        "\n",
        "# Crear un objeto SHAP explainer utilizando GradientExplainer con el modelo combinado\n",
        "explainer = shap.GradientExplainer(combined_model, X_tensor)\n",
        "\n",
        "# Calcular los valores SHAP para la salida del LabelPredictor directamente sobre X_tensor\n",
        "shap_values = []\n",
        "try:\n",
        "    for i in tqdm(range(X_tensor.shape[0]), desc=\"Calculando valores SHAP\"):\n",
        "        shap_value = explainer.shap_values(X_tensor[i:i+1])\n",
        "        shap_values.append(shap_value)\n",
        "        print(f\"SHAP values for instance {i}: {shap_value}\")\n",
        "\n",
        "    # Convertir la lista de valores SHAP a un numpy array\n",
        "    shap_values_np = np.vstack(shap_values).squeeze()  # Eliminar la tercera dimensión\n",
        "    print(\"Final SHAP values numpy array (shape):\", shap_values_np.shape)\n",
        "\n",
        "    # Usar los nombres de características originales\n",
        "    feature_names_original = df.iloc[:, :-2].columns\n",
        "\n",
        "    # Visualización de los valores SHAP para las características originales\n",
        "    print(\"Generating SHAP summary plot...\")\n",
        "    shap.summary_plot(shap_values_np, X, feature_names=feature_names_original)\n",
        "    print(\"SHAP summary plot generated successfully.\")\n",
        "\n",
        "except Exception as e:\n",
        "    print(f\"An error occurred: {e}\")\n",
        "    print(f\"SHAP values calculated so far: {shap_values}\")\n"
      ],
      "metadata": {
        "id": "QQ489f8Ba9Pm"
      },
      "execution_count": null,
      "outputs": []
    },
    {
      "cell_type": "code",
      "source": [
        "shap_values_np.shape"
      ],
      "metadata": {
        "id": "q5UkkVJRuIMh"
      },
      "execution_count": null,
      "outputs": []
    },
    {
      "cell_type": "code",
      "source": [
        "shap.summary_plot(shap_values_np, X, feature_names=feature_names_original)"
      ],
      "metadata": {
        "id": "_OCD6kjrnYL2"
      },
      "execution_count": null,
      "outputs": []
    },
    {
      "cell_type": "code",
      "source": [],
      "metadata": {
        "id": "rdS1t4dpa9Cg"
      },
      "execution_count": null,
      "outputs": []
    },
    {
      "cell_type": "code",
      "execution_count": null,
      "metadata": {
        "id": "pX2Bkqzj4XH1"
      },
      "outputs": [],
      "source": [
        "from sklearn.model_selection import StratifiedKFold\n",
        "from sklearn.metrics import roc_auc_score, roc_curve\n",
        "import matplotlib.pyplot as plt\n",
        "\n",
        "\n",
        "# Preparar los datos\n",
        "X = df.iloc[:, :-2].values  # Datos de miRNAs\n",
        "Y = df['vital'].values  # Estado vital\n",
        "panels = df['panel'].values  # Etiquetas del dominio (paneles)\n",
        "from sklearn.model_selection import train_test_split\n",
        "\n",
        "\n",
        "# Convertir el estado vital a valores numéricos\n",
        "label_encoder_vital = LabelEncoder()\n",
        "Y = label_encoder_vital.fit_transform(Y)\n",
        "\n",
        "# Definir el número de pliegues\n",
        "n_splits = 10  # Número de pliegues para la validación cruzada\n",
        "skf = StratifiedKFold(n_splits=n_splits)\n",
        "\n",
        "# Listas para almacenar resultados de AUC\n",
        "auc_scores = []\n",
        "fpr_list = []\n",
        "tpr_list = []\n",
        "\n",
        "# Validación cruzada estratificada\n",
        "for fold, (train_index, test_index) in enumerate(skf.split(X, Y)):\n",
        "    print(f\"Fold {fold + 1}/{n_splits}\")\n",
        "\n",
        "    # Dividir los datos en entrenamiento y prueba\n",
        "    X_train, X_test = X[train_index], X[test_index]\n",
        "    Y_train, Y_test = Y[train_index], Y[test_index]\n",
        "\n",
        "    # Convertir a tensores\n",
        "    X_train_tensor = torch.tensor(X_train, dtype=torch.float32).to(device)\n",
        "    Y_train_tensor = torch.tensor(Y_train, dtype=torch.float32).unsqueeze(1).to(device)\n",
        "    X_test_tensor = torch.tensor(X_test, dtype=torch.float32).to(device)\n",
        "    Y_test_tensor = torch.tensor(Y_test, dtype=torch.float32).unsqueeze(1).to(device)\n",
        "\n",
        "    # Evaluar el modelo en el conjunto de prueba\n",
        "    model.eval()\n",
        "    with torch.no_grad():\n",
        "        label_preds, _, _ = model(X_test_tensor)\n",
        "        label_preds = label_preds.cpu().numpy()\n",
        "        Y_test = Y_test_tensor.cpu().numpy()\n",
        "\n",
        "    # Calcular el AUC\n",
        "    auc_score = roc_auc_score(Y_test, label_preds)\n",
        "    auc_scores.append(auc_score)\n",
        "\n",
        "    # Calcular la curva ROC\n",
        "    fpr, tpr, _ = roc_curve(Y_test, label_preds)\n",
        "    fpr_list.append(fpr)\n",
        "    tpr_list.append(tpr)\n",
        "\n",
        "    print(f\"AUC for fold {fold + 1}: {auc_score:.4f}\")\n",
        "\n",
        "# Promediar y graficar las curvas ROC\n",
        "plt.figure(figsize=(10, 8))\n",
        "for i in range(n_splits):\n",
        "    plt.plot(fpr_list[i], tpr_list[i], label=f'Fold {i+1} (AUC = {auc_scores[i]:.4f})')\n",
        "\n",
        "plt.plot([0, 1], [0, 1], 'k--', lw=2)\n",
        "plt.xlim([0.0, 1.0])\n",
        "plt.ylim([0.0, 1.0])\n",
        "plt.xlabel('False Positive Rate')\n",
        "plt.ylabel('True Positive Rate')\n",
        "plt.title('ROC Curves for Label Predictor across Folds')\n",
        "plt.legend(loc=\"lower right\")\n",
        "plt.show()\n"
      ]
    },
    {
      "cell_type": "code",
      "source": [
        "X_tensor.shape"
      ],
      "metadata": {
        "id": "NwkAECYRkBKK"
      },
      "execution_count": null,
      "outputs": []
    },
    {
      "cell_type": "markdown",
      "source": [
        "**Analysis of the Model Outputs:**\n",
        "\n",
        "The result you obtained confirms that the wrapper (`ModelWrapper`) is functioning correctly to return only the first output of the model, which corresponds to the vital status prediction. Below is the analysis of the results:\n",
        "\n",
        "1. **Outputs of the model without the wrapper:**\n",
        "   - **First output:** `tensor([[4.6149e-02], ... , [6.9630e-02]], device='cuda:0')` with dimension `[10286, 1]` corresponds to the vital status prediction (`LabelPredictor`).\n",
        "   - **Second output:** `tensor([[-0.2760,  0.1515, ...]], device='cuda:0')` with dimension `[10286, 33]` corresponds to the domain prediction (`DomainClassifier`).\n",
        "   - **Third output:** `tensor([[ 2.3175e-01, ...]], device='cuda:0')` with dimension `[10286, 5000]` corresponds to some intermediate representation or features from the feature extractor (`FeatureExtractor`).\n",
        "\n",
        "2. **Output of the model with the wrapper:**\n",
        "   - **Output:** `tensor([[4.6149e-02], ... , [6.9630e-02]], device='cuda:0')` with dimension `[10286, 1]` corresponds to the first output of the model, which is the vital status prediction, as expected.\n",
        "\n",
        "**Conclusion:**\n",
        "\n",
        "The wrapper `ModelWrapper` is functioning as intended, returning only the first output of the full model, which is the vital status prediction. This is confirmed by comparing the dimensions:\n",
        "\n",
        "- **Dimensions of all outputs:**\n",
        "  - **First output:** `[10286, 1]`\n",
        "  - **Second output:** `[10286, 33]`\n",
        "  - **Third output:** `[10286, 5000]`\n",
        "\n",
        "- **Dimension of the wrapped output:**\n",
        "  - `[10286, 1]`\n",
        "\n",
        "The dimension `[10286, 1]` of the wrapped output matches the dimension of the vital status prediction, confirming that the wrapper is correctly returning the first output.\n",
        "\n",
        "This behavior ensures that when you calculate SHAP values using the wrapper, you are calculating SHAP values with respect to the vital status prediction (and not the other outputs of the model). This is exactly what you need to analyze how the input features influence the vital status prediction in your DANN model.\n",
        "\n",
        "\n"
      ],
      "metadata": {
        "id": "P9f8Jf5GopPA"
      }
    },
    {
      "cell_type": "code",
      "source": [
        "asdasdasdasdasdasd"
      ],
      "metadata": {
        "id": "KVrWN6MitUQo"
      },
      "execution_count": null,
      "outputs": []
    },
    {
      "cell_type": "code",
      "source": [
        "import shap\n",
        "from sklearn.model_selection import StratifiedKFold\n",
        "from sklearn.metrics import roc_auc_score, roc_curve\n",
        "import matplotlib.pyplot as plt\n",
        "import torch\n",
        "\n",
        "# Preparar los datos\n",
        "X = df.iloc[:, :-2].values  # Datos de miRNAs\n",
        "Y = df['vital'].values  # Estado vital\n",
        "panels = df['panel'].values  # Etiquetas del dominio (paneles)\n",
        "\n",
        "# Convertir el estado vital a valores numéricos\n",
        "label_encoder_vital = LabelEncoder()\n",
        "Y = label_encoder_vital.fit_transform(Y)\n",
        "\n",
        "# Convertir los datos a tensores y moverlos al dispositivo (CPU o GPU)\n",
        "device = torch.device(\"cuda\" if torch.cuda.is_available() else \"cpu\")\n",
        "X_tensor = torch.tensor(X, dtype=torch.float32).to(device)\n",
        "Y_tensor = torch.tensor(Y, dtype=torch.float32).unsqueeze(1).to(device)\n",
        "print(X_tensor.shape)\n",
        "\n",
        "# Supongamos que la época 10 es la que te interesa (indexada como 9 en Python)\n",
        "epoch_of_interest = 9  # Indexada desde 0, por lo que la época 10 es epoch 9\n",
        "\n",
        "# Obtener el modelo guardado al final de la época 9\n",
        "iteration_info, model_state_dict = model_saver.get_models()[epoch_of_interest]\n",
        "epoch, iteration = iteration_info\n",
        "\n",
        "print(f\"Modelo guardado al final de la época {epoch + 1}, iteración {iteration + 1}\")\n",
        "model.load_state_dict(model_state_dict)\n",
        "\n",
        "# Asegúrate de que el modelo completo esté en modo de evaluación\n",
        "model.eval()\n",
        "\n",
        "# Obtener la salida del modelo\n",
        "output = model(X_tensor)\n",
        "\n",
        "# Si el modelo devuelve una tupla, selecciona la primera salida\n",
        "if isinstance(output, tuple):\n",
        "    output = output[0]\n",
        "\n",
        "# Paso 1: Usar GradientExplainer para calcular los valores SHAP basados en las características originales\n",
        "explainer = shap.GradientExplainer(model, X_tensor)\n",
        "shap_values = explainer.shap_values(X_tensor)\n",
        "print(shap_values.shape)\n",
        "\n",
        "# Paso 2: Convertir los valores SHAP a numpy para visualización\n",
        "shap_values_np = np.array(shap_values).squeeze()\n",
        "\n",
        "# Paso 3: Visualización de SHAP con feature_names tomadas del DataFrame original\n",
        "shap.summary_plot(shap_values_np, X, feature_names=df.iloc[:, :-2].columns)\n"
      ],
      "metadata": {
        "id": "X1YyYkYQS5ZK"
      },
      "execution_count": null,
      "outputs": []
    },
    {
      "cell_type": "code",
      "source": [
        "import shap\n",
        "import torch\n",
        "from sklearn.preprocessing import LabelEncoder\n",
        "import numpy as np\n",
        "\n",
        "# Preparar los datos\n",
        "X = df.iloc[:, :-2].values  # Datos de miRNAs\n",
        "Y = df['vital'].values  # Estado vital\n",
        "\n",
        "# Convertir el estado vital a valores numéricos\n",
        "label_encoder_vital = LabelEncoder()\n",
        "Y = label_encoder_vital.fit_transform(Y)\n",
        "\n",
        "# Convertir los datos a tensores y moverlos al dispositivo (CPU o GPU)\n",
        "device = torch.device(\"cuda\" if torch.cuda.is_available() else \"cpu\")\n",
        "X_tensor = torch.tensor(X, dtype=torch.float32).to(device)\n",
        "Y_tensor = torch.tensor(Y, dtype=torch.float32).unsqueeze(1).to(device)\n",
        "\n",
        "# Supongamos que la época 5 es la que te interesa (indexada como 4 en Python)\n",
        "epoch_of_interest = 9  # Indexada desde 0, por lo que la época 10 es epoch 9\n",
        "\n",
        "# Obtener el modelo guardado al final de la época 9\n",
        "iteration_info, model_state_dict = model_saver.get_models()[epoch_of_interest]\n",
        "epoch, iteration = iteration_info\n",
        "\n",
        "print(f\"Modelo guardado al final de la época {epoch + 1}, iteración {iteration + 1}\")\n",
        "model.load_state_dict(model_state_dict)\n",
        "\n",
        "# Asegúrate de que el modelo completo esté en modo de evaluación\n",
        "model.eval()\n",
        "\n",
        "# Paso 1: Crear un objeto DeepExplainer para el modelo\n",
        "explainer = shap.DeepExplainer(model.label_predictor, X_tensor)\n",
        "\n",
        "# Paso 2: Calcular los valores SHAP utilizando el tensor de entrada X_tensor\n",
        "shap_values = explainer.shap_values(X_tensor)\n",
        "\n",
        "# Paso 3: Convertir los valores SHAP a numpy para visualización\n",
        "shap_values_np = np.array(shap_values).squeeze()\n",
        "\n",
        "# Verifica las dimensiones de shap_values para asegurarte de que coincide con lo esperado\n",
        "print(\"Dimensión de shap_values:\", shap_values_np.shape)\n",
        "\n",
        "# Paso 4: Visualización de SHAP con feature_names tomadas del DataFrame original\n",
        "shap.summary_plot(shap_values_np, X, feature_names=df.iloc[:, :-2].columns)\n"
      ],
      "metadata": {
        "id": "Cy_w0XwU7aZ2"
      },
      "execution_count": null,
      "outputs": []
    },
    {
      "cell_type": "code",
      "source": [
        "import shap\n",
        "import torch\n",
        "from sklearn.preprocessing import LabelEncoder\n",
        "import numpy as np\n",
        "\n",
        "# Preparar los datos\n",
        "X = df.iloc[:, :-2].values  # Datos de miRNAs\n",
        "Y = df['vital'].values  # Estado vital\n",
        "panels = df['panel'].values  # Etiquetas del dominio (paneles)\n",
        "\n",
        "# Convertir el estado vital a valores numéricos\n",
        "label_encoder_vital = LabelEncoder()\n",
        "Y = label_encoder_vital.fit_transform(Y)\n",
        "\n",
        "# Convertir los datos a tensores y moverlos al dispositivo (CPU o GPU)\n",
        "device = torch.device(\"cuda\" if torch.cuda.is_available() else \"cpu\")\n",
        "X_tensor = torch.tensor(X, dtype=torch.float32).to(device)\n",
        "Y_tensor = torch.tensor(Y, dtype=torch.float32).unsqueeze(1).to(device)\n",
        "\n",
        "# Supongamos que la época 5 es la que te interesa (indexada como 4 en Python)\n",
        "epoch_of_interest = 9  # Indexada desde 0, por lo que la época 10 es epoch 9\n",
        "\n",
        "# Obtener el modelo guardado al final de la época 9\n",
        "iteration_info, model_state_dict = model_saver.get_models()[epoch_of_interest]\n",
        "epoch, iteration = iteration_info\n",
        "\n",
        "print(f\"Modelo guardado al final de la época {epoch + 1}, iteración {iteration + 1}\")\n",
        "model.load_state_dict(model_state_dict)\n",
        "\n",
        "# Asegúrate de que el modelo completo esté en modo de evaluación\n",
        "model.eval()\n",
        "\n",
        "# Verificar las salidas del modelo sin el wrapper\n",
        "with torch.no_grad():\n",
        "    all_outputs = model(X_tensor)\n",
        "    print(\"Salidas del modelo (sin wrapper):\", all_outputs)\n",
        "    print(\"Dimensiones de todas las salidas:\", [output.shape for output in all_outputs])\n",
        "\n",
        "# Crear una clase wrapper para el modelo\n",
        "# Esta clase `ModelWrapper` envuelve el modelo completo, pero en la función `forward`\n",
        "# devuelve solo la primera salida del modelo (que corresponde a la predicción del estado vital).\n",
        "class ModelWrapper(torch.nn.Module):\n",
        "    def __init__(self, model):\n",
        "        super(ModelWrapper, self).__init__()\n",
        "        self.model = model\n",
        "\n",
        "    def forward(self, x):\n",
        "        return self.model(x)[0]  # Retornar solo la primera salida (la predicción de la etiqueta de vitalidad)\n",
        "\n",
        "# Instanciar la clase wrapper\n",
        "wrapped_model = ModelWrapper(model)\n",
        "\n",
        "# Verificar la salida del modelo con el wrapper\n",
        "with torch.no_grad():\n",
        "    wrapped_output = wrapped_model(X_tensor)\n",
        "    print(\"Salida del modelo (con wrapper):\", wrapped_output)\n",
        "    print(\"Dimensión de la salida envuelta:\", wrapped_output.shape)\n",
        "\n",
        "# Paso 1: Usar GradientExplainer para calcular los valores SHAP basados en las características originales\n",
        "explainer = shap.DeepExplainer(wrapped_model, X_tensor)\n",
        "shap_values = explainer.shap_values(X_tensor)\n",
        "\n",
        "# Paso 2: Convertir los valores SHAP a numpy para visualización\n",
        "shap_values_np = np.array(shap_values).squeeze()\n",
        "\n",
        "# Verifica las dimensiones de shap_values para asegurarte de que coincide con lo esperado\n",
        "print(\"Dimensión de shap_values:\", shap_values_np.shape)\n",
        "\n",
        "# Paso 3: Visualización de SHAP con feature_names tomadas del DataFrame original\n",
        "shap.summary_plot(shap_values_np, X, feature_names=df.iloc[:, :-2].columns)\n"
      ],
      "metadata": {
        "id": "GoPFZx9FoKqv"
      },
      "execution_count": null,
      "outputs": []
    },
    {
      "cell_type": "code",
      "source": [
        "shap.summary_plot(shap_values_np, X, feature_names=df.iloc[:, :-2].columns)\n",
        "\n"
      ],
      "metadata": {
        "id": "b6Vfeqsp2hhN"
      },
      "execution_count": null,
      "outputs": []
    },
    {
      "cell_type": "code",
      "source": [
        "shap.summary_plot(shap_values_np, X, feature_names=df.iloc[:, :-2].columns)"
      ],
      "metadata": {
        "id": "eCnTIiCJ-3b9"
      },
      "execution_count": null,
      "outputs": []
    },
    {
      "cell_type": "code",
      "source": [
        "shap.summary_plot(shap_values_np, X, feature_names=df.iloc[:, :-2].columns)\n"
      ],
      "metadata": {
        "id": "jGeUiZFR-3z4"
      },
      "execution_count": null,
      "outputs": []
    },
    {
      "cell_type": "code",
      "source": [
        "import shap\n",
        "from sklearn.model_selection import StratifiedKFold\n",
        "from sklearn.metrics import roc_auc_score, roc_curve\n",
        "import matplotlib.pyplot as plt\n",
        "import torch\n",
        "\n",
        "# Preparar los datos\n",
        "X = df.iloc[:, :-2].values  # Datos de miRNAs\n",
        "Y = df['vital'].values  # Estado vital\n",
        "panels = df['panel'].values  # Etiquetas del dominio (paneles)\n",
        "\n",
        "# Convertir el estado vital a valores numéricos\n",
        "label_encoder_vital = LabelEncoder()\n",
        "Y = label_encoder_vital.fit_transform(Y)\n",
        "\n",
        "# Convertir los datos a tensores y moverlos al dispositivo (CPU o GPU)\n",
        "device = torch.device(\"cuda\" if torch.cuda.is_available() else \"cpu\")\n",
        "X_tensor = torch.tensor(X, dtype=torch.float32).to(device)\n",
        "Y_tensor = torch.tensor(Y, dtype=torch.float32).unsqueeze(1).to(device)\n",
        "\n",
        "# Supongamos que la época 5 es la que te interesa (indexada como 4 en Python)\n",
        "epoch_of_interest = 9  # Indexada desde 0, por lo que la época 10 es epoch 9\n",
        "\n",
        "# Obtener el modelo guardado al final de la época 9\n",
        "iteration_info, model_state_dict = model_saver.get_models()[epoch_of_interest]\n",
        "epoch, iteration = iteration_info\n",
        "\n",
        "print(f\"Modelo guardado al final de la época {epoch + 1}, iteración {iteration + 1}\")\n",
        "model.load_state_dict(model_state_dict)\n",
        "\n",
        "# Asegúrate de que el modelo completo esté en modo de evaluación\n",
        "model.eval()\n",
        "\n",
        "# Crear una clase wrapper para el modelo\n",
        "class ModelWrapper(torch.nn.Module):\n",
        "    def __init__(self, model):\n",
        "        super(ModelWrapper, self).__init__()\n",
        "        self.model = model\n",
        "\n",
        "    def forward(self, x):\n",
        "        return self.model(x)[0]  # Retornar solo la primera salida\n",
        "\n",
        "# Instanciar la clase wrapper\n",
        "wrapped_model = ModelWrapper(model)\n",
        "\n",
        "# Paso 1: Usar GradientExplainer para calcular los valores SHAP basados en las características originales\n",
        "explainer = shap.GradientExplainer(wrapped_model, X_tensor,batch_size = 150)\n",
        "shap_values = explainer.shap_values(X_tensor)\n",
        "\n",
        "# Paso 2: Convertir los valores SHAP a numpy para visualización\n",
        "shap_values_np = np.array(shap_values).squeeze()\n",
        "\n",
        "# Paso 3: Visualización de SHAP con feature_names tomadas del DataFrame original\n",
        "shap.summary_plot(shap_values_np, X, feature_names=df.iloc[:, :-2].columns)\n"
      ],
      "metadata": {
        "id": "ujUp07ZvqmgC"
      },
      "execution_count": null,
      "outputs": []
    },
    {
      "cell_type": "code",
      "source": [
        "sdasdasdasdasdasdasdasd"
      ],
      "metadata": {
        "id": "DomOdD_IymHk"
      },
      "execution_count": null,
      "outputs": []
    },
    {
      "cell_type": "code",
      "execution_count": null,
      "metadata": {
        "id": "onV5GlO2Br6b"
      },
      "outputs": [],
      "source": [
        "import shap\n",
        "from sklearn.model_selection import StratifiedKFold\n",
        "from sklearn.metrics import roc_auc_score, roc_curve\n",
        "import matplotlib.pyplot as plt\n",
        "import torch\n",
        "\n",
        "# Preparar los datos\n",
        "X = df.iloc[:, :-2].values  # Datos de miRNAs\n",
        "Y = df['vital'].values  # Estado vital\n",
        "panels = df['panel'].values  # Etiquetas del dominio (paneles)\n",
        "\n",
        "# Convertir el estado vital a valores numéricos\n",
        "label_encoder_vital = LabelEncoder()\n",
        "Y = label_encoder_vital.fit_transform(Y)\n",
        "\n",
        "# Convertir los datos a tensores y moverlos al dispositivo (CPU o GPU)\n",
        "device = torch.device(\"cuda\" if torch.cuda.is_available() else \"cpu\")\n",
        "X_tensor = torch.tensor(X, dtype=torch.float32).to(device)\n",
        "Y_tensor = torch.tensor(Y, dtype=torch.float32).unsqueeze(1).to(device)\n",
        "\n",
        "# Supongamos que la época 5 es la que te interesa (indexada como 4 en Python)\n",
        "epoch_of_interest = 9  # Indexada desde 0, por lo que la época 10 es epoch 9\n",
        "\n",
        "# Obtener el modelo guardado al final de la época 9\n",
        "iteration_info, model_state_dict = model_saver.get_models()[epoch_of_interest]\n",
        "epoch, iteration = iteration_info\n",
        "\n",
        "print(f\"Modelo guardado al final de la época {epoch + 1}, iteración {iteration + 1}\")\n",
        "model.load_state_dict(model_state_dict)\n",
        "\n",
        "# Asegúrate de que el modelo completo esté en modo de evaluación\n",
        "model.eval()\n",
        "\n",
        "# Crear una clase wrapper para el modelo\n",
        "class ModelWrapper(torch.nn.Module):\n",
        "    def __init__(self, model):\n",
        "        super(ModelWrapper, self).__init__()\n",
        "        self.model = model\n",
        "\n",
        "    def forward(self, x):\n",
        "        return self.model(x)[0]  # Retornar solo la primera salida\n",
        "\n",
        "# Instanciar la clase wrapper\n",
        "wrapped_model = ModelWrapper(model)\n",
        "\n",
        "# Paso 1: Usar GradientExplainer para calcular los valores SHAP basados en las características originales\n",
        "explainer = shap.GradientExplainer(wrapped_model, X_tensor)\n",
        "shap_values = explainer.shap_values(X_tensor)\n",
        "\n",
        "# Paso 2: Convertir los valores SHAP a numpy para visualización\n",
        "shap_values_np = np.array(shap_values).squeeze()\n",
        "\n",
        "# Paso 3: Visualización de SHAP con feature_names tomadas del DataFrame original\n",
        "shap.summary_plot(shap_values_np, X, feature_names=df.iloc[:, :-2].columns)\n"
      ]
    },
    {
      "cell_type": "code",
      "source": [
        "import shap\n",
        "import torch\n",
        "\n",
        "# Asumiendo que el modelo DANN ya ha sido definido y entrenado\n",
        "\n",
        "# Instanciar y cargar el modelo como se hace en el código original\n",
        "input_dim = X.shape[1]\n",
        "num_domains = len(label_encoder_panel.classes_)\n",
        "model = DANN(input_dim, num_domains).to(device)\n",
        "\n",
        "# Cargar el modelo guardado al final de una época en particular\n",
        "epoch_of_interest = 9  # Ejemplo, puedes ajustar la época de interés\n",
        "iteration_info, model_state_dict = model_saver.get_models()[epoch_of_interest]\n",
        "model.load_state_dict(model_state_dict)\n",
        "\n",
        "# Asegurarse de que el modelo esté en modo de evaluación\n",
        "model.eval()\n",
        "\n",
        "# Crear una clase wrapper para obtener solo la salida del LabelPredictor\n",
        "class LabelPredictorWrapper(torch.nn.Module):\n",
        "    def __init__(self, model):\n",
        "        super(LabelPredictorWrapper, self).__init__()\n",
        "        self.label_predictor = model.label_predictor\n",
        "\n",
        "    def forward(self, x):\n",
        "        return self.label_predictor(x)\n",
        "\n",
        "# Instanciar el wrapper\n",
        "label_predictor_model = LabelPredictorWrapper(model)\n",
        "\n",
        "# Usar GradientExplainer para calcular los valores SHAP basados en las características originales\n",
        "explainer = shap.GradientExplainer(label_predictor_model, X_tensor)\n",
        "shap_values = explainer.shap_values(X_tensor)\n",
        "\n",
        "# Convertir los valores SHAP a numpy para visualización\n",
        "shap_values_np = np.array(shap_values).squeeze()\n",
        "\n",
        "# Visualización de SHAP\n",
        "shap.summary_plot(shap_values_np, X, feature_names=df.iloc[:, :-2].columns)\n"
      ],
      "metadata": {
        "id": "ghUSogvJnBZg"
      },
      "execution_count": null,
      "outputs": []
    },
    {
      "cell_type": "code",
      "execution_count": null,
      "metadata": {
        "id": "dec4KHkDP1TB"
      },
      "outputs": [],
      "source": [
        "\n",
        "# Paso 2: Usar GradientExplainer para calcular los valores SHAP\n",
        "explainer = shap.GradientExplainer(label_predictor_model,X)\n",
        "shap_values = explainer.shap_values(X)\n",
        "\n",
        "# Paso 3: Convertir los tensores de entrada y los valores SHAP a numpy para visualización\n",
        "features_np = X.cpu().numpy()\n",
        "shap_values_np = np.array(shap_values).squeeze()\n",
        "\n",
        "# Paso 4: Visualización de SHAP con feature_names tomadas del DataFrame original\n",
        "shap.summary_plot(shap_values_np, features_np, feature_names=df.iloc[:, :-2].columns)"
      ]
    },
    {
      "cell_type": "code",
      "execution_count": null,
      "metadata": {
        "id": "RrMs6EmsOntT"
      },
      "outputs": [],
      "source": [
        "features_np.shape"
      ]
    },
    {
      "cell_type": "code",
      "execution_count": null,
      "metadata": {
        "id": "cF4NrvEHOdTY"
      },
      "outputs": [],
      "source": [
        "len(df.iloc[:, :-2].columns)"
      ]
    },
    {
      "cell_type": "code",
      "execution_count": null,
      "metadata": {
        "id": "dNkEpQpHIwIg"
      },
      "outputs": [],
      "source": [
        "shap.summary_plot(shap_values_np, features_np, feature_names=df.iloc[:, :-2].columns,max_display=50 )\n"
      ]
    },
    {
      "cell_type": "code",
      "execution_count": null,
      "metadata": {
        "id": "WxyfCYZ3OXnh"
      },
      "outputs": [],
      "source": [
        "shap_values_np.shape"
      ]
    },
    {
      "cell_type": "code",
      "execution_count": null,
      "metadata": {
        "id": "PEbS7RgTIUQo"
      },
      "outputs": [],
      "source": [
        "\n",
        "pd.DataFrame(shap_values_np, columns=df.iloc[:, :-2].columns,index=df.index)"
      ]
    }
  ],
  "metadata": {
    "accelerator": "GPU",
    "colab": {
      "gpuType": "L4",
      "machine_shape": "hm",
      "provenance": [],
      "include_colab_link": true
    },
    "kernelspec": {
      "display_name": "Python 3",
      "name": "python3"
    },
    "language_info": {
      "name": "python"
    }
  },
  "nbformat": 4,
  "nbformat_minor": 0
}